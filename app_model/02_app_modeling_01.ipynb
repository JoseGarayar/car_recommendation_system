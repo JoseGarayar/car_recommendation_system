{
 "cells": [
  {
   "cell_type": "markdown",
   "metadata": {},
   "source": [
    "Import libraries"
   ]
  },
  {
   "cell_type": "code",
   "execution_count": 1,
   "metadata": {},
   "outputs": [],
   "source": [
    "import pandas as pd\n",
    "import numpy as np\n",
    "import sklearn\n",
    "import random\n",
    "import os\n",
    " \n",
    "from sklearn.model_selection import cross_validate, ParameterGrid, train_test_split, KFold\n",
    "from sklearn.metrics import r2_score\n",
    "from sklearn.pipeline import Pipeline\n",
    "from sklearn.compose import ColumnTransformer, make_column_selector\n",
    "\n",
    "from category_encoders.cat_boost import CatBoostEncoder\n",
    "\n",
    "from xgboost import XGBRegressor\n",
    "\n",
    "sklearn.set_config(transform_output = \"pandas\")"
   ]
  },
  {
   "cell_type": "code",
   "execution_count": 2,
   "metadata": {},
   "outputs": [
    {
     "data": {
      "text/html": [
       "<div>\n",
       "<style scoped>\n",
       "    .dataframe tbody tr th:only-of-type {\n",
       "        vertical-align: middle;\n",
       "    }\n",
       "\n",
       "    .dataframe tbody tr th {\n",
       "        vertical-align: top;\n",
       "    }\n",
       "\n",
       "    .dataframe thead th {\n",
       "        text-align: right;\n",
       "    }\n",
       "</style>\n",
       "<table border=\"1\" class=\"dataframe\">\n",
       "  <thead>\n",
       "    <tr style=\"text-align: right;\">\n",
       "      <th></th>\n",
       "      <th>Age</th>\n",
       "      <th>Brands</th>\n",
       "      <th>Cilinder</th>\n",
       "      <th>Color</th>\n",
       "      <th>Currency</th>\n",
       "      <th>Engine</th>\n",
       "      <th>Fuel_type</th>\n",
       "      <th>KM</th>\n",
       "      <th>Location</th>\n",
       "      <th>Models</th>\n",
       "      <th>Price</th>\n",
       "      <th>Transmission</th>\n",
       "      <th>Upholstery</th>\n",
       "      <th>Urlpic</th>\n",
       "      <th>Version</th>\n",
       "      <th>Year</th>\n",
       "    </tr>\n",
       "  </thead>\n",
       "  <tbody>\n",
       "    <tr>\n",
       "      <th>0</th>\n",
       "      <td>1.0</td>\n",
       "      <td>SUZUKI</td>\n",
       "      <td>3.0</td>\n",
       "      <td>rojo</td>\n",
       "      <td>USD</td>\n",
       "      <td>1000.0</td>\n",
       "      <td>gasolina</td>\n",
       "      <td>16684.0</td>\n",
       "      <td>Lima</td>\n",
       "      <td>S-PRESSO</td>\n",
       "      <td>9800.0</td>\n",
       "      <td>mecanica</td>\n",
       "      <td>tela</td>\n",
       "      <td>https://cde.neoauto.pe/autos_usados/360x240/66...</td>\n",
       "      <td>4x2</td>\n",
       "      <td>2023.0</td>\n",
       "    </tr>\n",
       "    <tr>\n",
       "      <th>1</th>\n",
       "      <td>1.0</td>\n",
       "      <td>DFSK</td>\n",
       "      <td>4.0</td>\n",
       "      <td>blanco</td>\n",
       "      <td>USD</td>\n",
       "      <td>1500.0</td>\n",
       "      <td>gas_glp</td>\n",
       "      <td>11054.0</td>\n",
       "      <td>Lima</td>\n",
       "      <td>GLORY 500</td>\n",
       "      <td>12000.0</td>\n",
       "      <td>mecanica</td>\n",
       "      <td>tela</td>\n",
       "      <td>https://cde.neoauto.pe/autos_usados/360x240/70...</td>\n",
       "      <td>delantera</td>\n",
       "      <td>2023.0</td>\n",
       "    </tr>\n",
       "    <tr>\n",
       "      <th>2</th>\n",
       "      <td>1.0</td>\n",
       "      <td>TOYOTA</td>\n",
       "      <td>4.0</td>\n",
       "      <td>rojo</td>\n",
       "      <td>USD</td>\n",
       "      <td>1300.0</td>\n",
       "      <td>gas_gnv</td>\n",
       "      <td>15500.0</td>\n",
       "      <td>Lima</td>\n",
       "      <td>YARIS</td>\n",
       "      <td>15500.0</td>\n",
       "      <td>mecanica</td>\n",
       "      <td>tela</td>\n",
       "      <td>https://cde.neoauto.pe/autos_usados/360x240/70...</td>\n",
       "      <td>delantera</td>\n",
       "      <td>2023.0</td>\n",
       "    </tr>\n",
       "    <tr>\n",
       "      <th>3</th>\n",
       "      <td>4.0</td>\n",
       "      <td>FORD</td>\n",
       "      <td>6.0</td>\n",
       "      <td>blanco</td>\n",
       "      <td>USD</td>\n",
       "      <td>3500.0</td>\n",
       "      <td>gasolina</td>\n",
       "      <td>12500.0</td>\n",
       "      <td>Lima</td>\n",
       "      <td>RAPTOR</td>\n",
       "      <td>75900.0</td>\n",
       "      <td>automatica_secuencial</td>\n",
       "      <td>tela</td>\n",
       "      <td>https://cde.neoauto.pe/autos_usados/360x240/30...</td>\n",
       "      <td>4x4</td>\n",
       "      <td>2020.0</td>\n",
       "    </tr>\n",
       "    <tr>\n",
       "      <th>4</th>\n",
       "      <td>1.0</td>\n",
       "      <td>KIA</td>\n",
       "      <td>4.0</td>\n",
       "      <td>gris</td>\n",
       "      <td>USD</td>\n",
       "      <td>1999.0</td>\n",
       "      <td>gasolina</td>\n",
       "      <td>52130.0</td>\n",
       "      <td>Lima</td>\n",
       "      <td>SPORTAGE</td>\n",
       "      <td>27900.0</td>\n",
       "      <td>mecanica</td>\n",
       "      <td>cuero</td>\n",
       "      <td>https://cde.neoauto.pe/autos_usados/360x240/70...</td>\n",
       "      <td>4x2</td>\n",
       "      <td>2023.0</td>\n",
       "    </tr>\n",
       "  </tbody>\n",
       "</table>\n",
       "</div>"
      ],
      "text/plain": [
       "   Age  Brands  Cilinder   Color Currency  Engine Fuel_type       KM Location  \\\n",
       "0  1.0  SUZUKI       3.0    rojo      USD  1000.0  gasolina  16684.0     Lima   \n",
       "1  1.0    DFSK       4.0  blanco      USD  1500.0   gas_glp  11054.0     Lima   \n",
       "2  1.0  TOYOTA       4.0    rojo      USD  1300.0   gas_gnv  15500.0     Lima   \n",
       "3  4.0    FORD       6.0  blanco      USD  3500.0  gasolina  12500.0     Lima   \n",
       "4  1.0     KIA       4.0    gris      USD  1999.0  gasolina  52130.0     Lima   \n",
       "\n",
       "      Models    Price           Transmission Upholstery  \\\n",
       "0   S-PRESSO   9800.0               mecanica       tela   \n",
       "1  GLORY 500  12000.0               mecanica       tela   \n",
       "2      YARIS  15500.0               mecanica       tela   \n",
       "3     RAPTOR  75900.0  automatica_secuencial       tela   \n",
       "4   SPORTAGE  27900.0               mecanica      cuero   \n",
       "\n",
       "                                              Urlpic    Version    Year  \n",
       "0  https://cde.neoauto.pe/autos_usados/360x240/66...        4x2  2023.0  \n",
       "1  https://cde.neoauto.pe/autos_usados/360x240/70...  delantera  2023.0  \n",
       "2  https://cde.neoauto.pe/autos_usados/360x240/70...  delantera  2023.0  \n",
       "3  https://cde.neoauto.pe/autos_usados/360x240/30...        4x4  2020.0  \n",
       "4  https://cde.neoauto.pe/autos_usados/360x240/70...        4x2  2023.0  "
      ]
     },
     "execution_count": 2,
     "metadata": {},
     "output_type": "execute_result"
    }
   ],
   "source": [
    "data = pd.read_csv('datasets/clean/data.csv')\n",
    "data.head()"
   ]
  },
  {
   "cell_type": "code",
   "execution_count": 3,
   "metadata": {},
   "outputs": [],
   "source": [
    "cols_to_remove = ['Urlpic', 'Year', 'Currency']\n",
    "data.drop(columns = cols_to_remove, inplace = True)\n",
    "data_clean = data.dropna(subset = ['Price'])"
   ]
  },
  {
   "cell_type": "code",
   "execution_count": 4,
   "metadata": {},
   "outputs": [],
   "source": [
    "X = data_clean.drop(columns = 'Price').copy()\n",
    "y = data_clean['Price'].copy()"
   ]
  },
  {
   "cell_type": "markdown",
   "metadata": {},
   "source": [
    "Declara hyperparameters"
   ]
  },
  {
   "cell_type": "code",
   "execution_count": 5,
   "metadata": {},
   "outputs": [
    {
     "name": "stdout",
     "output_type": "stream",
     "text": [
      "Grid size: 34560\n",
      "Seed param size: 34560\n",
      "Selected combinations: 1000\n"
     ]
    }
   ],
   "source": [
    "param_grid = {'max_depth': [3, 4, 5, 6],\n",
    "              'min_child_weight': [0.01, 0.1, 1, 5, 10],\n",
    "              'reg_lambda': [0.01, 0.1, 1, 10],\n",
    "              'alpha': [0, 0.1, 0.5, 1, 5, 10],\n",
    "              'gamma': [0, 0.1, 0.5, 1, 5, 10],\n",
    "              'learning_rate': [0.01, 0.02, 0.05, 0.1],\n",
    "              'subsample': [0.5, 0.7, 1]}\n",
    "\n",
    "seed_param = list(ParameterGrid(param_grid))\n",
    "print(f'Grid size: {len(seed_param)}')\n",
    "\n",
    "random.seed(123)\n",
    "\n",
    "seed_param = random.sample(seed_param, len(seed_param))\n",
    "print(f'Seed param size: {len(seed_param)}')\n",
    "\n",
    "random.seed(None)\n",
    "\n",
    "# select iterations\n",
    "seed_param = seed_param[0:1000]\n",
    "print(f'Selected combinations: {len(seed_param)}')\n"
   ]
  },
  {
   "cell_type": "markdown",
   "metadata": {},
   "source": [
    "Create multisession manager"
   ]
  },
  {
   "cell_type": "code",
   "execution_count": 6,
   "metadata": {},
   "outputs": [
    {
     "name": "stdout",
     "output_type": "stream",
     "text": [
      "Created Register: datasets/manager/estimator_manager.csv\n"
     ]
    }
   ],
   "source": [
    "name_register = 'datasets/manager/estimator_manager.csv'\n",
    "if not os.path.exists(name_register):\n",
    "    setup = pd.DataFrame(list(range(len(seed_param))), columns = ['iteration'])\n",
    "    setup['status'] = 'Free'\n",
    "    setup.to_csv(name_register, index = False)\n",
    "    print(f'Created Register: {name_register}')\n",
    "else:\n",
    "    setup = pd.read_csv(name_register)\n",
    "    print(f'Read Register: {name_register}')\n",
    "    print(setup['status'].value_counts())"
   ]
  },
  {
   "cell_type": "code",
   "execution_count": 7,
   "metadata": {},
   "outputs": [
    {
     "data": {
      "text/plain": [
       "1000"
      ]
     },
     "execution_count": 7,
     "metadata": {},
     "output_type": "execute_result"
    }
   ],
   "source": [
    "iter_to_process = setup.loc[setup['status'] == 'Free', 'iteration'].tolist()\n",
    "n_task_left = setup[setup['status'] == 'Free'].shape[0]\n",
    "n_task_left"
   ]
  },
  {
   "cell_type": "markdown",
   "metadata": {},
   "source": [
    "Declare input for multisession"
   ]
  },
  {
   "cell_type": "code",
   "execution_count": 8,
   "metadata": {},
   "outputs": [
    {
     "data": {
      "text/plain": [
       "10"
      ]
     },
     "execution_count": 8,
     "metadata": {},
     "output_type": "execute_result"
    }
   ],
   "source": [
    "step = 100\n",
    "ntasks = int(np.ceil(len(seed_param) / step))\n",
    "ntasks"
   ]
  },
  {
   "cell_type": "code",
   "execution_count": null,
   "metadata": {},
   "outputs": [],
   "source": [
    "def multisession(nn):\n",
    "    iteration = nn * step\n",
    "    print(f'Group: ({nn + 1} / {ntasks}), Iteration = {iteration}')\n",
    "\n",
    "    results = pd.DataFrame()\n",
    "    for i, param in enumerate(seed_param[iteration: iteration + step]):\n",
    "\n",
    "        for seed in range(100):\n",
    "            \n",
    "            trainval, test = train_test_split(data_clean, train_size = 0.8, shuffle = True, random_state = seed)\n",
    "\n",
    "            # Get X and y matrices\n",
    "            X = trainval.drop(columns = 'Price').copy()\n",
    "            y = trainval['Price'].copy()\n",
    "            \n",
    "            X_test = test.drop(columns = 'Price').copy()\n",
    "            y_test = test['Price'].copy()\n",
    "\n",
    "            cv = KFold(n_splits = 5, shuffle = True, random_state = seed)\n",
    "\n",
    "            cv_result = list()\n",
    "            for n_iter, (train_index, val_index) in enumerate(cv.split(X, y)):\n",
    "                X_train, y_train = X.iloc[train_index], y.iloc[train_index]\n",
    "                X_val, y_val = X.iloc[val_index], y.iloc[val_index]\n",
    "\n",
    "                # declare encoder\n",
    "                encoder = CatBoostEncoder(handle_missing = 'return_nan',\n",
    "                                        handle_unknown = 'return_nan')\n",
    "                \n",
    "                # declare transformer\n",
    "                transformer = ColumnTransformer([('enc', encoder, make_column_selector(dtype_include = ['object', 'category']))],\n",
    "                                                remainder = 'passthrough',\n",
    "                                                verbose_feature_names_out = False)\n",
    "                \n",
    "                # declare estimator\n",
    "                estimator = XGBRegressor(objective = 'reg:squarederror',\n",
    "                                         eval_metric = r2_score,\n",
    "                                         n_estimators = 500,\n",
    "                                         early_stopping_rounds = 15,\n",
    "                                         **param)\n",
    "                \n",
    "                # create preprocessing\n",
    "                preprocessing = Pipeline([('enc', encoder), ('trs', transformer)])\n",
    "\n",
    "                # fit preprocessing\n",
    "                X_train = preprocessing.fit_transform(X_train, y_train)\n",
    "                X_val = preprocessing.transform(X_val)\n",
    "                X_test = preprocessing.transform(X_test)\n",
    "\n",
    "                # fit estimator\n",
    "                estimator.fit(X = X_train,\n",
    "                                y = y_train,\n",
    "                                eval_set = [(X_train, y_train),\n",
    "                                            (X_val, y_val),\n",
    "                                            (X_test, y_test)],\n",
    "                                verbose = 0)\n",
    "                \n",
    "                # extract results\n",
    "                result = estimator.evals_result()\n",
    "\n",
    "                # save metrics\n",
    "                result_iter = pd.DataFrame({'iter': [i for _ in range(len(result['validation_0']['r2_score']))],\n",
    "                                            'seed': [seed for _ in range(len(result['validation_0']['r2_score']))],\n",
    "                                            'n_iter_fold': [n_iter for _ in range(len(result['validation_0']['r2_score']))],\n",
    "                                            'n_trees': [k for k in range(len(result['validation_0']['r2_score']))],\n",
    "                                            'train_r2_score': result['validation_0']['r2_score'],\n",
    "                                            'val_r2_score': result['validation_1']['r2_score'],\n",
    "                                            'test_r2_score': result['validation_2']['r2_score']})\n",
    "                \n",
    "                result_iter['overfitting'] = result_iter['train_r2_score'] - result_iter[['val_r2_score', 'test_r2_score']].min(axis = 1)\n",
    "\n",
    "                v1 = int(result_iter.loc[result_iter['val_r2_score'].idxmax()]['n_trees'])\n",
    "                if len(result_iter[result_iter['overfitting'] < 0.1]) > 0:\n",
    "                    v2 = result_iter.sort_values(by = 'val_r2_score', ascending = False, ignore_index = True)\n",
    "                    v2 = int(v2[v2['overfitting'] < 0.1]['n_trees'].iloc[0])\n",
    "                else:\n",
    "                    v2 = v1\n",
    "\n",
    "                opt = result_iter[result_iter['n_trees'] == min(v1, v2)]\n",
    "                best = result_iter[result_iter['n_trees'] == v1]\n",
    "\n",
    "                record = {'iter': i,\n",
    "                            'seed': seed,\n",
    "                            'cv_fold': n_iter,\n",
    "                            'params': str(param),\n",
    "                            'n_trees': len(result_iter),\n",
    "                            'opt_n_trees': opt['n_trees'].iloc[0],\n",
    "                            'opt_train': opt['train_r2_score'].iloc[0],\n",
    "                            'opt_val': opt['val_r2_score'].iloc[0],\n",
    "                            'opt_test': opt['test_r2_score'].iloc[0],\n",
    "                            'opt_overfitting': opt['overfitting'].iloc[0],\n",
    "                            'best_n_trees': best['n_trees'].iloc[0],\n",
    "                            'best_train': best['train_r2_score'].iloc[0],\n",
    "                            'best_val': best['val_r2_score'].iloc[0],\n",
    "                            'best_test': best['test_r2_score'].iloc[0],\n",
    "                            'best_overfitting': best['overfitting'].iloc[0]}\n",
    "\n",
    "                # save record\n",
    "                cv_result.append(record)\n",
    "\n",
    "            # choose best fold\n",
    "            cv_result = pd.DataFrame(cv_result)\n",
    "\n",
    "            cv_result_record = cv_result[cv_result['best_overfitting'] == cv_result['best_overfitting'].min()]\n",
    "\n",
    "            # save record into main dataframe\n",
    "            results = pd.concat([results, cv_result_record], axis = 0, ignore_index = True)\n",
    "            results.to_csv(f'tuning/comb_xgboost_ss_p_{str(nn).zfill(4)}.csv', index = False)\n",
    "\n",
    "\n",
    "\n",
    "while n_task_left > 0:\n",
    "    nn = iter_to_process[0]\n",
    "    setup = pd.read_csv(name_register)\n",
    "    setup.loc[setup['iteration'] == nn, 'status'] = 'Processing'\n",
    "    setup.to_csv(name_register, index = False)\n",
    "    multisession(nn)\n",
    "    setup = pd.read_csv(name_register)\n",
    "    setup.loc[setup['iteration'] == nn, 'status'] = 'Done'\n",
    "    iter_to_process = setup.loc[setup['status'] == 'Free', 'iteration'].tolist()\n",
    "    n_task_left = setup[setup['status'] == 'Free'].shape[0]\n",
    "    setup.to_csv(name_register, index = False)\n",
    "    print(f'Iteration {nn} completed')\n"
   ]
  }
 ],
 "metadata": {
  "kernelspec": {
   "display_name": "Python 3 (ipykernel)",
   "language": "python",
   "name": "python3"
  },
  "language_info": {
   "codemirror_mode": {
    "name": "ipython",
    "version": 3
   },
   "file_extension": ".py",
   "mimetype": "text/x-python",
   "name": "python",
   "nbconvert_exporter": "python",
   "pygments_lexer": "ipython3",
   "version": "3.11.9"
  }
 },
 "nbformat": 4,
 "nbformat_minor": 2
}
