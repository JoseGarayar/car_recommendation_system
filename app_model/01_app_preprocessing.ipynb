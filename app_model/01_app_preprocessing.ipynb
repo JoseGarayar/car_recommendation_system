{
 "cells": [
  {
   "cell_type": "markdown",
   "metadata": {},
   "source": [
    "# Notebook configuration"
   ]
  },
  {
   "cell_type": "code",
   "execution_count": 1,
   "metadata": {},
   "outputs": [],
   "source": [
    "import pandas as pd\n",
    "import numpy as np\n",
    "import warnings\n",
    "warnings.filterwarnings('ignore')"
   ]
  },
  {
   "cell_type": "markdown",
   "metadata": {},
   "source": [
    "# Neoauto"
   ]
  },
  {
   "cell_type": "code",
   "execution_count": 2,
   "metadata": {},
   "outputs": [
    {
     "name": "stdout",
     "output_type": "stream",
     "text": [
      "(5362, 15)\n"
     ]
    },
    {
     "data": {
      "text/html": [
       "<div>\n",
       "<style scoped>\n",
       "    .dataframe tbody tr th:only-of-type {\n",
       "        vertical-align: middle;\n",
       "    }\n",
       "\n",
       "    .dataframe tbody tr th {\n",
       "        vertical-align: top;\n",
       "    }\n",
       "\n",
       "    .dataframe thead th {\n",
       "        text-align: right;\n",
       "    }\n",
       "</style>\n",
       "<table border=\"1\" class=\"dataframe\">\n",
       "  <thead>\n",
       "    <tr style=\"text-align: right;\">\n",
       "      <th></th>\n",
       "      <th>Brands</th>\n",
       "      <th>Models</th>\n",
       "      <th>Version</th>\n",
       "      <th>Currency</th>\n",
       "      <th>Price</th>\n",
       "      <th>Urlpic</th>\n",
       "      <th>Year</th>\n",
       "      <th>KM</th>\n",
       "      <th>Fuel_type</th>\n",
       "      <th>Transmission</th>\n",
       "      <th>Location</th>\n",
       "      <th>Color</th>\n",
       "      <th>Cilinder</th>\n",
       "      <th>Upholstery</th>\n",
       "      <th>Engine</th>\n",
       "    </tr>\n",
       "  </thead>\n",
       "  <tbody>\n",
       "    <tr>\n",
       "      <th>0</th>\n",
       "      <td>SUZUKI</td>\n",
       "      <td>S-PRESSO</td>\n",
       "      <td>4x2</td>\n",
       "      <td>USD</td>\n",
       "      <td>US$ 9,800</td>\n",
       "      <td>https://cde.neoauto.pe/autos_usados/360x240/66...</td>\n",
       "      <td>2023.0</td>\n",
       "      <td>16684.0</td>\n",
       "      <td>Gasolina</td>\n",
       "      <td>MecÃ¡nica</td>\n",
       "      <td>Lima, Lima</td>\n",
       "      <td>Rojo</td>\n",
       "      <td>3.0</td>\n",
       "      <td>tela</td>\n",
       "      <td>1,000 cc</td>\n",
       "    </tr>\n",
       "    <tr>\n",
       "      <th>1</th>\n",
       "      <td>DFSK</td>\n",
       "      <td>GLORY 500</td>\n",
       "      <td>Delantera</td>\n",
       "      <td>USD</td>\n",
       "      <td>US$ 12,000</td>\n",
       "      <td>https://cde.neoauto.pe/autos_usados/360x240/70...</td>\n",
       "      <td>2023.0</td>\n",
       "      <td>11054.0</td>\n",
       "      <td>Gas GLP</td>\n",
       "      <td>MecÃ¡nica</td>\n",
       "      <td>Lima, Lima</td>\n",
       "      <td>Blanco</td>\n",
       "      <td>4.0</td>\n",
       "      <td>tela</td>\n",
       "      <td>1,500 cc</td>\n",
       "    </tr>\n",
       "    <tr>\n",
       "      <th>2</th>\n",
       "      <td>TOYOTA</td>\n",
       "      <td>YARIS</td>\n",
       "      <td>Delantera</td>\n",
       "      <td>USD</td>\n",
       "      <td>US$ 15,500</td>\n",
       "      <td>https://cde.neoauto.pe/autos_usados/360x240/70...</td>\n",
       "      <td>2023.0</td>\n",
       "      <td>15500.0</td>\n",
       "      <td>Gas GNV</td>\n",
       "      <td>MecÃ¡nica</td>\n",
       "      <td>Lima, Lima</td>\n",
       "      <td>Rojo</td>\n",
       "      <td>4.0</td>\n",
       "      <td>tela</td>\n",
       "      <td>1,300 cc</td>\n",
       "    </tr>\n",
       "    <tr>\n",
       "      <th>3</th>\n",
       "      <td>FORD</td>\n",
       "      <td>RAPTOR</td>\n",
       "      <td>4x4</td>\n",
       "      <td>USD</td>\n",
       "      <td>US$ 75,900</td>\n",
       "      <td>https://cde.neoauto.pe/autos_usados/360x240/30...</td>\n",
       "      <td>2020.0</td>\n",
       "      <td>12500.0</td>\n",
       "      <td>Gasolina</td>\n",
       "      <td>AutomÃ¡tica - Secuencial</td>\n",
       "      <td>Lima, Lima</td>\n",
       "      <td>Blanco</td>\n",
       "      <td>6.0</td>\n",
       "      <td>tela</td>\n",
       "      <td>3,500 cc</td>\n",
       "    </tr>\n",
       "    <tr>\n",
       "      <th>4</th>\n",
       "      <td>KIA</td>\n",
       "      <td>SPORTAGE</td>\n",
       "      <td>4x2</td>\n",
       "      <td>USD</td>\n",
       "      <td>US$ 27,900</td>\n",
       "      <td>https://cde.neoauto.pe/autos_usados/360x240/70...</td>\n",
       "      <td>2023.0</td>\n",
       "      <td>52130.0</td>\n",
       "      <td>Gasolina</td>\n",
       "      <td>MecÃ¡nica</td>\n",
       "      <td>Lima, Lima</td>\n",
       "      <td>Gris Oscuro</td>\n",
       "      <td>4.0</td>\n",
       "      <td>Asientos de cuero</td>\n",
       "      <td>1,999 cc</td>\n",
       "    </tr>\n",
       "  </tbody>\n",
       "</table>\n",
       "</div>"
      ],
      "text/plain": [
       "   Brands     Models    Version Currency       Price  \\\n",
       "0  SUZUKI   S-PRESSO        4x2      USD   US$ 9,800   \n",
       "1    DFSK  GLORY 500  Delantera      USD  US$ 12,000   \n",
       "2  TOYOTA      YARIS  Delantera      USD  US$ 15,500   \n",
       "3    FORD     RAPTOR        4x4      USD  US$ 75,900   \n",
       "4     KIA   SPORTAGE        4x2      USD  US$ 27,900   \n",
       "\n",
       "                                              Urlpic    Year       KM  \\\n",
       "0  https://cde.neoauto.pe/autos_usados/360x240/66...  2023.0  16684.0   \n",
       "1  https://cde.neoauto.pe/autos_usados/360x240/70...  2023.0  11054.0   \n",
       "2  https://cde.neoauto.pe/autos_usados/360x240/70...  2023.0  15500.0   \n",
       "3  https://cde.neoauto.pe/autos_usados/360x240/30...  2020.0  12500.0   \n",
       "4  https://cde.neoauto.pe/autos_usados/360x240/70...  2023.0  52130.0   \n",
       "\n",
       "  Fuel_type              Transmission    Location        Color  Cilinder  \\\n",
       "0  Gasolina                 MecÃ¡nica  Lima, Lima         Rojo       3.0   \n",
       "1   Gas GLP                 MecÃ¡nica  Lima, Lima       Blanco       4.0   \n",
       "2   Gas GNV                 MecÃ¡nica  Lima, Lima         Rojo       4.0   \n",
       "3  Gasolina  AutomÃ¡tica - Secuencial  Lima, Lima       Blanco       6.0   \n",
       "4  Gasolina                 MecÃ¡nica  Lima, Lima  Gris Oscuro       4.0   \n",
       "\n",
       "          Upholstery    Engine  \n",
       "0               tela  1,000 cc  \n",
       "1               tela  1,500 cc  \n",
       "2               tela  1,300 cc  \n",
       "3               tela  3,500 cc  \n",
       "4  Asientos de cuero  1,999 cc  "
      ]
     },
     "execution_count": 2,
     "metadata": {},
     "output_type": "execute_result"
    }
   ],
   "source": [
    "neoauto = pd.read_csv('datasets/raw/neoauto.csv')\n",
    "print(neoauto.shape)\n",
    "neoauto.head()"
   ]
  },
  {
   "cell_type": "markdown",
   "metadata": {},
   "source": [
    "Declare paths and constants"
   ]
  },
  {
   "cell_type": "code",
   "execution_count": 3,
   "metadata": {},
   "outputs": [],
   "source": [
    "CURRENT_YEAR = 2024\n",
    "SOLES_TO_DOLLAR = 1 / 3.8"
   ]
  },
  {
   "cell_type": "markdown",
   "metadata": {},
   "source": [
    "## Clean numerical features"
   ]
  },
  {
   "cell_type": "markdown",
   "metadata": {},
   "source": [
    "Change"
   ]
  },
  {
   "cell_type": "code",
   "execution_count": 4,
   "metadata": {},
   "outputs": [],
   "source": [
    "neoauto[['Price', 'Engine']] = neoauto[['Price', 'Engine']].replace(to_replace = r'[ ,a-zA-Z$]', value = '', regex = True)\\\n",
    "                                                           .replace(to_replace = '', value = np.nan)\\\n",
    "                                                           .astype(float)"
   ]
  },
  {
   "cell_type": "markdown",
   "metadata": {},
   "source": [
    "Validate"
   ]
  },
  {
   "cell_type": "code",
   "execution_count": 5,
   "metadata": {},
   "outputs": [
    {
     "data": {
      "text/plain": [
       "Price     float64\n",
       "Engine    float64\n",
       "dtype: object"
      ]
     },
     "execution_count": 5,
     "metadata": {},
     "output_type": "execute_result"
    }
   ],
   "source": [
    "neoauto[['Price', 'Engine']].dtypes"
   ]
  },
  {
   "cell_type": "markdown",
   "metadata": {},
   "source": [
    "## Clean categorical features"
   ]
  },
  {
   "cell_type": "markdown",
   "metadata": {},
   "source": [
    "Check unique values"
   ]
  },
  {
   "cell_type": "code",
   "execution_count": 6,
   "metadata": {},
   "outputs": [
    {
     "data": {
      "text/html": [
       "<div>\n",
       "<style scoped>\n",
       "    .dataframe tbody tr th:only-of-type {\n",
       "        vertical-align: middle;\n",
       "    }\n",
       "\n",
       "    .dataframe tbody tr th {\n",
       "        vertical-align: top;\n",
       "    }\n",
       "\n",
       "    .dataframe thead th {\n",
       "        text-align: right;\n",
       "    }\n",
       "</style>\n",
       "<table border=\"1\" class=\"dataframe\">\n",
       "  <thead>\n",
       "    <tr style=\"text-align: right;\">\n",
       "      <th></th>\n",
       "      <th>Brands</th>\n",
       "      <th>Models</th>\n",
       "      <th>Version</th>\n",
       "      <th>Currency</th>\n",
       "      <th>Urlpic</th>\n",
       "      <th>Fuel_type</th>\n",
       "      <th>Transmission</th>\n",
       "      <th>Location</th>\n",
       "      <th>Color</th>\n",
       "      <th>Upholstery</th>\n",
       "    </tr>\n",
       "  </thead>\n",
       "  <tbody>\n",
       "    <tr>\n",
       "      <th>count</th>\n",
       "      <td>5361</td>\n",
       "      <td>5361</td>\n",
       "      <td>4900</td>\n",
       "      <td>5362</td>\n",
       "      <td>5334</td>\n",
       "      <td>5339</td>\n",
       "      <td>5361</td>\n",
       "      <td>5362</td>\n",
       "      <td>5072</td>\n",
       "      <td>5361</td>\n",
       "    </tr>\n",
       "    <tr>\n",
       "      <th>unique</th>\n",
       "      <td>81</td>\n",
       "      <td>846</td>\n",
       "      <td>541</td>\n",
       "      <td>1</td>\n",
       "      <td>5326</td>\n",
       "      <td>9</td>\n",
       "      <td>3</td>\n",
       "      <td>42</td>\n",
       "      <td>53</td>\n",
       "      <td>2</td>\n",
       "    </tr>\n",
       "    <tr>\n",
       "      <th>top</th>\n",
       "      <td>TOYOTA</td>\n",
       "      <td>RAV4</td>\n",
       "      <td>4x2</td>\n",
       "      <td>USD</td>\n",
       "      <td>https://cde.neoauto.pe/autos_usados/360x240/68...</td>\n",
       "      <td>Gasolina</td>\n",
       "      <td>AutomÃ¡tica - Secuencial</td>\n",
       "      <td>Lima, Lima</td>\n",
       "      <td>Blanco</td>\n",
       "      <td>tela</td>\n",
       "    </tr>\n",
       "    <tr>\n",
       "      <th>freq</th>\n",
       "      <td>495</td>\n",
       "      <td>91</td>\n",
       "      <td>1617</td>\n",
       "      <td>5362</td>\n",
       "      <td>2</td>\n",
       "      <td>4123</td>\n",
       "      <td>2179</td>\n",
       "      <td>4908</td>\n",
       "      <td>849</td>\n",
       "      <td>4125</td>\n",
       "    </tr>\n",
       "  </tbody>\n",
       "</table>\n",
       "</div>"
      ],
      "text/plain": [
       "        Brands Models Version Currency  \\\n",
       "count     5361   5361    4900     5362   \n",
       "unique      81    846     541        1   \n",
       "top     TOYOTA   RAV4     4x2      USD   \n",
       "freq       495     91    1617     5362   \n",
       "\n",
       "                                                   Urlpic Fuel_type  \\\n",
       "count                                                5334      5339   \n",
       "unique                                               5326         9   \n",
       "top     https://cde.neoauto.pe/autos_usados/360x240/68...  Gasolina   \n",
       "freq                                                    2      4123   \n",
       "\n",
       "                    Transmission    Location   Color Upholstery  \n",
       "count                       5361        5362    5072       5361  \n",
       "unique                         3          42      53          2  \n",
       "top     AutomÃ¡tica - Secuencial  Lima, Lima  Blanco       tela  \n",
       "freq                        2179        4908     849       4125  "
      ]
     },
     "execution_count": 6,
     "metadata": {},
     "output_type": "execute_result"
    }
   ],
   "source": [
    "neoauto.describe(include = object)"
   ]
  },
  {
   "cell_type": "markdown",
   "metadata": {},
   "source": [
    "### Brands"
   ]
  },
  {
   "cell_type": "code",
   "execution_count": 7,
   "metadata": {},
   "outputs": [
    {
     "data": {
      "text/plain": [
       "array(['SUZUKI', 'DFSK', 'TOYOTA', 'FORD', 'KIA', 'PEUGEOT', 'AUDI',\n",
       "       'HYUNDAI', 'NISSAN', 'RENAULT', 'MAZDA', 'HONDA', 'JEEP',\n",
       "       'MITSUBISHI', 'VOLKSWAGEN', 'MERCEDES BENZ', 'CHEVROLET',\n",
       "       'PORSCHE', 'SUBARU', 'GEELY', 'CITROEN', 'MINI', 'LEXUS', 'DODGE',\n",
       "       'JETOUR', 'BMW', 'LAND ROVER', 'VOLVO', 'JAGUAR', 'MG',\n",
       "       'SSANGYONG', 'CHERY', 'SEAT', 'JAC', 'HAVAL', 'MC LAREN', 'FIAT',\n",
       "       'HUDSON', 'DONGFENG', 'MAXUS', 'MASERATI', 'CHANGAN', 'RAM', 'GAC',\n",
       "       'ASTON MARTIN', 'CUPRA', 'GREAT WALL', 'BAIC YINXIANG', 'CHRYSLER',\n",
       "       'MORRIS GARAGES', 'SWM', 'LAMBORGHINI', 'DAEWOO', 'ZOTYE', 'HAIMA',\n",
       "       'OTROS', 'JMC', 'DAIHATSU', nan, 'LADA', 'FOTON', 'INFINITI',\n",
       "       'DATSUN', 'CHANGHE', 'SHINERAY', 'MERCURY', 'BRILLIANCE', 'GONOW',\n",
       "       'MAHINDRA', 'BYD', 'SOUEAST', 'INTERNATIONAL', 'JINBEI',\n",
       "       'GOLDEN DRAGON', 'BAIC', 'BUGGY', 'YUGO', 'PONTIAC', 'ISUZU',\n",
       "       'VICTORY', 'ACURA', 'OLDSMOBILE'], dtype=object)"
      ]
     },
     "execution_count": 7,
     "metadata": {},
     "output_type": "execute_result"
    }
   ],
   "source": [
    "neoauto.Brands.unique()"
   ]
  },
  {
   "cell_type": "markdown",
   "metadata": {},
   "source": [
    "### Models"
   ]
  },
  {
   "cell_type": "code",
   "execution_count": 8,
   "metadata": {},
   "outputs": [
    {
     "data": {
      "text/plain": [
       "array(['S-PRESSO', 'GLORY 500', 'YARIS', 'RAPTOR', 'SPORTAGE', '3008',\n",
       "       'Q5', 'ELANTRA', 'KICKS', 'KOLEOS', 'X-TRAIL', 'CX-5', 'HR-V', '3',\n",
       "       'SORENTO', 'GRAND CHEROKEE LAREDO', '3 SPORT', 'CX-9', 'OUTLANDER',\n",
       "       'GOL', 'VERSA', 'I20', 'C-180', 'CR-V', 'DUSTER',\n",
       "       'TIGUAN ALLSPACE', 'QASHQAI', 'TRACKER', 'FRONTIER', 'CX-3',\n",
       "       'MACAN S', 'TIGUAN', 'ASX', 'PILOT', 'IMPREZA', 'SPIN', 'TUCSON',\n",
       "       '208', 'SONET', 'I20 HB', 'GX3', 'C5 AIRCROSS', 'BALENO',\n",
       "       'COROLLA', 'COROLLA CROSS', 'RAIZE', 'RUSH', 'CRETA', 'SELTOS',\n",
       "       'A3 SPORTBACK', 'PRIUS', 'SENTRA', 'FORTUNER', '2', 'RANGER',\n",
       "       'HATCH 3DR', 'GRAND CHEROKEE LIMITED', 'IS 300', 'MUSTANG',\n",
       "       'SANTA FE', 'NIVUS', 'GLE 400 4MATIC', 'C-350', 'FORESTER',\n",
       "       'HILUX', 'RIO', '4RUNNER', 'JOURNEY', 'A4', 'SAVEIRO', 'X70 PLUS',\n",
       "       'X3 28i', 'RANGE ROVER SPORT', 'X4 20i', 'XC-40', 'RAV4', 'PASSAT',\n",
       "       'A-180', '750LI', 'GLA 200', 'XV', 'CLA 45 AMG',\n",
       "       'ALL NEW FORESTER', 'F-PACE', 'L200', 'EVOLTIS', '5', 'JETTA',\n",
       "       'NEW REXTON', 'TIGGO 8 PRO', 'X-3', 'HATCH JCW', 'X3 20i',\n",
       "       'CONVERTIBLE', 'C-200', 'TIGGO 8', 'F-150', 'LEON STYLE 1.6 MEC',\n",
       "       '528-I', 'EDGE TITANIUM', 'GL 400', 'COMPASS', 'X1 18i', 'S5',\n",
       "       'TOUAREG', 'M4', 'TAHOE', 'CERATO', 'TIGGO 7 PRO', 'EXPLORER',\n",
       "       'IS 200t', 'UX 250h', 'OUTBACK', 'T-CROSS', 'AGYA', 'DURANGO',\n",
       "       'JS4', 'H6', 'HIGHLANDER', 'COOPER', 'TRAVERSE', 'CLA 200',\n",
       "       'AVENSIS', 'A200', 'ESCAPE', 'COROLLA HYBRID', 'XC-90',\n",
       "       'CAYENNE GTS', 'GRAND i10', 'i10', 'GRAND NOMADE', 'KWID', '650S',\n",
       "       'COOPER S', 'A6', 'PATHFINDER', 'LEGACY', 'ARRIZO 5', '2008',\n",
       "       'NEW ASX', 'X4 M40i', '640i', 'TERRITORY', 'RENEGADE',\n",
       "       'CHEROKEE LIMITED', '550i', 'GRAND CHEROKEE SRT', 'X5 35i',\n",
       "       'C-250', 'GRAND CHEROKEE OVERLAND', 'X 1/9', 'PARTNER', 'WASP',\n",
       "       'E200 COUPE', 'COLORADO', 'C-ELYSÃ‰E', 'ECOSPORT', 'MONTERO SPORT',\n",
       "       'ALL NEW H6', 'X1 20i', 'GOLF', 'AMAROK',\n",
       "       'WRANGLER UNLIMITED RUBICON', 'M235i', 'X6 30d', 'CAYENNE',\n",
       "       'X2 20i', 'E-350', 'DISCOVERY SPORT', 'X3 30i', '740LI',\n",
       "       'Cherokee Longitude', 'LAND CRUISER PRADO', 'E-200', 'X5 40i',\n",
       "       'M6', 'X3 35i', 'VIRTUS', 'A7 SPORTBACK', 'CX-30', 'ECLIPSE CROSS',\n",
       "       'Q3', '316i', 'Q8', 'S63-AMG', 'IMPREZA SPORT', 'LX 570',\n",
       "       'SUBURBAN', 'BOXER', 'TIVOLI', 'ODYSSEY', 'JIMNY', 'T5 EVO',\n",
       "       'JETTA GLI', 'TT COUPE', 'X6 M', 'UX 250h LUXURY', 'EXPEDITION',\n",
       "       'NIRO', 'GLORY 580', 'CAPTIVA', 'RX 450hL', 'GLC 200',\n",
       "       'GRAND CHEROKEE', 'RANGE ROVER EVOQUE', 'CORONA', 'CIVIC',\n",
       "       'GLE 53 AMG', 'CRETA GRAND', 'DS-4', 'NEW VITARA', 'STARIA', 'T60',\n",
       "       '318', 'KORANDO', 'OROCH', 'H-1', 'SOLUTO', 'SENTRA V16', 'BT-50',\n",
       "       'X5 50i', 'XC-60', 'D60', 'i30', 'ONIX', 'ORLANDO',\n",
       "       'LEVANTE S GRANSPORT', 'CAYENNE TURBO', 'COOLRAY', 'GLORY 560',\n",
       "       'X4', 'TAOS', 'UNIT-T', 'E-300', 'VITARA', 'GX3 PRO', 'STEPWAY',\n",
       "       'X5', 'ESCAPE SE', 'S90', 'A1', 'CAPTUR', '2 SPORT', 'MG GS',\n",
       "       'EDGE SEL', 'S-CROSS', 'LOGAN', 'GOL POWER', 'X-TERRA', 'LX 600',\n",
       "       'GOL SEDÃ\\x81N', '520-i', 'X7 SPORT', 'XPANDER', 'C55-AMG',\n",
       "       'GLA250 4MATIC', 'VENUE', 'ACCENT', 'GLC 250 4MATIC',\n",
       "       'RANGE ROVER VELAR', 'EVOQUE', 'X70', 'TIGGO 2', 'CROSSFOX',\n",
       "       'DISCOVERY', 'C-300', 'OKAVANGO', 'JUMPER', 'HILUX SR',\n",
       "       'VERSA SENSE', 'VERNA', 'COMPASS SPORT', 'KIZASHI',\n",
       "       'RANGE ROVER VOGUE', 'HS', 'CITY TOURING',\n",
       "       'GLE 63 S AMG 4MATIC COUPE', 'CLA 180 COUPE', '5 PUERTAS',\n",
       "       'IMPREZA WRX', 'V700', 'CLUBMAN', 'EMZOOM', 'EMKOO', 'PATRIOT',\n",
       "       'AMG GT', 'DB11', 'FORMENTOR', 'DBX', 'NX300H LUXURY', 'M440I',\n",
       "       'C63-AMG', 'LEVANTE TROFEO', 'ALL NEW REXTON', 'GLC 200 COUPE',\n",
       "       'GLE 450 4 MATIC', 'E-500', 'CORVETTE', 'WR-V',\n",
       "       'AMG GLC 43 4MATIC', 'LEVANTE', 'ACCORD', '420i', 'S60', 'GLA 180',\n",
       "       'MUSSO GRAND', 'X90 PLUS', 'C-3', 'SL-280', 'X6 50i', '120i',\n",
       "       '428i', 'DISCOVERY 4', 'WRANGLER RUBICON', '420I GRAN COUPE',\n",
       "       '318i', '320i', 'SWIFT', 'MACAN GTS', 'CAYENNE S', 'MACAN',\n",
       "       'A3 SEDAN', 'Q7', 'R8', 'A3 HB', 'HRV', 'DASHING', 'XPANDER CROSS',\n",
       "       'PALISADE', 'BRONCO SPORT', 'TIGGO 3', 'TIGGO', 'PICANTO CROSS',\n",
       "       'ES 250', 'GRAND VITARA', 'XL7', 'COMMANDER', 'FIESTA', 'FUSION',\n",
       "       'ALL NEW ONIX', 'ATOS', 'GLORY iX5', '118i', 'C4 Cactus', 'C31',\n",
       "       'WRX', 'GLB 200', 'PULSE', 'AMG GLE53 COUPE', '1000', '700',\n",
       "       '1500', 'HAVAL H3', 'AVANZA', 'HIACE', 'M4 CABRIO', 'ETIOS',\n",
       "       'CLS 400', 'X6 35i', '721', 'IX', 'HATCH COOPER S', '530E', 'X3',\n",
       "       'M340i XDRIVE', 'M135i', '530i', 'COUNTRYMAN COOPER', '330i',\n",
       "       '220i', '420GCI', 'HATCH 5DR', 'X2', '218i GRAN COUPE',\n",
       "       'COUNTRYMAN COOPER S', 'LAND CRUISER', 'NP300 FRONTIER', 'x4 30i',\n",
       "       'RAM', 'TERAMONT', 'CX-7', 'M140i', 'X1', 'LANDTREK', '500', '407',\n",
       "       'CRUZE', 'Q3 SPORTBACK', 'GLE 400 COUPE', 'JS8', 'PRISMA',\n",
       "       'ML 300 4MATIC', 'VIVANT', 'MOHAVE', 'COUNTRYMAN',\n",
       "       'RX 350 F-SPORT', 'H2', 'T8', 'JOLION', 'CS55', 'J6', 'C-4',\n",
       "       'CELERIO', 'CX70', 'APV', 'CROSSTREK', 'DARGO', 'FORESTER TURBO',\n",
       "       'ONIX JOY', 'ALL NEW MAZDA 3', 'BERLINGO', 'GLE 43 AMG',\n",
       "       'E 200 ELEGANCE', 'YIXUAN GS', 'H30', 'X5 30d', '307-SW', 'ARONA',\n",
       "       'X-5', '301', 'ML 350', 'AMG GT S', 'KENBO S3', 'WINGROAD',\n",
       "       'RANGER LIMITED', 'N-300 WORK', 'JOYEAR SX6', 'V40', 'PICANTO',\n",
       "       'H3', 'CIVIC LX', 'CERATO KOUP', '418i GCI', 'GT-86', 'CHARGER',\n",
       "       'TIGGO 2 PRO', 'C-10', 'NATIVA', 'GL-450', 'C240', '6', 'CORRADO',\n",
       "       'GT', 'GL-500', 'CAMRY', 'OPTIMA', 'TOWN & COUNTRY', 'MG 5',\n",
       "       'A5 COUPE', 'MALIBU', 'CC', 'N400', 'TACOMA', 'M3', '200', 'XE',\n",
       "       'PICK UP', 'NX 300h', 'C 200 COUPE', 'CIAZ', 'K07S', 'LEON FR',\n",
       "       '5008', '435i', 'GLB 200 STYLE', '850', 'S6', 'STRADA ADVENTURE',\n",
       "       'NITRO', 'RICH6', 'CAMARO', 'CAYMAN GTS', 'KONA', 'MONTERO',\n",
       "       'BEETLE', 'IMPREZA SEDÃ\\x81N', 'E-PACE', '360', 'EXPERT', 'BIPPER',\n",
       "       'VERSA ADVANCE', 'MX 5', 'CT 200H', 'SLC-200', 'C-180 KOMPRESSOR',\n",
       "       'CS15', 'S2', 'JS3', 'MX 6', 'STARLET', 'X7', 'TIIDA',\n",
       "       'APV MINIVAN', 'S3 SedÃ¡n', 'RAM-1500', 'URUS', 'FIORINO',\n",
       "       'ML 400 CDI', 'GOLF GTI', 'AMG A 45S 4 MATIC', 'CAYENNE TURBO S',\n",
       "       'CITY', 'CAYENNE COUPE', 'S3', 'G350', '911', 'S22',\n",
       "       'LANCER CEDIA', 'MURANO', 'ALL NEW OUTBACK', 'SPARK GT',\n",
       "       'GLADIATOR', '335i', '308', 'i20 ACTIVE', 'CLA 180',\n",
       "       'GLE 450 COUPE', 'GOL CONFORT SEDAN', 'M5', 'SX-4',\n",
       "       'XC-70 CROSS COUNTRY', 'ALL NEW FORESTER 2019', 'X5 30i', 'AERIO',\n",
       "       'TRIBECA', 'ACTYON SPORTS', 'VELOSTER', 'AURIS', 'SPRINTER',\n",
       "       'JOHN COOPER WORKS', 'DS-3', 'A45 AMG', 'RSQ3', '1M',\n",
       "       '135i Cabriolet', 'SUNRAY', 'COUNTRYMAN COOPER JCW', 'C70',\n",
       "       'ACTYON', 'SANDERO', 'H7L', 'ONIX ACTIV', '328-I',\n",
       "       'A7 SPORTBACK HB', 'ARGO', 'TT', 'TRANSPORTER', 'DAMAS', 'REFINE',\n",
       "       'AVEO', '911 TURBO-S', 'T600', 'A8', 'RIDGELINE', 'FREELANDER',\n",
       "       'WINGLE 5', 'MATRIX', 'GOL COMFORT 1.6', '128TI', 'SPACE FOX',\n",
       "       'IBIZA STYLE', 'HAIMA3', 'OTROS', 'C3 Aircross', 'ZS', 'BORA',\n",
       "       'VIGUS', '340i', 'NAVARA', 'CRONOS', 'C-240', 'GHIBLI', 'TERIOS',\n",
       "       nan, 'FJ CRUISER', 'GLORY', 'GRAND CARAVAN', 'M3 SedÃ¡n',\n",
       "       'CORONET', 'DZIRE', 'RANGE ROVER', '1600', 'ARRIZO 3',\n",
       "       'CIVIC TURBO', 'PRIORA', '418i', 'LIBERTY SPORT', 'AD',\n",
       "       'VANTAGE V8', 'GLK 250', 'GC7', 'SIENNA', 'LIBERTY',\n",
       "       'GRAND TURISMO', 'MG3', 'BOARDING', 'Jumpy', '207', 'MIRAGE', 'ZX',\n",
       "       'UP', 'FLUENCE', 'CK', 'X2 M35i', 'RODIUS', 'GS', 'SAIL', 'LANCER',\n",
       "       'RS3', 'GLA 45 AMG', 'E-TRON', 'TERRACAN', 'X7 40i',\n",
       "       'COUNTRYMAN JCW', 'NEW XV', '330E', 'GS 350 F-SPORT', 'SPEED3',\n",
       "       'VIEW', 'MUSTANG MACH 1', 'SOUL', '207 COMPACT', '135i', 'UNO',\n",
       "       'L200 DK-R', 'RANGER RAPTOR', 'MARCH', 'G37', 'X6',\n",
       "       'MIRAGE HATCHBACK', 'CLA 200 COUPE', 'N-300', 'LINEA', 'X6 40i',\n",
       "       'CARNIVAL', 'EQUINOX', 'CLK-430', 'CHEROKEE', 'VERSA DRIVE',\n",
       "       'QUATTROPORTE', '570S', 'X5 M', 'PATROL', 'C63 AMG S', 'VICTORIA',\n",
       "       'M2 Coupe', 'GR YARIS', 'MP4-12C', 'A', 'PANAMERA-4S', 'TUNDRA',\n",
       "       'LX 570 PLUS', 'CS35', 'MONTERO IO', 'ALMERA', 'ALL NEW L200',\n",
       "       'EMGRANDEC7', 'URBAN CRUISER', 'CLIO', 'AZKARRA', 'CORVAIR', '406',\n",
       "       '911 CARRERA', 'CELICA', 'CIELO', 'H100', 'SILVIA', 'SUNNY',\n",
       "       'JUKE', 'NEW TIGGO 7', 'CIVIC COUPE', 'PALIO ADVENTURE', 'SX5',\n",
       "       'FREEDOM - 8 asientos', '325', '325-iA', 'S40', '323', 'BB',\n",
       "       'F-150 RAPTOR', 'K60', 'GALANT', 'MIRAGE G4', 'NEW TIGGO 2',\n",
       "       'NEW BEETLE', 'VAN PX', 'BEAT', 'H350', 'URVAN', '430I COUPE',\n",
       "       'SONIC', '750 Li', '1300', '3XROSS', 'NEW ALTO 800',\n",
       "       'ALL NEW LEGACY', 'MARINER', '325i', 'V3', '121', 'LEON CUPRA',\n",
       "       'INCAPOWER EIGHT', 'GRAND i10 HB', 'TIBURON', 'NX 200T F-SPORT',\n",
       "       'REXTON-II', '10', '535-I', 'X5 44i', 'XC-70', 'FREESTYLE',\n",
       "       'CHEROKEE TRAILHAWK', 'NEW QQ', 'CHEROKEE LAREDO', 'NOTE', 'H1',\n",
       "       'SCORPIO', 'MG5', 'COBALT', 'GROOVE', 'POLO', '206',\n",
       "       'A1 SPORTBACK', 'MATIZ', 'S500', 'MK', 'N300 MAX', 'F3',\n",
       "       'SWIFT GTI', 'NX 200T', 'A5', 'EC7', 'FOCUS', '88', 'MONZA',\n",
       "       '740i', 'LIBERO', 'PUNTO', 'UNO WAY', 'POER', 'SYMBOL', 'H530',\n",
       "       'ERTIGA', 'IGNIS', 'MK RSI', 'Q22', 'DX3', 'ALL NEW JOY', 'DEER',\n",
       "       'FREESTAR', '240', 'AZERA', 'CHARADE SOCIAL', 'SONATA', '460',\n",
       "       'DAMAS II', 'ESCORT', 'SUPERVAN', 'ALTO', 'SOLIO', 'EXCURSION',\n",
       "       'CRUZE HB', 'HAVAL', 'VENTO', 'GOL CROSSOVER', 'S30 ELEGANT MT',\n",
       "       'MASTER', 'SPRINTER CARIB', 'ATECA', '523-IA', 'FULWIN', 'Q2',\n",
       "       'CIVIC SI', 'ESCARABAJO', 'CHEROKEE SPORT', 'A5 SPORTBACK',\n",
       "       'E-200 KOMPRESSOR', 'KOUP', '520', 'SCOUT', 'KONECT', '525i',\n",
       "       'PIK UP', '530d', 'BLUEBIRD', 'TURISTICO 10.5 MTS', 'SPIN ACTIVE',\n",
       "       'ALL NEW KORANDO', 'RIO CROSS', 'CALIBER', 'ORTHIA', 'FALCON',\n",
       "       'ALASKAN', 'OPTRA', 'WRANGLER', 'GOL STATION', 'F-100', '18',\n",
       "       'MUSSO', 'X55', 'ARENDA', 'GS8', '307', '306', 'GV-PLUS', 'IBIZA',\n",
       "       'WINDSTAR', 'DEMIO', 'SWIFT SPORT', 'TEMPEST', 'HOVER', 'QUORIS',\n",
       "       'GLC 250 4MATIC COUPE', 'N200', 'GS 350', '3 SEDÃ\\x81N',\n",
       "       'VOLEEX C30', 'STYLUS', '508', 'Grand New Supervan', 'PASSAT CC',\n",
       "       '3 PUERTAS', 'MOCHE II', 'C-5', 'MOBI', '320', 'N300 MOVE',\n",
       "       'TUNLAND', 'AX7', 'GLORY 330', 'K2400', 'CORSA', '328i', 'AVEO HB',\n",
       "       'INTEGRA', 'SPARK', 'REXTON', 'CADDY', 'STAVIC', 'H2L', 'CUTLASS',\n",
       "       'MUSTANG GT', '911 GT3', 'GENESIS', 'EQ6400LF', 'QQ', 'AMAZON'],\n",
       "      dtype=object)"
      ]
     },
     "execution_count": 8,
     "metadata": {},
     "output_type": "execute_result"
    }
   ],
   "source": [
    "neoauto.Models.unique()"
   ]
  },
  {
   "cell_type": "markdown",
   "metadata": {},
   "source": [
    "### Transmission"
   ]
  },
  {
   "cell_type": "markdown",
   "metadata": {},
   "source": [
    "Create"
   ]
  },
  {
   "cell_type": "code",
   "execution_count": 9,
   "metadata": {},
   "outputs": [],
   "source": [
    "neoauto['Transmission'] = neoauto['Transmission'].map({'MecÃ¡nica': 'mecanica',\n",
    "                                                       'AutomÃ¡tica': 'automatica',\n",
    "                                                       'AutomÃ¡tica - Secuencial': 'automatica_secuencial'})"
   ]
  },
  {
   "cell_type": "markdown",
   "metadata": {},
   "source": [
    "Validate"
   ]
  },
  {
   "cell_type": "code",
   "execution_count": 10,
   "metadata": {},
   "outputs": [
    {
     "data": {
      "text/plain": [
       "Transmission\n",
       "automatica_secuencial    2179\n",
       "mecanica                 1619\n",
       "automatica               1563\n",
       "Name: count, dtype: int64"
      ]
     },
     "execution_count": 10,
     "metadata": {},
     "output_type": "execute_result"
    }
   ],
   "source": [
    "neoauto['Transmission'].value_counts()"
   ]
  },
  {
   "cell_type": "markdown",
   "metadata": {},
   "source": [
    "### Version"
   ]
  },
  {
   "cell_type": "markdown",
   "metadata": {},
   "source": [
    "Create"
   ]
  },
  {
   "cell_type": "code",
   "execution_count": 11,
   "metadata": {},
   "outputs": [],
   "source": [
    "prem_pattern = r'\\b(?:lx|lux|deluxe|l|ltz|sel|ex-l|sl|xle|sxl|plat|prem|luxury|el|ul|g|signature|diamond|elite|luxe)\\b'\n",
    "\n",
    "neoauto['Version'] = np.select([neoauto['Version'].str.lower().str.strip().str.contains('4x2', na = False),\n",
    "                                neoauto['Version'].str.lower().str.strip().str.contains('4x4', na = False),\n",
    "                                neoauto['Version'].str.lower().str.strip().str.contains('delantera', na = False),\n",
    "                                neoauto['Version'].str.lower().str.strip().str.contains('posterior', na = False),\n",
    "                                neoauto['Version'].str.lower().str.strip().str.contains(prem_pattern, regex = True, na = False)],\n",
    "                               ['4x2', '4x4', 'delantera', 'posterior', 'premium'],\n",
    "                               default = 'otros')"
   ]
  },
  {
   "cell_type": "markdown",
   "metadata": {},
   "source": [
    "Validate"
   ]
  },
  {
   "cell_type": "code",
   "execution_count": 12,
   "metadata": {},
   "outputs": [
    {
     "data": {
      "text/plain": [
       "Version\n",
       "4x2          1919\n",
       "otros        1753\n",
       "4x4           896\n",
       "delantera     469\n",
       "posterior     222\n",
       "premium       103\n",
       "Name: count, dtype: int64"
      ]
     },
     "execution_count": 12,
     "metadata": {},
     "output_type": "execute_result"
    }
   ],
   "source": [
    "neoauto['Version'].value_counts()"
   ]
  },
  {
   "cell_type": "markdown",
   "metadata": {},
   "source": [
    "### Upholstery"
   ]
  },
  {
   "cell_type": "markdown",
   "metadata": {},
   "source": [
    "Create"
   ]
  },
  {
   "cell_type": "code",
   "execution_count": 13,
   "metadata": {},
   "outputs": [],
   "source": [
    "neoauto['Upholstery'] = np.where(neoauto['Upholstery'] == 'Asientos de cuero', 'cuero', neoauto['Upholstery'])"
   ]
  },
  {
   "cell_type": "markdown",
   "metadata": {},
   "source": [
    "Validate"
   ]
  },
  {
   "cell_type": "code",
   "execution_count": 14,
   "metadata": {},
   "outputs": [
    {
     "data": {
      "text/plain": [
       "Upholstery\n",
       "tela     4125\n",
       "cuero    1236\n",
       "Name: count, dtype: int64"
      ]
     },
     "execution_count": 14,
     "metadata": {},
     "output_type": "execute_result"
    }
   ],
   "source": [
    "neoauto['Upholstery'].value_counts()"
   ]
  },
  {
   "cell_type": "markdown",
   "metadata": {},
   "source": [
    "### Color"
   ]
  },
  {
   "cell_type": "markdown",
   "metadata": {},
   "source": [
    "Create"
   ]
  },
  {
   "cell_type": "code",
   "execution_count": 15,
   "metadata": {},
   "outputs": [],
   "source": [
    "neoauto['Color'] = neoauto['Color'].astype(str)\n",
    "\n",
    "def extract_base_color(color):\n",
    "    # Definir patrones de regex para los colores base\n",
    "    patterns = {\n",
    "        'blanco': r'^Blanco',\n",
    "        'plata': r'^Plata',\n",
    "        'gris': r'^Gris',\n",
    "        'rojo': r'^Rojo',\n",
    "        'azul': r'^Azul',\n",
    "        'negro': r'^Negro',\n",
    "        'marron': r'^(Marrón|Chocolate|Beige)',\n",
    "    }\n",
    "    \n",
    "    for base_color, pattern in patterns.items():\n",
    "        if pd.Series(color).str.contains(pattern,  na = False).any():\n",
    "            return base_color\n",
    "    \n",
    "    return 'otros'\n",
    "\n",
    "neoauto['Color'] = neoauto['Color'].apply(extract_base_color)"
   ]
  },
  {
   "cell_type": "markdown",
   "metadata": {},
   "source": [
    "Validate"
   ]
  },
  {
   "cell_type": "code",
   "execution_count": 16,
   "metadata": {},
   "outputs": [
    {
     "data": {
      "text/plain": [
       "Color\n",
       "gris      1119\n",
       "blanco     931\n",
       "negro      838\n",
       "otros      810\n",
       "plata      555\n",
       "rojo       532\n",
       "azul       507\n",
       "marron      70\n",
       "Name: count, dtype: int64"
      ]
     },
     "execution_count": 16,
     "metadata": {},
     "output_type": "execute_result"
    }
   ],
   "source": [
    "neoauto['Color'].value_counts()"
   ]
  },
  {
   "cell_type": "markdown",
   "metadata": {},
   "source": [
    "### Location"
   ]
  },
  {
   "cell_type": "markdown",
   "metadata": {},
   "source": [
    "Create"
   ]
  },
  {
   "cell_type": "code",
   "execution_count": 17,
   "metadata": {},
   "outputs": [],
   "source": [
    "neoauto['Location'] = neoauto['Location'].str.split(',', expand = True).iloc[:, 1].str.strip()"
   ]
  },
  {
   "cell_type": "code",
   "execution_count": 18,
   "metadata": {},
   "outputs": [],
   "source": [
    "neoauto['Location'] = np.where(neoauto['Location'] != 'Lima', 'Provincias', neoauto['Location'])"
   ]
  },
  {
   "cell_type": "markdown",
   "metadata": {},
   "source": [
    "Validate"
   ]
  },
  {
   "cell_type": "code",
   "execution_count": 19,
   "metadata": {},
   "outputs": [
    {
     "data": {
      "text/plain": [
       "Location\n",
       "Lima          4926\n",
       "Provincias     436\n",
       "Name: count, dtype: int64"
      ]
     },
     "execution_count": 19,
     "metadata": {},
     "output_type": "execute_result"
    }
   ],
   "source": [
    "neoauto['Location'].value_counts()"
   ]
  },
  {
   "cell_type": "markdown",
   "metadata": {},
   "source": [
    "### Fuel_type"
   ]
  },
  {
   "cell_type": "markdown",
   "metadata": {},
   "source": [
    "Create"
   ]
  },
  {
   "cell_type": "code",
   "execution_count": 20,
   "metadata": {},
   "outputs": [],
   "source": [
    "neoauto['Fuel_type'] = neoauto['Fuel_type'].map({'Gasolina': 'gasolina',\n",
    "                                                 'Gas GLP': 'gas_glp',\n",
    "                                                 'Diesel': 'diesel',\n",
    "                                                 'Dual': 'dual',\n",
    "                                                 'Gas GNV': 'gas_gnv',\n",
    "                                                 'Gasolina-HÃ­brido': 'otros',\n",
    "                                                 'ElÃ©ctrico': 'electrico'})"
   ]
  },
  {
   "cell_type": "markdown",
   "metadata": {},
   "source": [
    "Validate"
   ]
  },
  {
   "cell_type": "code",
   "execution_count": 21,
   "metadata": {},
   "outputs": [
    {
     "data": {
      "text/plain": [
       "Fuel_type\n",
       "gasolina     4123\n",
       "dual          441\n",
       "diesel        423\n",
       "gas_glp       148\n",
       "gas_gnv        76\n",
       "otros          69\n",
       "electrico      12\n",
       "Name: count, dtype: int64"
      ]
     },
     "execution_count": 21,
     "metadata": {},
     "output_type": "execute_result"
    }
   ],
   "source": [
    "neoauto['Fuel_type'].value_counts()"
   ]
  },
  {
   "cell_type": "markdown",
   "metadata": {},
   "source": [
    "## Feature Engineering"
   ]
  },
  {
   "cell_type": "code",
   "execution_count": 22,
   "metadata": {},
   "outputs": [],
   "source": [
    "neoauto['Age'] = CURRENT_YEAR - neoauto['Year']"
   ]
  },
  {
   "cell_type": "markdown",
   "metadata": {},
   "source": [
    "Save csv"
   ]
  },
  {
   "cell_type": "code",
   "execution_count": 23,
   "metadata": {},
   "outputs": [],
   "source": [
    "neoauto.to_csv('datasets/clean/neoauto_clean.csv', index = False)"
   ]
  },
  {
   "cell_type": "markdown",
   "metadata": {},
   "source": [
    "# Autocosmos"
   ]
  },
  {
   "cell_type": "markdown",
   "metadata": {},
   "source": [
    "Read data"
   ]
  },
  {
   "cell_type": "code",
   "execution_count": 24,
   "metadata": {},
   "outputs": [
    {
     "name": "stdout",
     "output_type": "stream",
     "text": [
      "(1576, 15)\n"
     ]
    },
    {
     "data": {
      "text/html": [
       "<div>\n",
       "<style scoped>\n",
       "    .dataframe tbody tr th:only-of-type {\n",
       "        vertical-align: middle;\n",
       "    }\n",
       "\n",
       "    .dataframe tbody tr th {\n",
       "        vertical-align: top;\n",
       "    }\n",
       "\n",
       "    .dataframe thead th {\n",
       "        text-align: right;\n",
       "    }\n",
       "</style>\n",
       "<table border=\"1\" class=\"dataframe\">\n",
       "  <thead>\n",
       "    <tr style=\"text-align: right;\">\n",
       "      <th></th>\n",
       "      <th>Brands</th>\n",
       "      <th>Models</th>\n",
       "      <th>Version</th>\n",
       "      <th>Currency</th>\n",
       "      <th>Price</th>\n",
       "      <th>Urlpic</th>\n",
       "      <th>Year</th>\n",
       "      <th>KM</th>\n",
       "      <th>Fuel_type</th>\n",
       "      <th>Transmission</th>\n",
       "      <th>Location</th>\n",
       "      <th>Color</th>\n",
       "      <th>Cilinders</th>\n",
       "      <th>Upholstery</th>\n",
       "      <th>Engine</th>\n",
       "    </tr>\n",
       "  </thead>\n",
       "  <tbody>\n",
       "    <tr>\n",
       "      <th>0</th>\n",
       "      <td>MG</td>\n",
       "      <td>3</td>\n",
       "      <td>1.5 Std</td>\n",
       "      <td>USD</td>\n",
       "      <td>u$s4,800</td>\n",
       "      <td>https://acroadtrip.blob.core.windows.net/publi...</td>\n",
       "      <td>2014</td>\n",
       "      <td>85000 km</td>\n",
       "      <td>gasolina</td>\n",
       "      <td>manual 5 velocidades</td>\n",
       "      <td>Lima |Lima</td>\n",
       "      <td>Blanco</td>\n",
       "      <td>4 en lÃ­nea</td>\n",
       "      <td>tela</td>\n",
       "      <td>1498 cc</td>\n",
       "    </tr>\n",
       "    <tr>\n",
       "      <th>1</th>\n",
       "      <td>KIA</td>\n",
       "      <td>Cerato</td>\n",
       "      <td>1.6L EX Aut</td>\n",
       "      <td>USD</td>\n",
       "      <td>u$s7,999</td>\n",
       "      <td>https://acroadtrip.blob.core.windows.net/publi...</td>\n",
       "      <td>2014</td>\n",
       "      <td>156000 km</td>\n",
       "      <td>gasolina</td>\n",
       "      <td>automÃ¡tica 6 velocidades</td>\n",
       "      <td>Lima |Lima</td>\n",
       "      <td>Azul Galaxia</td>\n",
       "      <td>4 en lÃ­nea</td>\n",
       "      <td>tela</td>\n",
       "      <td>1591 cc</td>\n",
       "    </tr>\n",
       "    <tr>\n",
       "      <th>2</th>\n",
       "      <td>Toyota</td>\n",
       "      <td>Rav4</td>\n",
       "      <td>2.0L Full 4x2</td>\n",
       "      <td>USD</td>\n",
       "      <td>u$s8,800</td>\n",
       "      <td>https://acroadtrip.blob.core.windows.net/publi...</td>\n",
       "      <td>2018</td>\n",
       "      <td>17000 km</td>\n",
       "      <td>gasolina</td>\n",
       "      <td>manual 6 velocidades</td>\n",
       "      <td>Trujillo |La Libertad</td>\n",
       "      <td>Plata MetÃ¡lico</td>\n",
       "      <td>4 en lÃ­nea</td>\n",
       "      <td>tela</td>\n",
       "      <td>1987 cc</td>\n",
       "    </tr>\n",
       "    <tr>\n",
       "      <th>3</th>\n",
       "      <td>Mazda</td>\n",
       "      <td>3 Sport</td>\n",
       "      <td>2.5L High  Aut</td>\n",
       "      <td>USD</td>\n",
       "      <td>u$s5,390</td>\n",
       "      <td>https://acroadtrip.blob.core.windows.net/publi...</td>\n",
       "      <td>2015</td>\n",
       "      <td>36000 km</td>\n",
       "      <td>gasolina</td>\n",
       "      <td>automÃ¡tica 6 velocidades</td>\n",
       "      <td>La UniÃ³n |Arequipa</td>\n",
       "      <td>Rojo</td>\n",
       "      <td>4 en lÃ­nea</td>\n",
       "      <td>cuero</td>\n",
       "      <td>2497 cc</td>\n",
       "    </tr>\n",
       "    <tr>\n",
       "      <th>4</th>\n",
       "      <td>Ford</td>\n",
       "      <td>Territory</td>\n",
       "      <td>Titanium Plus</td>\n",
       "      <td>USD</td>\n",
       "      <td>u$s24,900</td>\n",
       "      <td>https://acroadtrip.blob.core.windows.net/publi...</td>\n",
       "      <td>2021</td>\n",
       "      <td>29300 km</td>\n",
       "      <td>gasolina</td>\n",
       "      <td>automÃ¡tica 8 velocidades</td>\n",
       "      <td>Lima |Lima</td>\n",
       "      <td>Blanco</td>\n",
       "      <td>4 en lÃ­nea</td>\n",
       "      <td>cuero</td>\n",
       "      <td>1500 cc</td>\n",
       "    </tr>\n",
       "  </tbody>\n",
       "</table>\n",
       "</div>"
      ],
      "text/plain": [
       "   Brands     Models         Version Currency      Price  \\\n",
       "0      MG          3         1.5 Std      USD   u$s4,800   \n",
       "1     KIA     Cerato     1.6L EX Aut      USD   u$s7,999   \n",
       "2  Toyota       Rav4   2.0L Full 4x2      USD   u$s8,800   \n",
       "3   Mazda    3 Sport  2.5L High  Aut      USD   u$s5,390   \n",
       "4    Ford  Territory   Titanium Plus      USD  u$s24,900   \n",
       "\n",
       "                                              Urlpic  Year         KM  \\\n",
       "0  https://acroadtrip.blob.core.windows.net/publi...  2014   85000 km   \n",
       "1  https://acroadtrip.blob.core.windows.net/publi...  2014  156000 km   \n",
       "2  https://acroadtrip.blob.core.windows.net/publi...  2018   17000 km   \n",
       "3  https://acroadtrip.blob.core.windows.net/publi...  2015   36000 km   \n",
       "4  https://acroadtrip.blob.core.windows.net/publi...  2021   29300 km   \n",
       "\n",
       "  Fuel_type               Transmission               Location  \\\n",
       "0  gasolina       manual 5 velocidades             Lima |Lima   \n",
       "1  gasolina  automÃ¡tica 6 velocidades             Lima |Lima   \n",
       "2  gasolina       manual 6 velocidades  Trujillo |La Libertad   \n",
       "3  gasolina  automÃ¡tica 6 velocidades    La UniÃ³n |Arequipa   \n",
       "4  gasolina  automÃ¡tica 8 velocidades             Lima |Lima   \n",
       "\n",
       "             Color    Cilinders Upholstery   Engine  \n",
       "0           Blanco  4 en lÃ­nea       tela  1498 cc  \n",
       "1     Azul Galaxia  4 en lÃ­nea       tela  1591 cc  \n",
       "2  Plata MetÃ¡lico  4 en lÃ­nea       tela  1987 cc  \n",
       "3             Rojo  4 en lÃ­nea      cuero  2497 cc  \n",
       "4           Blanco  4 en lÃ­nea      cuero  1500 cc  "
      ]
     },
     "execution_count": 24,
     "metadata": {},
     "output_type": "execute_result"
    }
   ],
   "source": [
    "autocosmos = pd.read_csv('datasets/raw/autocosmos.csv')\n",
    "print(autocosmos.shape)\n",
    "autocosmos.head()"
   ]
  },
  {
   "cell_type": "code",
   "execution_count": 25,
   "metadata": {},
   "outputs": [
    {
     "data": {
      "text/plain": [
       "Currency\n",
       "USD    1492\n",
       "PEN      84\n",
       "Name: count, dtype: int64"
      ]
     },
     "execution_count": 25,
     "metadata": {},
     "output_type": "execute_result"
    }
   ],
   "source": [
    "autocosmos.Currency.value_counts()"
   ]
  },
  {
   "cell_type": "markdown",
   "metadata": {},
   "source": [
    "## Clean numerical features"
   ]
  },
  {
   "cell_type": "markdown",
   "metadata": {},
   "source": [
    "Create"
   ]
  },
  {
   "cell_type": "code",
   "execution_count": 26,
   "metadata": {},
   "outputs": [],
   "source": [
    "autocosmos[['Price', 'Engine', 'KM', 'Cilinders']] = autocosmos[['Price', 'Engine', 'KM', 'Cilinders']].replace(to_replace = r'[^0-9]',\n",
    "                                                                                                     value = '', regex = True)\\\n",
    "                                                                             .replace(to_replace = '', value = np.nan)\\\n",
    "                                                                             .astype(float)\n",
    "\n",
    "autocosmos['Price'] = np.where(autocosmos['Currency'] == 'PEN',\n",
    "                               autocosmos['Price'] * SOLES_TO_DOLLAR,\n",
    "                               autocosmos['Price'])\n",
    "\n",
    "autocosmos['Currency'] = np.where(autocosmos['Currency'] == 'PEN',\n",
    "                                  'USD',\n",
    "                                  autocosmos['Currency'] )"
   ]
  },
  {
   "cell_type": "markdown",
   "metadata": {},
   "source": [
    "Validate"
   ]
  },
  {
   "cell_type": "code",
   "execution_count": 27,
   "metadata": {},
   "outputs": [
    {
     "data": {
      "text/plain": [
       "Price        float64\n",
       "Engine       float64\n",
       "KM           float64\n",
       "Cilinders    float64\n",
       "dtype: object"
      ]
     },
     "execution_count": 27,
     "metadata": {},
     "output_type": "execute_result"
    }
   ],
   "source": [
    "autocosmos[['Price', 'Engine', 'KM', 'Cilinders']].dtypes"
   ]
  },
  {
   "cell_type": "markdown",
   "metadata": {},
   "source": [
    "Validate"
   ]
  },
  {
   "cell_type": "markdown",
   "metadata": {},
   "source": [
    "## Clean categorical features"
   ]
  },
  {
   "cell_type": "markdown",
   "metadata": {},
   "source": [
    "Check unique values"
   ]
  },
  {
   "cell_type": "code",
   "execution_count": 28,
   "metadata": {},
   "outputs": [
    {
     "data": {
      "text/html": [
       "<div>\n",
       "<style scoped>\n",
       "    .dataframe tbody tr th:only-of-type {\n",
       "        vertical-align: middle;\n",
       "    }\n",
       "\n",
       "    .dataframe tbody tr th {\n",
       "        vertical-align: top;\n",
       "    }\n",
       "\n",
       "    .dataframe thead th {\n",
       "        text-align: right;\n",
       "    }\n",
       "</style>\n",
       "<table border=\"1\" class=\"dataframe\">\n",
       "  <thead>\n",
       "    <tr style=\"text-align: right;\">\n",
       "      <th></th>\n",
       "      <th>Brands</th>\n",
       "      <th>Models</th>\n",
       "      <th>Version</th>\n",
       "      <th>Currency</th>\n",
       "      <th>Urlpic</th>\n",
       "      <th>Fuel_type</th>\n",
       "      <th>Transmission</th>\n",
       "      <th>Location</th>\n",
       "      <th>Color</th>\n",
       "      <th>Upholstery</th>\n",
       "    </tr>\n",
       "  </thead>\n",
       "  <tbody>\n",
       "    <tr>\n",
       "      <th>count</th>\n",
       "      <td>1576</td>\n",
       "      <td>1576</td>\n",
       "      <td>1576</td>\n",
       "      <td>1576</td>\n",
       "      <td>1576</td>\n",
       "      <td>1570</td>\n",
       "      <td>1556</td>\n",
       "      <td>1576</td>\n",
       "      <td>1576</td>\n",
       "      <td>1500</td>\n",
       "    </tr>\n",
       "    <tr>\n",
       "      <th>unique</th>\n",
       "      <td>57</td>\n",
       "      <td>414</td>\n",
       "      <td>884</td>\n",
       "      <td>1</td>\n",
       "      <td>1574</td>\n",
       "      <td>2</td>\n",
       "      <td>46</td>\n",
       "      <td>48</td>\n",
       "      <td>98</td>\n",
       "      <td>12</td>\n",
       "    </tr>\n",
       "    <tr>\n",
       "      <th>top</th>\n",
       "      <td>Toyota</td>\n",
       "      <td>Sportage</td>\n",
       "      <td>1.6L</td>\n",
       "      <td>USD</td>\n",
       "      <td>https://acroadtrip.blob.core.windows.net/publi...</td>\n",
       "      <td>gasolina</td>\n",
       "      <td>manual 5 velocidades</td>\n",
       "      <td>Lima |Lima</td>\n",
       "      <td>Blanco</td>\n",
       "      <td>tela</td>\n",
       "    </tr>\n",
       "    <tr>\n",
       "      <th>freq</th>\n",
       "      <td>158</td>\n",
       "      <td>37</td>\n",
       "      <td>17</td>\n",
       "      <td>1576</td>\n",
       "      <td>2</td>\n",
       "      <td>1435</td>\n",
       "      <td>530</td>\n",
       "      <td>1173</td>\n",
       "      <td>260</td>\n",
       "      <td>1055</td>\n",
       "    </tr>\n",
       "  </tbody>\n",
       "</table>\n",
       "</div>"
      ],
      "text/plain": [
       "        Brands    Models Version Currency  \\\n",
       "count     1576      1576    1576     1576   \n",
       "unique      57       414     884        1   \n",
       "top     Toyota  Sportage    1.6L      USD   \n",
       "freq       158        37      17     1576   \n",
       "\n",
       "                                                   Urlpic Fuel_type  \\\n",
       "count                                                1576      1570   \n",
       "unique                                               1574         2   \n",
       "top     https://acroadtrip.blob.core.windows.net/publi...  gasolina   \n",
       "freq                                                    2      1435   \n",
       "\n",
       "                Transmission    Location   Color Upholstery  \n",
       "count                   1556        1576    1576       1500  \n",
       "unique                    46          48      98         12  \n",
       "top     manual 5 velocidades  Lima |Lima  Blanco       tela  \n",
       "freq                     530        1173     260       1055  "
      ]
     },
     "execution_count": 28,
     "metadata": {},
     "output_type": "execute_result"
    }
   ],
   "source": [
    "autocosmos.describe(include = object)"
   ]
  },
  {
   "cell_type": "markdown",
   "metadata": {},
   "source": [
    "### Brands"
   ]
  },
  {
   "cell_type": "code",
   "execution_count": 29,
   "metadata": {},
   "outputs": [
    {
     "data": {
      "text/plain": [
       "array(['MG', 'KIA', 'Toyota', 'Mazda', 'Ford', 'Hyundai', 'BMW', 'Nissan',\n",
       "       'Jeep', 'Geely', 'Honda', 'Chevrolet', 'Volkswagen', 'Foton',\n",
       "       'Mercedes Benz', 'Audi', 'Fiat', 'Chery', 'Haval', 'Suzuki',\n",
       "       'Jetour', 'JAC', 'Daewoo', 'Renault', 'Subaru', 'Jaguar',\n",
       "       'Great Wall', 'Peugeot', 'Changan', 'DFSK', 'Mahindra',\n",
       "       'Ssangyong', 'Mitsubishi', 'Dodge', 'Land Rover', 'Dongfeng',\n",
       "       'KYC', 'CitroÃ«n', 'BAIC', 'Volvo', 'JMC', 'BYD', 'Mini',\n",
       "       'Golden Dragon', 'ZX Auto', 'Lifan', 'Seat', 'Jinbei', 'Daihatsu',\n",
       "       'RAM', 'Porsche', 'Lexus', 'Zotye', 'Brilliance', 'DS', 'Shineray',\n",
       "       'Soueast'], dtype=object)"
      ]
     },
     "execution_count": 29,
     "metadata": {},
     "output_type": "execute_result"
    }
   ],
   "source": [
    "autocosmos.Brands.unique()"
   ]
  },
  {
   "cell_type": "code",
   "execution_count": 30,
   "metadata": {},
   "outputs": [],
   "source": [
    "autocosmos['Brands'] = np.where(autocosmos['Brands'] == 'CitroÃ«n', 'Citroen', autocosmos['Brands'])\n",
    "autocosmos['Brands'] = autocosmos['Brands'].str.upper()"
   ]
  },
  {
   "cell_type": "code",
   "execution_count": 31,
   "metadata": {},
   "outputs": [
    {
     "data": {
      "text/plain": [
       "array(['MG', 'KIA', 'TOYOTA', 'MAZDA', 'FORD', 'HYUNDAI', 'BMW', 'NISSAN',\n",
       "       'JEEP', 'GEELY', 'HONDA', 'CHEVROLET', 'VOLKSWAGEN', 'FOTON',\n",
       "       'MERCEDES BENZ', 'AUDI', 'FIAT', 'CHERY', 'HAVAL', 'SUZUKI',\n",
       "       'JETOUR', 'JAC', 'DAEWOO', 'RENAULT', 'SUBARU', 'JAGUAR',\n",
       "       'GREAT WALL', 'PEUGEOT', 'CHANGAN', 'DFSK', 'MAHINDRA',\n",
       "       'SSANGYONG', 'MITSUBISHI', 'DODGE', 'LAND ROVER', 'DONGFENG',\n",
       "       'KYC', 'CITROEN', 'BAIC', 'VOLVO', 'JMC', 'BYD', 'MINI',\n",
       "       'GOLDEN DRAGON', 'ZX AUTO', 'LIFAN', 'SEAT', 'JINBEI', 'DAIHATSU',\n",
       "       'RAM', 'PORSCHE', 'LEXUS', 'ZOTYE', 'BRILLIANCE', 'DS', 'SHINERAY',\n",
       "       'SOUEAST'], dtype=object)"
      ]
     },
     "execution_count": 31,
     "metadata": {},
     "output_type": "execute_result"
    }
   ],
   "source": [
    "autocosmos.Brands.unique()"
   ]
  },
  {
   "cell_type": "markdown",
   "metadata": {},
   "source": [
    "### Models"
   ]
  },
  {
   "cell_type": "code",
   "execution_count": 32,
   "metadata": {},
   "outputs": [],
   "source": [
    "def clean_text(text):\n",
    "    if isinstance(text, str):\n",
    "        replacements = {\n",
    "            'Ã¡': 'á',\n",
    "            'Ã©': 'é',\n",
    "            'Ã­': 'í',\n",
    "            'Ã³': 'ó',\n",
    "            'Ãº': 'ú',\n",
    "            'Ã±': 'ñ',\n",
    "            'â€™': '’',\n",
    "            'â€œ': '“',\n",
    "            'â€': '”'\n",
    "        }\n",
    "        for wrong, correct in replacements.items():\n",
    "            text = text.replace(wrong, correct)\n",
    "    return text\n",
    "\n",
    "autocosmos['Models'] = autocosmos['Models'].apply(clean_text)\n",
    "autocosmos['Models'] = autocosmos['Models'].str.upper()"
   ]
  },
  {
   "cell_type": "code",
   "execution_count": 33,
   "metadata": {},
   "outputs": [
    {
     "data": {
      "text/plain": [
       "array(['3', 'CERATO', 'RAV4', '3 SPORT', 'TERRITORY', 'I10', 'SONATA',\n",
       "       'SERIE 4 GRAN COUPÉ', 'VERSA', 'CAMRY', 'COMPASS', 'OKAVANGO',\n",
       "       'PATRIOT', '3 SEDÁN', 'CIVIC', 'PRISMA', 'KICKS', 'RIO HATCHBACK',\n",
       "       'GRAND CHEROKEE', 'SENTRA', 'CROSSFOX', 'COROLLA CROSS', 'COROLLA',\n",
       "       'TUNLAND', 'GOL', 'CLASE C', 'GOLF', 'SERIE 3', 'A4', 'N300 MAX',\n",
       "       'UNO WAY', 'AVANZA', 'TIGGO 2 PRO', 'H2', 'SOLUTO', 'APV',\n",
       "       'TUCSON', 'X70', 'SONET', 'RIO CROSS', 'REFINE', 'DAMAS VAN',\n",
       "       'RIO', 'POLO', 'HILUX', 'YARIS SEDÁN', 'ECOSPORT', 'CELERIO',\n",
       "       'DUSTER', 'JUKE', 'CLASE A', 'TIGGO 7 PRO', 'IMPREZA SEDÁN',\n",
       "       'F-TYPE', 'X-TRAIL', 'H3', '207', 'FORESTER', 'HR-V',\n",
       "       'GRAND NOMADE', 'FUSION', 'RUSH', 'CS35 PLUS', 'GRAND VITARA',\n",
       "       '500', 'SPORTAGE', '6 SEDÁN', 'ELANTRA', 'PASSAT CC', 'EXPLORER',\n",
       "       'BORA', 'H1 VAN', 'PIK UP', 'NIVUS', 'KWID', 'TIGUAN', 'XV',\n",
       "       'KORANDO', 'SORENTO', 'BT-50', 'J4', 'KOLEOS', 'ASX', 'LANCER',\n",
       "       'CX-9', 'DART', 'TIGGO 8 PRO', 'RANGE ROVER SPORT', 'DUSTER OROCH',\n",
       "       'ONIX SEDAN', 'N400 MOVE', 'S500', 'X5 CARGO BOX', 'BERLINGO',\n",
       "       'OUTLANDER', 'JS8', 'TRAVERSE', 'H6', 'ZX PLUS',\n",
       "       'CLASE CLK (COUPE)', 'IMPREZA', 'X35', 'MARCH', 'PRIMERA',\n",
       "       'CRUZE HATCHBACK', 'RANGER', 'I20 ACTIVE', 'JOY BLACK SEDÁN',\n",
       "       'LOGAN', 'CX-3', 'FORTUNER', 'S3', '460 GLT', 'X1',\n",
       "       'LAND CRUISER PRADO', 'TIGGO 2', 'CAPTIVA', 'VAN', 'PARTNER',\n",
       "       'GÉNESIS COUPÉ', 'VIGUS', 'EVOLTIS', 'ACCENT', 'CX-5',\n",
       "       'IMPREZA SPORT', '301', 'SANTA FE', 'HONOR S', 'PICANTO CROSS',\n",
       "       'CLASE GLA', 'AMAROK', 'CX-30', 'XPANDER', 'BALENO', 'SX4',\n",
       "       'GOL SEDÁN', 'V5 MINIVAN', 'F3', 'MURANO', 'S60', 'PICANTO',\n",
       "       'WR-V', 'SWIFT', 'JETTA', 'CK', 'ETIOS', 'QASHQAI', 'AGYA',\n",
       "       'CHEROKEE', 'FRONTIER', 'YARIS HATCHBACK', 'TICO', 'XC40', 'L200',\n",
       "       'MIRAGE G4', 'C4', 'F-350', 'JIMNY', 'H-100', 'STARLET',\n",
       "       'COOPER COUNTRYMAN', 'L200 DK-R', 'OPTIMA', 'CRUZE SEDÁN',\n",
       "       'JOURNEY', 'ESCORT (SEDAN)', 'UP!', 'SPARK GT', 'GRAND I10 HATCH',\n",
       "       'LAND CRUISER', 'CC', 'CS15', 'CX70', 'COOPER', 'ERTIGA',\n",
       "       '2 SEDÁN', 'EXPEDITION', 'PICKUP', 'SPACEFOX', 'XC90',\n",
       "       'PATHFINDER', 'ACCORD', 'LATINA', 'Q22L', 'TRACKER', 'TIGGO 8',\n",
       "       'GRAND CHEROKEE L', 'NAVARA', 'WINGLE 7', 'CORONA', 'ACTYON',\n",
       "       'JOY BLACK', 'VIEW', 'CLASE CLA', '208', 'NATIVA', 'TIGGO 3',\n",
       "       'JOLION', 'F-150', 'CR-V', 'URBAN ARK', 'TIGGO 4 PRO',\n",
       "       'TIIDA SEDÁN', 'T8', 'CLASE S', 'C3', 'SERIE 5', 'RENEGADE', 'A6',\n",
       "       'XC60', 'EQUINOX', 'BEETLE', 'AD', 'AVENSIS', 'L300', 'SELTOS',\n",
       "       'ESCAPE', 'AVEO SEDÁN', 'SAUVANA', 'GRAND I10 SEDAN', 'TRAVELLER',\n",
       "       'N300 MOVE', 'SOUL', 'TRACKER TURBO', 'FLUENCE', 'LEGACY',\n",
       "       '207 COMPACT', 'XE', 'HAN EV', 'SONIC', 'DURANGO', 'ACCENT SEDÁN',\n",
       "       'EMGRAND 7', '86', 'SX5', 'ZX', 'VERNA', 'UNO', 'KOMBI',\n",
       "       'CARRYING', 'VOLEEX C30', 'URBAN CRUISER', 'GX3', 'SERIE 1 COUPÉ',\n",
       "       'T-CROSS', 'TIGGO', 'TAHOE', 'FIORINO', 'FIERA', 'CITY', 'STEPWAY',\n",
       "       '244', 'S-CROSS', 'MASTER MINIBUS', 'SERIE 1', 'Q5', 'SAFE',\n",
       "       'DISCOVERY SPORT', 'ALMERA', 'VIVANT', 'MUSTANG', 'COPPER S',\n",
       "       'AZKARRA', 'VIRTUS', 'GC7', 'VITARA', 'A3 SEDÁN', 'CIAZ',\n",
       "       'COROLLA (SW)', 'FASTBACK', 'CRETA', 'TRUCK', 'IBIZA', 'BALENO 4P',\n",
       "       'KONECT', 'MOBI', 'TERIOS CITY', 'Z4', 'SPIN ACTIV',\n",
       "       'MONTERO SPORT', 'DZIRE', 'ECLIPSE CROSS', 'TRIBECA', '2 SPORT',\n",
       "       '3008', 'ACCENT GNV ECO CAR', '5', 'WRX', 'J6', 'I20', 'AMAROK V6',\n",
       "       'GRAND S3', 'V700', 'MEGANE', 'TOWNER', 'CAYENNE GTS', 'PASSAT',\n",
       "       'COROLLA HATCHBACK', 'PICK UP', 'ACTYON SPORTS', 'REXTON DIESEL',\n",
       "       'CERATO KOUP', 'MIRAGE', 'SX4 SEDÁN', 'K60', '323',\n",
       "       'NP300 FRONTIER', 'CELICA', 'PATROL', 'S PRESSO', 'GRAND SANTA FE',\n",
       "       'GS', 'TIVOLI', 'LEGACY SEDÁN', 'TIGGO 4', 'ZS', '407', '580',\n",
       "       'J2', 'S2', 'GLB', 'HB', 'LANDTREK', 'ESCORT (SW)', 'T600',\n",
       "       'GLORY', 'FUSO', 'MONTERO', 'VENUE', 'NITRO', '4000', 'DISCOVERY',\n",
       "       'DEER', 'WRANGLER', 'SWIFT SEDÁN', 'COOLRAY', 'POLO SEDÁN',\n",
       "       'SPRINTER', 'TIGGO 5', 'VELOSTER', 'CAYENNE S', 'X55', 'RODIUS',\n",
       "       'EON', 'S5', 'V3', 'KYRON', 'STAVIC', 'SEDAN', 'TOUAREG', 'S40',\n",
       "       '560', 'H5', '350Z', 'MOHAVE', 'SAVEIRO', 'CS55', '4', 'ATOS',\n",
       "       'IS', 'JETTA GLI', 'JS3', 'GRAND SUPER VAN', 'LEON', 'Q22',\n",
       "       'F300S', 'OUTBACK', '5008', 'BIPPER', 'CADENZA', 'SWIFT HYBRID',\n",
       "       'GRATOUR PX', 'VELAR', 'ANDINA', 'WINGLE', 'DX3', 'TERRANO II',\n",
       "       'CS75', 'MUSSO GRAND', 'TRANSPORTER', 'X5', 'SAIL', 'C3 AIRCROSS',\n",
       "       'C-ELYSÉE', 'BRONCO SPORT', 'A3', 'M3 SEDÁN', 'INTEGRA', 'GROOVE',\n",
       "       'A5', 'X2', 'OPTRA', 'COLORADO', 'NUBIRA II SEDAN', 'EDGE', 'FIT',\n",
       "       'XANTIA', 'A3 SPORTBACK', 'TRAILBLAZER', 'TERRACAN',\n",
       "       'XSARA PICASSO', 'RACER', 'STRADA WORKING', 'X3', 'ARGO',\n",
       "       'PALIO ADVENTURE', 'FIESTA', 'H1 MINIBUS', 'SPIN', 'AVEO', 'CIELO',\n",
       "       'PILOT', 'ONIX', 'C4 CACTUS'], dtype=object)"
      ]
     },
     "execution_count": 33,
     "metadata": {},
     "output_type": "execute_result"
    }
   ],
   "source": [
    "autocosmos.Models.unique()"
   ]
  },
  {
   "cell_type": "markdown",
   "metadata": {},
   "source": [
    "### Transmission"
   ]
  },
  {
   "cell_type": "markdown",
   "metadata": {},
   "source": [
    "Clean"
   ]
  },
  {
   "cell_type": "code",
   "execution_count": 34,
   "metadata": {},
   "outputs": [],
   "source": [
    "autocosmos['Transmission'] = autocosmos['Transmission'].apply(clean_text)"
   ]
  },
  {
   "cell_type": "markdown",
   "metadata": {},
   "source": [
    "Create"
   ]
  },
  {
   "cell_type": "code",
   "execution_count": 35,
   "metadata": {},
   "outputs": [],
   "source": [
    "autocosmos['Transmission'] = np.select([autocosmos['Transmission'].str.lower().str.strip().str.contains(r'\\b(automática.*manual|manual.*automática)\\b', \n",
    "                                                                                                          regex = True, na = False),\n",
    "                                        autocosmos['Transmission'].str.lower().str.strip().str.contains('manual', na = False),\n",
    "                                        autocosmos['Transmission'].str.lower().str.strip().str.contains('automática', na = False)],\n",
    "                                        ['automatica_secuencial', 'mecanica', 'automatica'],\n",
    "                                        default = 'otros')"
   ]
  },
  {
   "cell_type": "markdown",
   "metadata": {},
   "source": [
    "Validate"
   ]
  },
  {
   "cell_type": "code",
   "execution_count": 36,
   "metadata": {},
   "outputs": [
    {
     "data": {
      "text/plain": [
       "Transmission\n",
       "mecanica                 912\n",
       "automatica               527\n",
       "otros                    110\n",
       "automatica_secuencial     27\n",
       "Name: count, dtype: int64"
      ]
     },
     "execution_count": 36,
     "metadata": {},
     "output_type": "execute_result"
    }
   ],
   "source": [
    "autocosmos['Transmission'].value_counts()"
   ]
  },
  {
   "cell_type": "markdown",
   "metadata": {},
   "source": [
    "### Version"
   ]
  },
  {
   "cell_type": "markdown",
   "metadata": {},
   "source": [
    "Create"
   ]
  },
  {
   "cell_type": "code",
   "execution_count": 37,
   "metadata": {},
   "outputs": [],
   "source": [
    "prem_pattern = r'\\b(?:lx|lux|deluxe|l|ltz|sel|ex-l|sl|xle|sxl|plat|prem|luxury|el|ul|g|signature|diamond|elite|luxe|limited|high|awd|titanium)\\b'\n",
    "\n",
    "autocosmos['Version'] = np.select([autocosmos['Version'].str.lower().str.strip().str.contains(prem_pattern, regex = True, na = False),\n",
    "                                   autocosmos['Version'].str.lower().str.strip().str.contains('4x2', na = False),\n",
    "                                   autocosmos['Version'].str.lower().str.strip().str.contains('4x4', na = False),\n",
    "                                   autocosmos['Version'].str.lower().str.strip().str.contains('delantera', na = False),\n",
    "                                   autocosmos['Version'].str.lower().str.strip().str.contains('posterior', na = False)],\n",
    "                                  ['premium', '4x2', '4x4', 'delantera', 'posterior'],\n",
    "                                  default = 'otros')"
   ]
  },
  {
   "cell_type": "markdown",
   "metadata": {},
   "source": [
    "Validate"
   ]
  },
  {
   "cell_type": "code",
   "execution_count": 38,
   "metadata": {},
   "outputs": [
    {
     "data": {
      "text/plain": [
       "Version\n",
       "otros      1079\n",
       "premium     248\n",
       "4x2         126\n",
       "4x4         123\n",
       "Name: count, dtype: int64"
      ]
     },
     "execution_count": 38,
     "metadata": {},
     "output_type": "execute_result"
    }
   ],
   "source": [
    "autocosmos['Version'].value_counts()"
   ]
  },
  {
   "cell_type": "markdown",
   "metadata": {},
   "source": [
    "### Upholstery"
   ]
  },
  {
   "cell_type": "markdown",
   "metadata": {},
   "source": [
    "Create"
   ]
  },
  {
   "cell_type": "code",
   "execution_count": 39,
   "metadata": {},
   "outputs": [],
   "source": [
    "both_pattern = r'\\b(?:tela.*cuero|cuero.*tela)\\b'\n",
    "autocosmos['Upholstery'] = np.select([autocosmos['Upholstery'].str.lower().str.strip().str.contains(both_pattern, regex = True, na = False),\n",
    "                                      autocosmos['Upholstery'].str.lower().str.strip().str.contains('tela', na = False),\n",
    "                                      autocosmos['Upholstery'].str.lower().str.strip().str.contains('cuero', na = False)],\n",
    "                                     ['tela_cuero', 'tela', 'cuero'],\n",
    "                                     default = 'otros')"
   ]
  },
  {
   "cell_type": "markdown",
   "metadata": {},
   "source": [
    "Validate"
   ]
  },
  {
   "cell_type": "code",
   "execution_count": 40,
   "metadata": {},
   "outputs": [
    {
     "data": {
      "text/plain": [
       "Upholstery\n",
       "tela          1059\n",
       "cuero          346\n",
       "otros          129\n",
       "tela_cuero      42\n",
       "Name: count, dtype: int64"
      ]
     },
     "execution_count": 40,
     "metadata": {},
     "output_type": "execute_result"
    }
   ],
   "source": [
    "autocosmos['Upholstery'].value_counts()"
   ]
  },
  {
   "cell_type": "markdown",
   "metadata": {},
   "source": [
    "### Color"
   ]
  },
  {
   "cell_type": "markdown",
   "metadata": {},
   "source": [
    "Create"
   ]
  },
  {
   "cell_type": "code",
   "execution_count": 41,
   "metadata": {},
   "outputs": [],
   "source": [
    "autocosmos['Color'] = autocosmos['Color'].astype(str)\n",
    "\n",
    "def extract_base_color(color):\n",
    "    # Definir patrones de regex para los colores base\n",
    "    patterns = {\n",
    "        'blanco': r'^Blanco',\n",
    "        'plata': r'^Plata',\n",
    "        'gris': r'^Gris',\n",
    "        'rojo': r'^Rojo',\n",
    "        'azul': r'^Azul',\n",
    "        'negro': r'^Negro',\n",
    "        'marron': r'^(Marrón|Chocolate|Beige)',\n",
    "    }\n",
    "    \n",
    "    for base_color, pattern in patterns.items():\n",
    "        if pd.Series(color).str.contains(pattern,  na = False).any():\n",
    "            return base_color\n",
    "    \n",
    "    return 'otros'\n",
    "\n",
    "autocosmos['Color'] = autocosmos['Color'].apply(extract_base_color)"
   ]
  },
  {
   "cell_type": "markdown",
   "metadata": {},
   "source": [
    "Validate"
   ]
  },
  {
   "cell_type": "code",
   "execution_count": 42,
   "metadata": {},
   "outputs": [
    {
     "data": {
      "text/plain": [
       "Color\n",
       "gris      322\n",
       "blanco    284\n",
       "negro     269\n",
       "plata     235\n",
       "rojo      192\n",
       "azul      159\n",
       "otros     103\n",
       "marron     12\n",
       "Name: count, dtype: int64"
      ]
     },
     "execution_count": 42,
     "metadata": {},
     "output_type": "execute_result"
    }
   ],
   "source": [
    "autocosmos['Color'].value_counts()"
   ]
  },
  {
   "cell_type": "markdown",
   "metadata": {},
   "source": [
    "### Location"
   ]
  },
  {
   "cell_type": "markdown",
   "metadata": {},
   "source": [
    "Create"
   ]
  },
  {
   "cell_type": "code",
   "execution_count": 43,
   "metadata": {},
   "outputs": [],
   "source": [
    "autocosmos['Location'] = autocosmos['Location'].str.split('|', expand = True).iloc[:, 1].str.strip()"
   ]
  },
  {
   "cell_type": "code",
   "execution_count": 44,
   "metadata": {},
   "outputs": [],
   "source": [
    "autocosmos['Location'] = np.where(autocosmos['Location'] != 'Lima', 'Provincias', autocosmos['Location'])"
   ]
  },
  {
   "cell_type": "markdown",
   "metadata": {},
   "source": [
    "Validate"
   ]
  },
  {
   "cell_type": "code",
   "execution_count": 45,
   "metadata": {},
   "outputs": [
    {
     "data": {
      "text/plain": [
       "Location\n",
       "Lima          1186\n",
       "Provincias     390\n",
       "Name: count, dtype: int64"
      ]
     },
     "execution_count": 45,
     "metadata": {},
     "output_type": "execute_result"
    }
   ],
   "source": [
    "autocosmos['Location'].value_counts()"
   ]
  },
  {
   "cell_type": "markdown",
   "metadata": {},
   "source": [
    "### Fuel_type"
   ]
  },
  {
   "cell_type": "markdown",
   "metadata": {},
   "source": [
    "Create"
   ]
  },
  {
   "cell_type": "code",
   "execution_count": 46,
   "metadata": {},
   "outputs": [
    {
     "data": {
      "text/plain": [
       "'\\nNothing to do\\n'"
      ]
     },
     "execution_count": 46,
     "metadata": {},
     "output_type": "execute_result"
    }
   ],
   "source": [
    "\"\"\"\n",
    "Nothing to do\n",
    "\"\"\""
   ]
  },
  {
   "cell_type": "markdown",
   "metadata": {},
   "source": [
    "Validate"
   ]
  },
  {
   "cell_type": "code",
   "execution_count": 47,
   "metadata": {},
   "outputs": [
    {
     "data": {
      "text/plain": [
       "Fuel_type\n",
       "gasolina    1435\n",
       "diesel       135\n",
       "Name: count, dtype: int64"
      ]
     },
     "execution_count": 47,
     "metadata": {},
     "output_type": "execute_result"
    }
   ],
   "source": [
    "autocosmos['Fuel_type'].value_counts()"
   ]
  },
  {
   "cell_type": "markdown",
   "metadata": {},
   "source": [
    "## Feature Engineering"
   ]
  },
  {
   "cell_type": "code",
   "execution_count": 48,
   "metadata": {},
   "outputs": [],
   "source": [
    "autocosmos['Age'] = CURRENT_YEAR - autocosmos['Year']"
   ]
  },
  {
   "cell_type": "markdown",
   "metadata": {},
   "source": [
    "Save csv"
   ]
  },
  {
   "cell_type": "code",
   "execution_count": 49,
   "metadata": {},
   "outputs": [],
   "source": [
    "autocosmos.to_csv('datasets/clean/autocosmos_clean.csv', index = False)"
   ]
  },
  {
   "cell_type": "markdown",
   "metadata": {},
   "source": [
    "# Both Sources"
   ]
  },
  {
   "cell_type": "code",
   "execution_count": 50,
   "metadata": {},
   "outputs": [],
   "source": [
    "# read both dataframes\n",
    "neoauto = pd.read_csv('datasets/clean/neoauto_clean.csv')\n",
    "autocosmos = pd.read_csv('datasets/clean/autocosmos_clean.csv')\\\n",
    "               .rename(columns = {'Cilinders': 'Cilinder'})\n",
    "\n",
    "# get intersected columns\n",
    "unique_columns = sorted(list(set(neoauto.columns.tolist()).intersection(set(autocosmos.columns.tolist()))))\n",
    "\n",
    "# concatenate data\n",
    "data = pd.concat([neoauto[unique_columns], autocosmos[unique_columns]], axis = 0, ignore_index = True)\n",
    "\n",
    "# save dataframe\n",
    "data.to_csv('datasets/clean/data.csv', index = False)"
   ]
  },
  {
   "cell_type": "code",
   "execution_count": 51,
   "metadata": {},
   "outputs": [
    {
     "data": {
      "text/html": [
       "<div>\n",
       "<style scoped>\n",
       "    .dataframe tbody tr th:only-of-type {\n",
       "        vertical-align: middle;\n",
       "    }\n",
       "\n",
       "    .dataframe tbody tr th {\n",
       "        vertical-align: top;\n",
       "    }\n",
       "\n",
       "    .dataframe thead th {\n",
       "        text-align: right;\n",
       "    }\n",
       "</style>\n",
       "<table border=\"1\" class=\"dataframe\">\n",
       "  <thead>\n",
       "    <tr style=\"text-align: right;\">\n",
       "      <th></th>\n",
       "      <th>Age</th>\n",
       "      <th>Brands</th>\n",
       "      <th>Cilinder</th>\n",
       "      <th>Color</th>\n",
       "      <th>Currency</th>\n",
       "      <th>Engine</th>\n",
       "      <th>Fuel_type</th>\n",
       "      <th>KM</th>\n",
       "      <th>Location</th>\n",
       "      <th>Models</th>\n",
       "      <th>Price</th>\n",
       "      <th>Transmission</th>\n",
       "      <th>Upholstery</th>\n",
       "      <th>Urlpic</th>\n",
       "      <th>Version</th>\n",
       "      <th>Year</th>\n",
       "    </tr>\n",
       "  </thead>\n",
       "  <tbody>\n",
       "    <tr>\n",
       "      <th>0</th>\n",
       "      <td>1.0</td>\n",
       "      <td>SUZUKI</td>\n",
       "      <td>3.0</td>\n",
       "      <td>rojo</td>\n",
       "      <td>USD</td>\n",
       "      <td>1000.0</td>\n",
       "      <td>gasolina</td>\n",
       "      <td>16684.0</td>\n",
       "      <td>Lima</td>\n",
       "      <td>S-PRESSO</td>\n",
       "      <td>9800.0</td>\n",
       "      <td>mecanica</td>\n",
       "      <td>tela</td>\n",
       "      <td>https://cde.neoauto.pe/autos_usados/360x240/66...</td>\n",
       "      <td>4x2</td>\n",
       "      <td>2023.0</td>\n",
       "    </tr>\n",
       "    <tr>\n",
       "      <th>1</th>\n",
       "      <td>1.0</td>\n",
       "      <td>DFSK</td>\n",
       "      <td>4.0</td>\n",
       "      <td>blanco</td>\n",
       "      <td>USD</td>\n",
       "      <td>1500.0</td>\n",
       "      <td>gas_glp</td>\n",
       "      <td>11054.0</td>\n",
       "      <td>Lima</td>\n",
       "      <td>GLORY 500</td>\n",
       "      <td>12000.0</td>\n",
       "      <td>mecanica</td>\n",
       "      <td>tela</td>\n",
       "      <td>https://cde.neoauto.pe/autos_usados/360x240/70...</td>\n",
       "      <td>delantera</td>\n",
       "      <td>2023.0</td>\n",
       "    </tr>\n",
       "    <tr>\n",
       "      <th>2</th>\n",
       "      <td>1.0</td>\n",
       "      <td>TOYOTA</td>\n",
       "      <td>4.0</td>\n",
       "      <td>rojo</td>\n",
       "      <td>USD</td>\n",
       "      <td>1300.0</td>\n",
       "      <td>gas_gnv</td>\n",
       "      <td>15500.0</td>\n",
       "      <td>Lima</td>\n",
       "      <td>YARIS</td>\n",
       "      <td>15500.0</td>\n",
       "      <td>mecanica</td>\n",
       "      <td>tela</td>\n",
       "      <td>https://cde.neoauto.pe/autos_usados/360x240/70...</td>\n",
       "      <td>delantera</td>\n",
       "      <td>2023.0</td>\n",
       "    </tr>\n",
       "    <tr>\n",
       "      <th>3</th>\n",
       "      <td>4.0</td>\n",
       "      <td>FORD</td>\n",
       "      <td>6.0</td>\n",
       "      <td>blanco</td>\n",
       "      <td>USD</td>\n",
       "      <td>3500.0</td>\n",
       "      <td>gasolina</td>\n",
       "      <td>12500.0</td>\n",
       "      <td>Lima</td>\n",
       "      <td>RAPTOR</td>\n",
       "      <td>75900.0</td>\n",
       "      <td>automatica_secuencial</td>\n",
       "      <td>tela</td>\n",
       "      <td>https://cde.neoauto.pe/autos_usados/360x240/30...</td>\n",
       "      <td>4x4</td>\n",
       "      <td>2020.0</td>\n",
       "    </tr>\n",
       "    <tr>\n",
       "      <th>4</th>\n",
       "      <td>1.0</td>\n",
       "      <td>KIA</td>\n",
       "      <td>4.0</td>\n",
       "      <td>gris</td>\n",
       "      <td>USD</td>\n",
       "      <td>1999.0</td>\n",
       "      <td>gasolina</td>\n",
       "      <td>52130.0</td>\n",
       "      <td>Lima</td>\n",
       "      <td>SPORTAGE</td>\n",
       "      <td>27900.0</td>\n",
       "      <td>mecanica</td>\n",
       "      <td>cuero</td>\n",
       "      <td>https://cde.neoauto.pe/autos_usados/360x240/70...</td>\n",
       "      <td>4x2</td>\n",
       "      <td>2023.0</td>\n",
       "    </tr>\n",
       "  </tbody>\n",
       "</table>\n",
       "</div>"
      ],
      "text/plain": [
       "   Age  Brands  Cilinder   Color Currency  Engine Fuel_type       KM Location  \\\n",
       "0  1.0  SUZUKI       3.0    rojo      USD  1000.0  gasolina  16684.0     Lima   \n",
       "1  1.0    DFSK       4.0  blanco      USD  1500.0   gas_glp  11054.0     Lima   \n",
       "2  1.0  TOYOTA       4.0    rojo      USD  1300.0   gas_gnv  15500.0     Lima   \n",
       "3  4.0    FORD       6.0  blanco      USD  3500.0  gasolina  12500.0     Lima   \n",
       "4  1.0     KIA       4.0    gris      USD  1999.0  gasolina  52130.0     Lima   \n",
       "\n",
       "      Models    Price           Transmission Upholstery  \\\n",
       "0   S-PRESSO   9800.0               mecanica       tela   \n",
       "1  GLORY 500  12000.0               mecanica       tela   \n",
       "2      YARIS  15500.0               mecanica       tela   \n",
       "3     RAPTOR  75900.0  automatica_secuencial       tela   \n",
       "4   SPORTAGE  27900.0               mecanica      cuero   \n",
       "\n",
       "                                              Urlpic    Version    Year  \n",
       "0  https://cde.neoauto.pe/autos_usados/360x240/66...        4x2  2023.0  \n",
       "1  https://cde.neoauto.pe/autos_usados/360x240/70...  delantera  2023.0  \n",
       "2  https://cde.neoauto.pe/autos_usados/360x240/70...  delantera  2023.0  \n",
       "3  https://cde.neoauto.pe/autos_usados/360x240/30...        4x4  2020.0  \n",
       "4  https://cde.neoauto.pe/autos_usados/360x240/70...        4x2  2023.0  "
      ]
     },
     "execution_count": 51,
     "metadata": {},
     "output_type": "execute_result"
    }
   ],
   "source": [
    "data.head()"
   ]
  },
  {
   "cell_type": "code",
   "execution_count": 52,
   "metadata": {},
   "outputs": [
    {
     "data": {
      "text/plain": [
       "Index(['Age', 'Brands', 'Cilinder', 'Color', 'Currency', 'Engine', 'Fuel_type',\n",
       "       'KM', 'Location', 'Models', 'Price', 'Transmission', 'Upholstery',\n",
       "       'Urlpic', 'Version', 'Year'],\n",
       "      dtype='object')"
      ]
     },
     "execution_count": 52,
     "metadata": {},
     "output_type": "execute_result"
    }
   ],
   "source": [
    "data.columns"
   ]
  },
  {
   "cell_type": "code",
   "execution_count": 53,
   "metadata": {},
   "outputs": [
    {
     "name": "stdout",
     "output_type": "stream",
     "text": [
      "[ 1.  4.  3. 10.  5.  6.  0. 12.  9.  7.  8.  2. 11. 18. 59. 13. 43. 15.\n",
      " 14. 16. 26. 44. 73. 17. 41. 33. 58. 20. 23. 39. -1. 19. 32. 50. 69. 27.\n",
      " 30. 21. 28. 22. 67. 24. 25. nan 48. 38. 75. 95. 64. 42. 29. 37. 47. 35.\n",
      " 31. 40. 55. 36. 60. 49. 97. 45. 34.]\n",
      "['SUZUKI' 'DFSK' 'TOYOTA' 'FORD' 'KIA' 'PEUGEOT' 'AUDI' 'HYUNDAI' 'NISSAN'\n",
      " 'RENAULT' 'MAZDA' 'HONDA' 'JEEP' 'MITSUBISHI' 'VOLKSWAGEN'\n",
      " 'MERCEDES BENZ' 'CHEVROLET' 'PORSCHE' 'SUBARU' 'GEELY' 'CITROEN' 'MINI'\n",
      " 'LEXUS' 'DODGE' 'JETOUR' 'BMW' 'LAND ROVER' 'VOLVO' 'JAGUAR' 'MG'\n",
      " 'SSANGYONG' 'CHERY' 'SEAT' 'JAC' 'HAVAL' 'MC LAREN' 'FIAT' 'HUDSON'\n",
      " 'DONGFENG' 'MAXUS' 'MASERATI' 'CHANGAN' 'RAM' 'GAC' 'ASTON MARTIN'\n",
      " 'CUPRA' 'GREAT WALL' 'BAIC YINXIANG' 'CHRYSLER' 'MORRIS GARAGES' 'SWM'\n",
      " 'LAMBORGHINI' 'DAEWOO' 'ZOTYE' 'HAIMA' 'OTROS' 'JMC' 'DAIHATSU' nan\n",
      " 'LADA' 'FOTON' 'INFINITI' 'DATSUN' 'CHANGHE' 'SHINERAY' 'MERCURY'\n",
      " 'BRILLIANCE' 'GONOW' 'MAHINDRA' 'BYD' 'SOUEAST' 'INTERNATIONAL' 'JINBEI'\n",
      " 'GOLDEN DRAGON' 'BAIC' 'BUGGY' 'YUGO' 'PONTIAC' 'ISUZU' 'VICTORY' 'ACURA'\n",
      " 'OLDSMOBILE' 'KYC' 'ZX AUTO' 'LIFAN' 'DS']\n",
      "[ 3.  4.  6. nan  5.  8. 10.  2.  1. 12. 14.]\n",
      "['rojo' 'blanco' 'gris' 'azul' 'otros' 'negro' 'plata' 'marron']\n",
      "['USD']\n",
      "[1.000000e+03 1.500000e+03 1.300000e+03 3.500000e+03 1.999000e+03\n",
      " 1.600000e+03 2.000000e+03          nan 2.400000e+03 3.600000e+03\n",
      " 2.500000e+03 1.400000e+03 1.200000e+03 1.800000e+03 3.000000e+03\n",
      " 1.998000e+03 3.400000e+03 1.796000e+03 1.199000e+03 2.755000e+03\n",
      " 2.200000e+03 5.700000e+03 4.700000e+03 2.800000e+03 4.000000e+03\n",
      " 1.598000e+03 1.497000e+03 2.995000e+03 1.997000e+03 1.969000e+03\n",
      " 1.595000e+03 4.400000e+03 2.600000e+03 1.477000e+03 3.700000e+03\n",
      " 2.477000e+03 2.497000e+03 2.387000e+03 2.000000e+01 1.498000e+03\n",
      " 5.000000e+03 3.470000e+03 2.354000e+03 2.993000e+03 5.300000e+03\n",
      " 1.591000e+03 3.200000e+03 2.700000e+03 2.359000e+03 2.360000e+03\n",
      " 1.984000e+03 4.806000e+03 3.800000e+03 6.400000e+03 2.488000e+03\n",
      " 2.800000e+01 6.100000e+03 5.500000e+03 5.400000e+03 1.395000e+03\n",
      " 3.300000e+03 4.800000e+03 2.697000e+03 2.000000e+00 1.197000e+03\n",
      " 1.000000e+00 2.362000e+03 1.500000e+04 6.300000e+03 3.000000e+02\n",
      " 4.000000e+00 8.000000e+00 1.586000e+03 3.996000e+03 3.598000e+03\n",
      " 5.200000e+03 2.997000e+03 2.000000e+02 1.589000e+03 1.989000e+03\n",
      " 1.398000e+03 2.157000e+03 9.990000e+02 1.988000e+03 1.798000e+03\n",
      " 2.151000e+03 2.487000e+03 1.462000e+03 2.349000e+03 2.395000e+03\n",
      " 1.700000e+03 3.956000e+03 2.979000e+03 3.498000e+03 3.004000e+03\n",
      " 4.395000e+03 2.998000e+03 1.499000e+03 2.400000e+01 1.373000e+03\n",
      " 3.605000e+03 1.910000e+03 1.389000e+03 6.000000e+00 1.599000e+03\n",
      " 1.299000e+03 1.968000e+03 3.471000e+03 1.995000e+03 3.600000e+04\n",
      " 5.204000e+03 3.124597e+06 1.332000e+03 1.496000e+03 1.800000e+01\n",
      " 5.210000e+03 3.860000e+03 1.781000e+03 2.300000e+03 3.456000e+03\n",
      " 1.309000e+03 3.301000e+03 2.198000e+03 1.495000e+03 1.250000e+03\n",
      " 1.330000e+03 1.451000e+03 3.000000e+00 1.900000e+03 1.400000e+01\n",
      " 1.302000e+03 2.393000e+03 2.892000e+03 2.433000e+03 3.400000e+02\n",
      " 2.694000e+03 1.596000e+03 2.776000e+03 2.498000e+03 2.494000e+03\n",
      " 3.436000e+03 2.480000e+03 3.500000e+01 1.360000e+03 3.604000e+03\n",
      " 3.694000e+03 1.600000e+01 5.000000e+00 2.442000e+03 1.991000e+03\n",
      " 1.780000e+03 3.497000e+03 1.368000e+03 2.900000e+03 1.799000e+03\n",
      " 1.600000e+04 2.967000e+03 5.663000e+03 2.356000e+03 3.630000e+03\n",
      " 2.091750e+05 1.396000e+03 1.900000e+01 2.000000e+04 1.987000e+03\n",
      " 1.363000e+03 2.700000e+04 6.000000e+03 9.000000e+02 2.480000e+02\n",
      " 2.483000e+03 2.672000e+03 6.200000e+03 2.400000e+04 3.703000e+03\n",
      " 1.200000e+01 4.600000e+03 1.934000e+03 2.771000e+03 2.974000e+03\n",
      " 1.587000e+03 1.400000e+04 1.100000e+03 1.193000e+03 4.300000e+03\n",
      " 5.600000e+03 4.500000e+03 1.609000e+03 1.996000e+03 2.389000e+03\n",
      " 1.329000e+03 3.700000e+01 1.480000e+03 9.980000e+02 1.590000e+03\n",
      " 2.009000e+03 1.800000e+04 2.982000e+03 9.730240e+05 1.975000e+03\n",
      " 3.567000e+03 2.230000e+03 1.500000e+01 1.490000e+03 1.990000e+02\n",
      " 8.000000e+02 7.500000e+02 2.500000e+01 2.179000e+03 1.794000e+03\n",
      " 5.552000e+03 5.461000e+03 4.999000e+03 2.457000e+03 3.900000e+03\n",
      " 1.593000e+03 1.747000e+03 1.599000e+05 2.476000e+03 3.796000e+03\n",
      " 1.242000e+03 1.450000e+03 1.286000e+03 1.343000e+03 3.600000e+01\n",
      " 4.737000e+03 2.499000e+03 1.690000e+03 1.372000e+03 1.348000e+03\n",
      " 2.000726e+06 1.390000e+02 1.977000e+03 4.212810e+05 1.248000e+03\n",
      " 1.845000e+03 1.999900e+04 1.086000e+03 2.300000e+01 2.696000e+03\n",
      " 8.816657e+06 2.156000e+03 1.390000e+03 1.392000e+03 2.399000e+03\n",
      " 1.493000e+03 6.700000e+03 3.198000e+03 1.243000e+03 3.778000e+03\n",
      " 2.402000e+03 1.971000e+03 2.953000e+03 1.868000e+03 1.342000e+03\n",
      " 1.298000e+03 2.398000e+03 4.664000e+03 1.584000e+03 2.237000e+03\n",
      " 1.251000e+03 1.399000e+03 2.607000e+03 1.986000e+03 2.780000e+03\n",
      " 1.994000e+03 2.351000e+03 1.808000e+03 9.960000e+02 1.597000e+03\n",
      " 2.299000e+03 1.560000e+03 1.762000e+03 2.020000e+03 1.834000e+03\n",
      " 2.665000e+03 2.438000e+03 3.726000e+03 1.488000e+03 3.342000e+03\n",
      " 1.397000e+03 3.239000e+03 2.146000e+03 8.140000e+02 1.328000e+03\n",
      " 3.954000e+03 2.378000e+03 1.311000e+03 2.450000e+02 2.384000e+03\n",
      " 1.198000e+03]\n",
      "['gasolina' 'gas_glp' 'gas_gnv' 'dual' 'diesel' 'otros' 'electrico' nan]\n",
      "[16684. 11054. 15500. ... 42300. 50400.  1568.]\n",
      "['Lima' 'Provincias']\n",
      "['S-PRESSO' 'GLORY 500' 'YARIS' 'RAPTOR' 'SPORTAGE' '3008' 'Q5' 'ELANTRA'\n",
      " 'KICKS' 'KOLEOS' 'X-TRAIL' 'CX-5' 'HR-V' '3' 'SORENTO'\n",
      " 'GRAND CHEROKEE LAREDO' '3 SPORT' 'CX-9' 'OUTLANDER' 'GOL' 'VERSA' 'I20'\n",
      " 'C-180' 'CR-V' 'DUSTER' 'TIGUAN ALLSPACE' 'QASHQAI' 'TRACKER' 'FRONTIER'\n",
      " 'CX-3' 'MACAN S' 'TIGUAN' 'ASX' 'PILOT' 'IMPREZA' 'SPIN' 'TUCSON' '208'\n",
      " 'SONET' 'I20 HB' 'GX3' 'C5 AIRCROSS' 'BALENO' 'COROLLA' 'COROLLA CROSS'\n",
      " 'RAIZE' 'RUSH' 'CRETA' 'SELTOS' 'A3 SPORTBACK' 'PRIUS' 'SENTRA'\n",
      " 'FORTUNER' '2' 'RANGER' 'HATCH 3DR' 'GRAND CHEROKEE LIMITED' 'IS 300'\n",
      " 'MUSTANG' 'SANTA FE' 'NIVUS' 'GLE 400 4MATIC' 'C-350' 'FORESTER' 'HILUX'\n",
      " 'RIO' '4RUNNER' 'JOURNEY' 'A4' 'SAVEIRO' 'X70 PLUS' 'X3 28i'\n",
      " 'RANGE ROVER SPORT' 'X4 20i' 'XC-40' 'RAV4' 'PASSAT' 'A-180' '750LI'\n",
      " 'GLA 200' 'XV' 'CLA 45 AMG' 'ALL NEW FORESTER' 'F-PACE' 'L200' 'EVOLTIS'\n",
      " '5' 'JETTA' 'NEW REXTON' 'TIGGO 8 PRO' 'X-3' 'HATCH JCW' 'X3 20i'\n",
      " 'CONVERTIBLE' 'C-200' 'TIGGO 8' 'F-150' 'LEON STYLE 1.6 MEC' '528-I'\n",
      " 'EDGE TITANIUM' 'GL 400' 'COMPASS' 'X1 18i' 'S5' 'TOUAREG' 'M4' 'TAHOE'\n",
      " 'CERATO' 'TIGGO 7 PRO' 'EXPLORER' 'IS 200t' 'UX 250h' 'OUTBACK' 'T-CROSS'\n",
      " 'AGYA' 'DURANGO' 'JS4' 'H6' 'HIGHLANDER' 'COOPER' 'TRAVERSE' 'CLA 200'\n",
      " 'AVENSIS' 'A200' 'ESCAPE' 'COROLLA HYBRID' 'XC-90' 'CAYENNE GTS'\n",
      " 'GRAND i10' 'i10' 'GRAND NOMADE' 'KWID' '650S' 'COOPER S' 'A6'\n",
      " 'PATHFINDER' 'LEGACY' 'ARRIZO 5' '2008' 'NEW ASX' 'X4 M40i' '640i'\n",
      " 'TERRITORY' 'RENEGADE' 'CHEROKEE LIMITED' '550i' 'GRAND CHEROKEE SRT'\n",
      " 'X5 35i' 'C-250' 'GRAND CHEROKEE OVERLAND' 'X 1/9' 'PARTNER' 'WASP'\n",
      " 'E200 COUPE' 'COLORADO' 'C-ELYSÃ‰E' 'ECOSPORT' 'MONTERO SPORT'\n",
      " 'ALL NEW H6' 'X1 20i' 'GOLF' 'AMAROK' 'WRANGLER UNLIMITED RUBICON'\n",
      " 'M235i' 'X6 30d' 'CAYENNE' 'X2 20i' 'E-350' 'DISCOVERY SPORT' 'X3 30i'\n",
      " '740LI' 'Cherokee Longitude' 'LAND CRUISER PRADO' 'E-200' 'X5 40i' 'M6'\n",
      " 'X3 35i' 'VIRTUS' 'A7 SPORTBACK' 'CX-30' 'ECLIPSE CROSS' 'Q3' '316i' 'Q8'\n",
      " 'S63-AMG' 'IMPREZA SPORT' 'LX 570' 'SUBURBAN' 'BOXER' 'TIVOLI' 'ODYSSEY'\n",
      " 'JIMNY' 'T5 EVO' 'JETTA GLI' 'TT COUPE' 'X6 M' 'UX 250h LUXURY'\n",
      " 'EXPEDITION' 'NIRO' 'GLORY 580' 'CAPTIVA' 'RX 450hL' 'GLC 200'\n",
      " 'GRAND CHEROKEE' 'RANGE ROVER EVOQUE' 'CORONA' 'CIVIC' 'GLE 53 AMG'\n",
      " 'CRETA GRAND' 'DS-4' 'NEW VITARA' 'STARIA' 'T60' '318' 'KORANDO' 'OROCH'\n",
      " 'H-1' 'SOLUTO' 'SENTRA V16' 'BT-50' 'X5 50i' 'XC-60' 'D60' 'i30' 'ONIX'\n",
      " 'ORLANDO' 'LEVANTE S GRANSPORT' 'CAYENNE TURBO' 'COOLRAY' 'GLORY 560'\n",
      " 'X4' 'TAOS' 'UNIT-T' 'E-300' 'VITARA' 'GX3 PRO' 'STEPWAY' 'X5'\n",
      " 'ESCAPE SE' 'S90' 'A1' 'CAPTUR' '2 SPORT' 'MG GS' 'EDGE SEL' 'S-CROSS'\n",
      " 'LOGAN' 'GOL POWER' 'X-TERRA' 'LX 600' 'GOL SEDÃ\\x81N' '520-i' 'X7 SPORT'\n",
      " 'XPANDER' 'C55-AMG' 'GLA250 4MATIC' 'VENUE' 'ACCENT' 'GLC 250 4MATIC'\n",
      " 'RANGE ROVER VELAR' 'EVOQUE' 'X70' 'TIGGO 2' 'CROSSFOX' 'DISCOVERY'\n",
      " 'C-300' 'OKAVANGO' 'JUMPER' 'HILUX SR' 'VERSA SENSE' 'VERNA'\n",
      " 'COMPASS SPORT' 'KIZASHI' 'RANGE ROVER VOGUE' 'HS' 'CITY TOURING'\n",
      " 'GLE 63 S AMG 4MATIC COUPE' 'CLA 180 COUPE' '5 PUERTAS' 'IMPREZA WRX'\n",
      " 'V700' 'CLUBMAN' 'EMZOOM' 'EMKOO' 'PATRIOT' 'AMG GT' 'DB11' 'FORMENTOR'\n",
      " 'DBX' 'NX300H LUXURY' 'M440I' 'C63-AMG' 'LEVANTE TROFEO' 'ALL NEW REXTON'\n",
      " 'GLC 200 COUPE' 'GLE 450 4 MATIC' 'E-500' 'CORVETTE' 'WR-V'\n",
      " 'AMG GLC 43 4MATIC' 'LEVANTE' 'ACCORD' '420i' 'S60' 'GLA 180'\n",
      " 'MUSSO GRAND' 'X90 PLUS' 'C-3' 'SL-280' 'X6 50i' '120i' '428i'\n",
      " 'DISCOVERY 4' 'WRANGLER RUBICON' '420I GRAN COUPE' '318i' '320i' 'SWIFT'\n",
      " 'MACAN GTS' 'CAYENNE S' 'MACAN' 'A3 SEDAN' 'Q7' 'R8' 'A3 HB' 'HRV'\n",
      " 'DASHING' 'XPANDER CROSS' 'PALISADE' 'BRONCO SPORT' 'TIGGO 3' 'TIGGO'\n",
      " 'PICANTO CROSS' 'ES 250' 'GRAND VITARA' 'XL7' 'COMMANDER' 'FIESTA'\n",
      " 'FUSION' 'ALL NEW ONIX' 'ATOS' 'GLORY iX5' '118i' 'C4 Cactus' 'C31' 'WRX'\n",
      " 'GLB 200' 'PULSE' 'AMG GLE53 COUPE' '1000' '700' '1500' 'HAVAL H3'\n",
      " 'AVANZA' 'HIACE' 'M4 CABRIO' 'ETIOS' 'CLS 400' 'X6 35i' '721' 'IX'\n",
      " 'HATCH COOPER S' '530E' 'X3' 'M340i XDRIVE' 'M135i' '530i'\n",
      " 'COUNTRYMAN COOPER' '330i' '220i' '420GCI' 'HATCH 5DR' 'X2'\n",
      " '218i GRAN COUPE' 'COUNTRYMAN COOPER S' 'LAND CRUISER' 'NP300 FRONTIER'\n",
      " 'x4 30i' 'RAM' 'TERAMONT' 'CX-7' 'M140i' 'X1' 'LANDTREK' '500' '407'\n",
      " 'CRUZE' 'Q3 SPORTBACK' 'GLE 400 COUPE' 'JS8' 'PRISMA' 'ML 300 4MATIC'\n",
      " 'VIVANT' 'MOHAVE' 'COUNTRYMAN' 'RX 350 F-SPORT' 'H2' 'T8' 'JOLION' 'CS55'\n",
      " 'J6' 'C-4' 'CELERIO' 'CX70' 'APV' 'CROSSTREK' 'DARGO' 'FORESTER TURBO'\n",
      " 'ONIX JOY' 'ALL NEW MAZDA 3' 'BERLINGO' 'GLE 43 AMG' 'E 200 ELEGANCE'\n",
      " 'YIXUAN GS' 'H30' 'X5 30d' '307-SW' 'ARONA' 'X-5' '301' 'ML 350'\n",
      " 'AMG GT S' 'KENBO S3' 'WINGROAD' 'RANGER LIMITED' 'N-300 WORK'\n",
      " 'JOYEAR SX6' 'V40' 'PICANTO' 'H3' 'CIVIC LX' 'CERATO KOUP' '418i GCI'\n",
      " 'GT-86' 'CHARGER' 'TIGGO 2 PRO' 'C-10' 'NATIVA' 'GL-450' 'C240' '6'\n",
      " 'CORRADO' 'GT' 'GL-500' 'CAMRY' 'OPTIMA' 'TOWN & COUNTRY' 'MG 5'\n",
      " 'A5 COUPE' 'MALIBU' 'CC' 'N400' 'TACOMA' 'M3' '200' 'XE' 'PICK UP'\n",
      " 'NX 300h' 'C 200 COUPE' 'CIAZ' 'K07S' 'LEON FR' '5008' '435i'\n",
      " 'GLB 200 STYLE' '850' 'S6' 'STRADA ADVENTURE' 'NITRO' 'RICH6' 'CAMARO'\n",
      " 'CAYMAN GTS' 'KONA' 'MONTERO' 'BEETLE' 'IMPREZA SEDÃ\\x81N' 'E-PACE' '360'\n",
      " 'EXPERT' 'BIPPER' 'VERSA ADVANCE' 'MX 5' 'CT 200H' 'SLC-200'\n",
      " 'C-180 KOMPRESSOR' 'CS15' 'S2' 'JS3' 'MX 6' 'STARLET' 'X7' 'TIIDA'\n",
      " 'APV MINIVAN' 'S3 SedÃ¡n' 'RAM-1500' 'URUS' 'FIORINO' 'ML 400 CDI'\n",
      " 'GOLF GTI' 'AMG A 45S 4 MATIC' 'CAYENNE TURBO S' 'CITY' 'CAYENNE COUPE'\n",
      " 'S3' 'G350' '911' 'S22' 'LANCER CEDIA' 'MURANO' 'ALL NEW OUTBACK'\n",
      " 'SPARK GT' 'GLADIATOR' '335i' '308' 'i20 ACTIVE' 'CLA 180'\n",
      " 'GLE 450 COUPE' 'GOL CONFORT SEDAN' 'M5' 'SX-4' 'XC-70 CROSS COUNTRY'\n",
      " 'ALL NEW FORESTER 2019' 'X5 30i' 'AERIO' 'TRIBECA' 'ACTYON SPORTS'\n",
      " 'VELOSTER' 'AURIS' 'SPRINTER' 'JOHN COOPER WORKS' 'DS-3' 'A45 AMG' 'RSQ3'\n",
      " '1M' '135i Cabriolet' 'SUNRAY' 'COUNTRYMAN COOPER JCW' 'C70' 'ACTYON'\n",
      " 'SANDERO' 'H7L' 'ONIX ACTIV' '328-I' 'A7 SPORTBACK HB' 'ARGO' 'TT'\n",
      " 'TRANSPORTER' 'DAMAS' 'REFINE' 'AVEO' '911 TURBO-S' 'T600' 'A8'\n",
      " 'RIDGELINE' 'FREELANDER' 'WINGLE 5' 'MATRIX' 'GOL COMFORT 1.6' '128TI'\n",
      " 'SPACE FOX' 'IBIZA STYLE' 'HAIMA3' 'OTROS' 'C3 Aircross' 'ZS' 'BORA'\n",
      " 'VIGUS' '340i' 'NAVARA' 'CRONOS' 'C-240' 'GHIBLI' 'TERIOS' nan\n",
      " 'FJ CRUISER' 'GLORY' 'GRAND CARAVAN' 'M3 SedÃ¡n' 'CORONET' 'DZIRE'\n",
      " 'RANGE ROVER' '1600' 'ARRIZO 3' 'CIVIC TURBO' 'PRIORA' '418i'\n",
      " 'LIBERTY SPORT' 'AD' 'VANTAGE V8' 'GLK 250' 'GC7' 'SIENNA' 'LIBERTY'\n",
      " 'GRAND TURISMO' 'MG3' 'BOARDING' 'Jumpy' '207' 'MIRAGE' 'ZX' 'UP'\n",
      " 'FLUENCE' 'CK' 'X2 M35i' 'RODIUS' 'GS' 'SAIL' 'LANCER' 'RS3' 'GLA 45 AMG'\n",
      " 'E-TRON' 'TERRACAN' 'X7 40i' 'COUNTRYMAN JCW' 'NEW XV' '330E'\n",
      " 'GS 350 F-SPORT' 'SPEED3' 'VIEW' 'MUSTANG MACH 1' 'SOUL' '207 COMPACT'\n",
      " '135i' 'UNO' 'L200 DK-R' 'RANGER RAPTOR' 'MARCH' 'G37' 'X6'\n",
      " 'MIRAGE HATCHBACK' 'CLA 200 COUPE' 'N-300' 'LINEA' 'X6 40i' 'CARNIVAL'\n",
      " 'EQUINOX' 'CLK-430' 'CHEROKEE' 'VERSA DRIVE' 'QUATTROPORTE' '570S' 'X5 M'\n",
      " 'PATROL' 'C63 AMG S' 'VICTORIA' 'M2 Coupe' 'GR YARIS' 'MP4-12C' 'A'\n",
      " 'PANAMERA-4S' 'TUNDRA' 'LX 570 PLUS' 'CS35' 'MONTERO IO' 'ALMERA'\n",
      " 'ALL NEW L200' 'EMGRANDEC7' 'URBAN CRUISER' 'CLIO' 'AZKARRA' 'CORVAIR'\n",
      " '406' '911 CARRERA' 'CELICA' 'CIELO' 'H100' 'SILVIA' 'SUNNY' 'JUKE'\n",
      " 'NEW TIGGO 7' 'CIVIC COUPE' 'PALIO ADVENTURE' 'SX5'\n",
      " 'FREEDOM - 8 asientos' '325' '325-iA' 'S40' '323' 'BB' 'F-150 RAPTOR'\n",
      " 'K60' 'GALANT' 'MIRAGE G4' 'NEW TIGGO 2' 'NEW BEETLE' 'VAN PX' 'BEAT'\n",
      " 'H350' 'URVAN' '430I COUPE' 'SONIC' '750 Li' '1300' '3XROSS'\n",
      " 'NEW ALTO 800' 'ALL NEW LEGACY' 'MARINER' '325i' 'V3' '121' 'LEON CUPRA'\n",
      " 'INCAPOWER EIGHT' 'GRAND i10 HB' 'TIBURON' 'NX 200T F-SPORT' 'REXTON-II'\n",
      " '10' '535-I' 'X5 44i' 'XC-70' 'FREESTYLE' 'CHEROKEE TRAILHAWK' 'NEW QQ'\n",
      " 'CHEROKEE LAREDO' 'NOTE' 'H1' 'SCORPIO' 'MG5' 'COBALT' 'GROOVE' 'POLO'\n",
      " '206' 'A1 SPORTBACK' 'MATIZ' 'S500' 'MK' 'N300 MAX' 'F3' 'SWIFT GTI'\n",
      " 'NX 200T' 'A5' 'EC7' 'FOCUS' '88' 'MONZA' '740i' 'LIBERO' 'PUNTO'\n",
      " 'UNO WAY' 'POER' 'SYMBOL' 'H530' 'ERTIGA' 'IGNIS' 'MK RSI' 'Q22' 'DX3'\n",
      " 'ALL NEW JOY' 'DEER' 'FREESTAR' '240' 'AZERA' 'CHARADE SOCIAL' 'SONATA'\n",
      " '460' 'DAMAS II' 'ESCORT' 'SUPERVAN' 'ALTO' 'SOLIO' 'EXCURSION'\n",
      " 'CRUZE HB' 'HAVAL' 'VENTO' 'GOL CROSSOVER' 'S30 ELEGANT MT' 'MASTER'\n",
      " 'SPRINTER CARIB' 'ATECA' '523-IA' 'FULWIN' 'Q2' 'CIVIC SI' 'ESCARABAJO'\n",
      " 'CHEROKEE SPORT' 'A5 SPORTBACK' 'E-200 KOMPRESSOR' 'KOUP' '520' 'SCOUT'\n",
      " 'KONECT' '525i' 'PIK UP' '530d' 'BLUEBIRD' 'TURISTICO 10.5 MTS'\n",
      " 'SPIN ACTIVE' 'ALL NEW KORANDO' 'RIO CROSS' 'CALIBER' 'ORTHIA' 'FALCON'\n",
      " 'ALASKAN' 'OPTRA' 'WRANGLER' 'GOL STATION' 'F-100' '18' 'MUSSO' 'X55'\n",
      " 'ARENDA' 'GS8' '307' '306' 'GV-PLUS' 'IBIZA' 'WINDSTAR' 'DEMIO'\n",
      " 'SWIFT SPORT' 'TEMPEST' 'HOVER' 'QUORIS' 'GLC 250 4MATIC COUPE' 'N200'\n",
      " 'GS 350' '3 SEDÃ\\x81N' 'VOLEEX C30' 'STYLUS' '508' 'Grand New Supervan'\n",
      " 'PASSAT CC' '3 PUERTAS' 'MOCHE II' 'C-5' 'MOBI' '320' 'N300 MOVE'\n",
      " 'TUNLAND' 'AX7' 'GLORY 330' 'K2400' 'CORSA' '328i' 'AVEO HB' 'INTEGRA'\n",
      " 'SPARK' 'REXTON' 'CADDY' 'STAVIC' 'H2L' 'CUTLASS' 'MUSTANG GT' '911 GT3'\n",
      " 'GENESIS' 'EQ6400LF' 'QQ' 'AMAZON' 'I10' 'SERIE 4 GRAN COUPÉ' '3 SEDÁN'\n",
      " 'RIO HATCHBACK' 'CLASE C' 'SERIE 3' 'DAMAS VAN' 'YARIS SEDÁN' 'CLASE A'\n",
      " 'IMPREZA SEDÁN' 'F-TYPE' 'CS35 PLUS' '6 SEDÁN' 'H1 VAN' 'J4' 'DART'\n",
      " 'DUSTER OROCH' 'ONIX SEDAN' 'N400 MOVE' 'X5 CARGO BOX' 'ZX PLUS'\n",
      " 'CLASE CLK (COUPE)' 'X35' 'PRIMERA' 'CRUZE HATCHBACK' 'I20 ACTIVE'\n",
      " 'JOY BLACK SEDÁN' '460 GLT' 'VAN' 'GÉNESIS COUPÉ' 'HONOR S' 'CLASE GLA'\n",
      " 'SX4' 'GOL SEDÁN' 'V5 MINIVAN' 'YARIS HATCHBACK' 'TICO' 'XC40' 'C4'\n",
      " 'F-350' 'H-100' 'COOPER COUNTRYMAN' 'CRUZE SEDÁN' 'ESCORT (SEDAN)' 'UP!'\n",
      " 'GRAND I10 HATCH' '2 SEDÁN' 'PICKUP' 'SPACEFOX' 'XC90' 'LATINA' 'Q22L'\n",
      " 'GRAND CHEROKEE L' 'WINGLE 7' 'JOY BLACK' 'CLASE CLA' 'URBAN ARK'\n",
      " 'TIGGO 4 PRO' 'TIIDA SEDÁN' 'CLASE S' 'C3' 'SERIE 5' 'XC60' 'L300'\n",
      " 'AVEO SEDÁN' 'SAUVANA' 'GRAND I10 SEDAN' 'TRAVELLER' 'TRACKER TURBO'\n",
      " 'HAN EV' 'ACCENT SEDÁN' 'EMGRAND 7' '86' 'KOMBI' 'CARRYING'\n",
      " 'SERIE 1 COUPÉ' 'FIERA' '244' 'MASTER MINIBUS' 'SERIE 1' 'SAFE'\n",
      " 'COPPER S' 'A3 SEDÁN' 'COROLLA (SW)' 'FASTBACK' 'TRUCK' 'BALENO 4P'\n",
      " 'TERIOS CITY' 'Z4' 'SPIN ACTIV' 'ACCENT GNV ECO CAR' 'AMAROK V6'\n",
      " 'GRAND S3' 'MEGANE' 'TOWNER' 'COROLLA HATCHBACK' 'REXTON DIESEL'\n",
      " 'SX4 SEDÁN' 'S PRESSO' 'GRAND SANTA FE' 'LEGACY SEDÁN' 'TIGGO 4' '580'\n",
      " 'J2' 'GLB' 'HB' 'ESCORT (SW)' 'FUSO' '4000' 'SWIFT SEDÁN' 'POLO SEDÁN'\n",
      " 'TIGGO 5' 'EON' 'KYRON' 'SEDAN' '560' 'H5' '350Z' '4' 'IS'\n",
      " 'GRAND SUPER VAN' 'LEON' 'F300S' 'CADENZA' 'SWIFT HYBRID' 'GRATOUR PX'\n",
      " 'VELAR' 'ANDINA' 'WINGLE' 'TERRANO II' 'CS75' 'C3 AIRCROSS' 'C-ELYSÉE'\n",
      " 'A3' 'M3 SEDÁN' 'NUBIRA II SEDAN' 'EDGE' 'FIT' 'XANTIA' 'TRAILBLAZER'\n",
      " 'XSARA PICASSO' 'RACER' 'STRADA WORKING' 'H1 MINIBUS' 'C4 CACTUS']\n",
      "[9.80000000e+03 1.20000000e+04 1.55000000e+04 7.59000000e+04\n",
      " 2.79000000e+04 2.87500000e+04 4.49000000e+04 1.89950000e+04\n",
      " 2.09900000e+04 1.09850000e+04 1.79900000e+04 2.05000000e+04\n",
      " 2.29900000e+04 2.90000000e+04 1.39850000e+04 7.99900000e+03\n",
      " 1.32000000e+04 1.95000000e+04 2.10000000e+04 4.65000000e+04\n",
      " 1.65000000e+04 9.00000000e+03 1.40000000e+04 1.25000000e+04\n",
      " 1.75000000e+04 2.95000000e+04 8.50000000e+03 2.35000000e+04\n",
      " 1.60000000e+04 1.35000000e+04 1.59000000e+04 3.50000000e+04\n",
      " 9.70000000e+03 1.38000000e+04 2.65000000e+04 1.19000000e+04\n",
      " 1.17000000e+04 1.69000000e+04 2.40000000e+04 3.49000000e+04\n",
      " 1.80000000e+04 9.90000000e+03 1.90000000e+04 2.30000000e+04\n",
      " 1.64000000e+04 1.78000000e+04 1.81000000e+04 1.18000000e+04\n",
      " 2.89000000e+04 1.58000000e+04 1.70000000e+04 4.20000000e+04\n",
      " 1.82000000e+04 2.13000000e+04 3.39910000e+04 1.30000000e+04\n",
      " 2.27000000e+04 1.72000000e+04 3.80000000e+04 3.30000000e+04\n",
      " 1.02000000e+04 5.10000000e+04 1.29000000e+04 1.79000000e+04\n",
      " 1.59900000e+04 1.99000000e+04 7.60000000e+04 3.44900000e+04\n",
      "            nan 2.45000000e+04 5.99000000e+03 5.99000000e+04\n",
      " 3.89900000e+04 8.00000000e+03 7.89000000e+04 3.25000000e+04\n",
      " 3.59900000e+04 1.73000000e+04 1.48000000e+04 8.70000000e+03\n",
      " 3.69000000e+04 6.80000000e+03 2.20000000e+04 2.39000000e+04\n",
      " 2.69000000e+04 3.90000000e+04 4.99000000e+04 4.29910000e+04\n",
      " 3.15000000e+04 2.29000000e+04 2.15000000e+04 3.00000000e+04\n",
      " 1.91000000e+04 2.25000000e+04 9.50000000e+03 1.85000000e+04\n",
      " 1.84000000e+04 2.48000000e+04 3.99000000e+04 2.00000000e+04\n",
      " 8.20000000e+03 1.10000000e+05 2.87000000e+04 2.85000000e+04\n",
      " 2.60000000e+04 2.99000000e+04 3.34000000e+04 2.37000000e+04\n",
      " 2.79900000e+04 1.08000000e+04 1.45000000e+04 3.39000000e+04\n",
      " 3.29910000e+04 2.38000000e+04 2.22000000e+04 1.09000000e+04\n",
      " 1.39000000e+04 1.79500000e+04 9.20000000e+03 1.69900000e+04\n",
      " 2.80000000e+04 1.10000000e+04 1.98000000e+04 8.30000000e+03\n",
      " 1.50000000e+04 3.48000000e+04 5.19900000e+04 2.19000000e+04\n",
      " 5.00000000e+04 1.53500000e+04 4.79000000e+04 3.24000000e+04\n",
      " 1.15000000e+04 1.05500000e+04 1.79000000e+05 2.55000000e+04\n",
      " 2.83000000e+04 1.22000000e+04 3.99000000e+03 1.89000000e+04\n",
      " 1.86000000e+04 9.80000000e+04 2.68000000e+04 2.49900000e+04\n",
      " 1.96000000e+04 1.34500000e+04 3.59000000e+04 3.19000000e+04\n",
      " 4.89000000e+04 1.49000000e+04 2.24500000e+04 8.60000000e+03\n",
      " 2.70000000e+04 3.29000000e+04 3.09000000e+04 4.59000000e+04\n",
      " 2.75000000e+04 7.70000000e+04 4.29000000e+04 4.40000000e+04\n",
      " 5.29000000e+04 6.99000000e+04 2.09000000e+04 2.59000000e+04\n",
      " 2.49000000e+04 9.59000000e+04 3.65000000e+04 3.95000000e+04\n",
      " 3.79000000e+04 4.05000000e+04 1.59900000e+05 4.80000000e+04\n",
      " 3.75000000e+04 6.79000000e+04 5.90000000e+03 1.29900000e+05\n",
      " 4.09000000e+04 2.98000000e+04 4.25000000e+04 3.45000000e+04\n",
      " 2.02000000e+04 1.74000000e+04 1.54000000e+04 2.04000000e+04\n",
      " 1.53000000e+04 9.99000000e+03 1.14900000e+04 1.08500000e+04\n",
      " 4.85000000e+04 4.00000000e+04 5.50000000e+03 1.92000000e+04\n",
      " 1.39500000e+04 7.49000000e+04 9.99000000e+04 3.10000000e+04\n",
      " 1.86900000e+04 1.19500000e+04 1.00000000e+04 1.77000000e+04\n",
      " 2.96000000e+04 1.58990000e+04 8.80000000e+03 1.05000000e+04\n",
      " 8.90000000e+03 2.50000000e+04 7.40000000e+04 1.23000000e+04\n",
      " 6.79000000e+03 1.19000000e+05 3.20000000e+04 1.58900000e+04\n",
      " 1.59990000e+04 2.48900000e+04 3.09900000e+04 3.05000000e+04\n",
      " 1.49900000e+04 3.94900000e+04 4.09900000e+04 3.14900000e+04\n",
      " 1.78900000e+04 1.22500000e+04 2.44900000e+04 4.99900000e+04\n",
      " 4.74900000e+04 6.69900000e+04 1.74900000e+04 1.67000000e+04\n",
      " 1.97000000e+04 5.69900000e+04 2.99900000e+04 2.07000000e+04\n",
      " 1.89500000e+04 2.69900000e+04 3.39900000e+04 1.71900000e+04\n",
      " 6.29900000e+04 3.49900000e+04 2.88000000e+04 2.22900000e+04\n",
      " 1.84900000e+04 2.09500000e+04 2.24900000e+04 2.42000000e+04\n",
      " 3.85000000e+04 8.49900000e+04 1.52000000e+04 1.93000000e+04\n",
      " 2.89100000e+04 2.58000000e+04 5.98900000e+04 6.79900000e+04\n",
      " 2.08000000e+04 2.91000000e+04 3.29900000e+04 2.61000000e+04\n",
      " 7.10000000e+03 2.51000000e+04 2.04900000e+04 6.38900000e+04\n",
      " 2.64900000e+04 1.94000000e+04 1.09900000e+04 7.29000000e+04\n",
      " 2.92000000e+04 1.59000000e+05 1.64900000e+04 1.62000000e+04\n",
      " 2.59900000e+04 1.99900000e+04 9.10000000e+03 4.45000000e+04\n",
      " 1.29800000e+04 1.39900000e+04 1.52900000e+04 1.63000000e+04\n",
      " 1.09000000e+05 2.29000000e+05 3.60000000e+04 8.20000000e+04\n",
      " 6.49000000e+04 3.34900000e+04 4.89900000e+04 8.09900000e+04\n",
      " 6.59000000e+04 3.89000000e+04 4.19000000e+04 8.50000000e+04\n",
      " 2.57500000e+04 4.70000000e+04 1.71990000e+04 2.23000000e+04\n",
      " 1.28000000e+04 8.10000000e+03 1.43500000e+04 1.24900000e+05\n",
      " 3.69900000e+04 6.39000000e+04 1.35900000e+05 5.69000000e+04\n",
      " 5.05000000e+04 2.24000000e+04 3.55000000e+04 2.03000000e+04\n",
      " 4.50000000e+04 2.18000000e+04 1.87000000e+04 2.12000000e+04\n",
      " 4.55000000e+04 1.16000000e+04 2.32000000e+04 4.35000000e+04\n",
      " 2.28000000e+04 1.59500000e+04 1.27000000e+04 7.85000000e+03\n",
      " 6.30000000e+04 2.57000000e+04 7.80000000e+03 1.31990000e+04\n",
      " 1.19900000e+04 2.34900000e+04 1.06700000e+04 1.44700000e+04\n",
      " 1.27500000e+04 3.40000000e+04 5.45000000e+04 3.74000000e+04\n",
      " 4.12000000e+04 2.67000000e+04 1.17000000e+05 1.07900000e+05\n",
      " 3.62000000e+04 4.95000000e+04 1.11000000e+04 3.82000000e+04\n",
      " 1.29900000e+04 3.26000000e+04 2.01000000e+04 9.40000000e+03\n",
      " 1.41000000e+04 3.70000000e+04 5.99910000e+04 3.69940000e+04\n",
      " 1.37991000e+05 9.59910000e+04 3.09910000e+04 6.59910000e+04\n",
      " 7.09910000e+04 5.49910000e+04 4.99910000e+04 4.89910000e+04\n",
      " 4.79910000e+04 5.09910000e+04 8.49910000e+04 4.69910000e+04\n",
      " 3.99910000e+04 3.19910000e+04 5.39910000e+04 7.19910000e+04\n",
      " 3.89910000e+04 5.69910000e+04 2.89910000e+04 3.59910000e+04\n",
      " 2.19900000e+04 2.69910000e+04 2.79910000e+04 1.36000000e+04\n",
      " 6.90000000e+04 1.57000000e+04 3.79900000e+04 9.95000000e+03\n",
      " 1.33000000e+04 7.90000000e+03 6.60000000e+03 6.20000000e+04\n",
      " 5.79000000e+04 7.60000000e+03 9.89000000e+03 4.10000000e+04\n",
      " 4.75000000e+04 7.00000000e+04 1.07000000e+04 3.04900000e+04\n",
      " 5.90000000e+04 6.15000000e+04 9.60000000e+03 7.50000000e+03\n",
      " 1.24000000e+04 6.50000000e+04 3.35000000e+04 1.34900000e+04\n",
      " 8.19000000e+04 7.20000000e+03 3.76000000e+04 5.60000000e+03\n",
      " 2.94000000e+04 6.19000000e+04 7.30000000e+03 7.95000000e+03\n",
      " 3.78000000e+04 1.76000000e+04 1.39990000e+04 4.39900000e+04\n",
      " 1.01000000e+04 4.50000000e+03 2.20000000e+03 1.46000000e+04\n",
      " 1.06000000e+04 2.09990000e+04 1.49500000e+04 6.85000000e+04\n",
      " 6.20000000e+03 3.08000000e+04 2.69990000e+04 8.42600000e+03\n",
      " 2.84000000e+04 4.60000000e+04 4.17000000e+04 3.77000000e+04\n",
      " 2.09950000e+04 1.42000000e+04 2.86000000e+04 5.39900000e+04\n",
      " 2.85000000e+03 5.39000000e+04 1.77500000e+04 2.45500000e+04\n",
      " 2.63000000e+04 1.68000000e+04 4.15000000e+04 5.19000000e+04\n",
      " 4.50390000e+04 3.19900000e+04 2.95730000e+04 1.88000000e+04\n",
      " 1.26000000e+04 3.28000000e+04 1.68500000e+04 1.83000000e+04\n",
      " 2.44000000e+04 2.64000000e+04 1.12990000e+04 3.87000000e+04\n",
      " 2.50000000e+03 1.43000000e+04 1.12000000e+04 5.30000000e+04\n",
      " 1.69990000e+04 7.49900000e+03 5.75000000e+04 4.48000000e+04\n",
      " 7.70000000e+03 4.30000000e+04 2.47500000e+04 4.69000000e+04\n",
      " 1.44000000e+04 1.47000000e+04 1.37000000e+04 1.99950000e+04\n",
      " 1.49850000e+04 1.59850000e+04 2.01900000e+04 1.77900000e+04\n",
      " 1.89850000e+04 8.99000000e+03 1.28950000e+04 1.16950000e+04\n",
      " 9.49000000e+03 5.59000000e+04 1.51000000e+04 1.38850000e+04\n",
      " 2.14900000e+04 1.18950000e+04 1.55500000e+04 5.79500000e+03\n",
      " 1.89900000e+04 3.40000000e+03 1.19850000e+04 5.80000000e+03\n",
      " 5.50000000e+04 6.00000000e+03 1.14000000e+04 1.67900000e+04\n",
      " 2.54900000e+04 4.90000000e+03 3.10000000e+05 1.94990000e+04\n",
      " 1.32500000e+04 2.69100000e+04 6.30000000e+03 1.03000000e+04\n",
      " 7.00000000e+03 1.37500000e+04 6.99900000e+03 3.00000000e+03\n",
      " 3.85900000e+04 2.11000000e+04 4.79950000e+04 3.38000000e+04\n",
      " 1.69500000e+04 2.17000000e+04 7.99000000e+04 1.04900000e+04\n",
      " 2.91100000e+04 2.34000000e+04 8.20900000e+03 1.56000000e+04\n",
      " 1.97800000e+04 1.94900000e+04 7.49000000e+03 8.98500000e+03\n",
      " 9.98500000e+03 1.21990000e+04 4.00000000e+03 3.22000000e+04\n",
      " 5.59000000e+03 7.99000000e+03 6.69000000e+04 8.40000000e+03\n",
      " 3.93000000e+04 1.04500000e+05 1.13000000e+04 1.34000000e+04\n",
      " 3.99900000e+03 3.39500000e+04 6.95000000e+03 1.24570000e+04\n",
      " 2.93000000e+04 9.79000000e+03 2.95500000e+04 1.72500000e+04\n",
      " 2.82000000e+04 6.40000000e+03 6.90000000e+03 2.33000000e+04\n",
      " 5.20000000e+04 2.19990000e+04 3.13000000e+04 6.70000000e+03\n",
      " 6.85000000e+03 4.90000000e+04 3.58000000e+04 3.80000000e+03\n",
      " 1.22900000e+04 1.09500000e+04 7.40000000e+03 8.75000000e+03\n",
      " 9.85000000e+03 4.38000000e+04 5.60000000e+04 3.50000000e+03\n",
      " 6.50000000e+03 1.35000000e+05 8.99900000e+03 1.05990000e+04\n",
      " 2.97000000e+04 1.22800000e+04 1.26800000e+04 1.09990000e+04\n",
      " 6.56500000e+03 1.07500000e+04 1.29990000e+04 2.50500000e+04\n",
      " 5.49000000e+04 3.24990000e+04 1.49990000e+04 3.90000000e+03\n",
      " 5.40000000e+04 3.56000000e+04 5.27000000e+04 1.00000000e+00\n",
      " 6.00000000e+04 1.33500000e+04 4.40000000e+03 1.44900000e+04\n",
      " 1.73900000e+04 1.48900000e+04 1.52990000e+04 1.31000000e+04\n",
      " 3.00040000e+04 4.78000000e+04 4.60000000e+03 3.64900000e+04\n",
      " 2.28500000e+04 2.53000000e+04 2.48500000e+04 3.68000000e+04\n",
      " 6.18000000e+04 9.30000000e+03 3.70000000e+03 3.60000000e+03\n",
      " 9.00000000e+04 5.30000000e+03 1.23500000e+04 3.66000000e+04\n",
      " 1.40000000e+03 1.66000000e+04 1.64000000e+05 2.39990000e+04\n",
      " 4.98500000e+04 1.13500000e+04 1.25500000e+04 1.68900000e+04\n",
      " 5.49900000e+04 4.10000000e+03 2.12500000e+04 2.39900000e+04\n",
      " 2.70000000e+03 5.40000000e+03 5.29900000e+04 2.26500000e+04\n",
      " 1.37900000e+04 9.00000000e+00 8.29000000e+04 1.98900000e+04\n",
      " 2.84900000e+04 1.34990000e+04 6.75000000e+03 3.07000000e+04\n",
      " 5.89000000e+04 4.84000000e+04 3.17000000e+04 8.49000000e+03\n",
      " 8.59000000e+04 4.02500000e+04 1.58500000e+04 3.18000000e+04\n",
      " 8.95000000e+03 5.00000000e+03 7.85000000e+04 8.29000000e+03\n",
      " 5.80000000e+04 6.10000000e+03 5.70000000e+03 5.89990000e+04\n",
      " 7.75000000e+03 1.79990000e+04 2.98900000e+04 8.45000000e+03\n",
      " 1.83500000e+04 7.75000000e+04 4.69900000e+04 1.85000000e+05\n",
      " 5.65000000e+04 5.59900000e+04 1.05000000e+05 3.99900000e+04\n",
      " 4.19900000e+04 5.25000000e+04 3.82500000e+04 9.50000000e+04\n",
      " 5.85000000e+04 1.55900000e+04 2.43000000e+04 1.64990000e+04\n",
      " 1.88500000e+04 1.66500000e+04 5.86000000e+04 2.62000000e+04\n",
      " 4.80000000e+03 4.30000000e+03 5.68000000e+04 1.61500000e+04\n",
      " 6.49000000e+03 1.29500000e+04 2.87000000e+03 2.95000000e+03\n",
      " 2.27900000e+04 8.69900000e+03 9.99900000e+03 7.35000000e+04\n",
      " 4.89000000e+03 1.19990000e+04 2.80000000e+03 3.75000000e+03\n",
      " 6.99000000e+03 1.04990000e+05 1.35900000e+04 3.25000000e+03\n",
      " 3.27000000e+04 8.40000000e+04 1.18980000e+04 2.02900000e+04\n",
      " 4.22900000e+04 2.05200000e+03 2.49990000e+04 2.19500000e+04\n",
      " 1.62500000e+04 1.82500000e+04 2.77000000e+04 9.35000000e+03\n",
      " 9.05000000e+03 1.32750000e+04 1.28500000e+04 1.71500000e+04\n",
      " 5.88000000e+04 3.30000000e+03 4.09990000e+04 5.89000000e+03\n",
      " 7.50000000e+04 9.25000000e+03 7.19900000e+03 4.29000000e+03\n",
      " 4.70000000e+03 2.29990000e+04 2.74990000e+04 1.00000000e+03\n",
      " 6.40000000e+04 8.88800000e+03 8.80000000e+04 5.20000000e+03\n",
      " 1.84990000e+04 2.60000000e+03 1.21000000e+04 1.44990000e+04\n",
      " 3.20000000e+03 1.26500000e+04 1.30000000e+03 9.75000000e+03\n",
      " 5.10000000e+03 2.00000000e+03 3.39990000e+04 3.95000000e+03\n",
      " 1.49950000e+04 6.58000000e+03 8.05000000e+03 1.54950000e+04\n",
      " 1.24900000e+04 1.54900000e+04 1.57500000e+04 1.60000000e+03\n",
      " 1.11990000e+04 8.25000000e+03 3.10000000e+03 1.90000000e+03\n",
      " 1.98990000e+04 1.15990000e+04 1.76500000e+04 3.45500000e+04\n",
      " 1.80000000e+03 4.20000000e+03 3.45000000e+03 2.89900000e+04\n",
      " 4.49900000e+04 5.79900000e+04 3.47000000e+04 2.43600000e+04\n",
      " 2.10000000e+03 1.17990000e+04 8.58000000e+03 1.06500000e+04\n",
      " 3.35000000e+03 1.04000000e+04 1.53130000e+04 5.95000000e+03\n",
      " 6.48000000e+03 5.49990000e+04 2.30000000e+03 9.15000000e+03\n",
      " 2.14000000e+04 8.99900000e+04 9.65000000e+03 3.29990000e+04\n",
      " 5.35000000e+03 1.38500000e+04 1.42500000e+04 1.26000000e+05\n",
      " 4.88000000e+03 2.56000000e+04 5.70000000e+04 1.12500000e+04\n",
      " 1.99990000e+04 1.10000000e+03 5.39000000e+03 6.25000000e+03\n",
      " 3.28947368e+03 9.73684211e+03 1.50000000e+03 3.15789474e+03\n",
      " 1.61000000e+04 2.71052632e+03 4.47368421e+03 6.31578947e+03\n",
      " 3.10526316e+03 1.09980000e+04 3.13157895e+03 7.89473684e+03\n",
      " 6.59000000e+03 2.54000000e+04 3.42105263e+03 2.78000000e+04\n",
      " 2.86842105e+03 5.52631579e+03 3.15789474e+04 4.99900000e+03\n",
      " 8.89900000e+03 2.06990000e+04 3.94736842e+03 4.86842105e+03\n",
      " 4.75000000e+03 2.36842105e+03 2.05000000e+03 1.53400000e+04\n",
      " 1.44736842e+04 2.18990000e+04 3.81578947e+03 1.00000000e+05\n",
      " 8.76000000e+03 8.15789474e+03 1.78947368e+03 3.55263158e+03\n",
      " 2.89473684e+03 9.48000000e+03 9.59000000e+03 5.09000000e+03\n",
      " 4.07894737e+03 3.36842105e+03 3.92105263e+03 2.97368421e+03\n",
      " 6.97368421e+03 2.01500000e+04 6.43000000e+03 6.47000000e+03\n",
      " 3.49990000e+04 1.25900000e+04 2.48600000e+04 1.44500000e+04\n",
      " 1.67500000e+04 1.71000000e+04 5.26289474e+03 5.39473684e+03\n",
      " 2.63157895e+03 3.67000000e+04 8.09000000e+03 1.63500000e+04\n",
      " 7.36842105e+03 3.63157895e+03 9.21052632e+03 1.16000000e+05\n",
      " 3.39473684e+03 2.34210526e+03 1.73684211e+03 9.73600000e+03\n",
      " 7.80000000e+04 1.58000000e+03 4.99736842e+03 8.35000000e+03\n",
      " 5.23684211e+03 8.79900000e+03 6.57894737e+03 1.44400000e+03\n",
      " 9.07894737e+03 5.13157895e+03 1.76315789e+04 4.73684211e+03\n",
      " 3.89473684e+03 4.60526316e+03 1.84210526e+03 3.60526316e+03\n",
      " 4.21052632e+03 2.99990000e+04 5.26315789e+03 1.89473684e+04\n",
      " 1.17500000e+04 9.53300000e+03 7.10526316e+03 1.40010000e+04\n",
      " 2.90000000e+03 1.97368421e+04 4.05263158e+03 3.21052632e+03\n",
      " 1.28000000e+05 2.21052632e+03 1.44736842e+03 7.23684211e+03\n",
      " 3.49500000e+04 8.15000000e+03 1.99500000e+04 7.89473684e+02\n",
      " 1.65000000e+03 2.59500000e+04]\n",
      "['mecanica' 'automatica_secuencial' 'automatica' nan 'otros']\n",
      "['tela' 'cuero' nan 'otros' 'tela_cuero']\n",
      "['https://cde.neoauto.pe/autos_usados/360x240/663165/663165_5117209.webp'\n",
      " 'https://cde.neoauto.pe/autos_usados/360x240/701904/701904_1941182.webp'\n",
      " 'https://cde.neoauto.pe/autos_usados/360x240/701904/701904_7103350.webp'\n",
      " ...\n",
      " 'https://acroadtrip.blob.core.windows.net/publicaciones-imagenes/Large/honda/civic/pe/RT_PU_f76df2b13e7147fba352ef78795dcd5a.webp'\n",
      " 'https://acroadtrip.blob.core.windows.net/publicaciones-imagenes/Large/honda/wr-v/pe/RT_PU_301e62d4589f4651892e08f82143ea59.webp'\n",
      " 'https://acroadtrip.blob.core.windows.net/publicaciones-imagenes/Large/hyundai/tucson/pe/RT_PU_c5bd3672df6d4703802931120f428581.webp']\n",
      "['4x2' 'delantera' '4x4' 'otros' 'premium' 'posterior']\n",
      "[2023. 2020. 2021. 2014. 2019. 2018. 2024. 2012. 2015. 2017. 2016. 2022.\n",
      " 2013. 2006. 1965. 2011. 1981. 2009. 2010. 2008. 1998. 1980. 1951. 2007.\n",
      " 1983. 1991. 1966. 2004. 2001. 1985. 2025. 2005. 1992. 1974. 1955. 1997.\n",
      " 1994. 2003. 1996. 2002. 1957. 2000. 1999.   nan 1976. 1986. 1949. 1929.\n",
      " 1960. 1982. 1995. 1987. 1977. 1989. 1993. 1984. 1969. 1988. 1964. 1975.\n",
      " 1927. 1979. 1990.]\n"
     ]
    }
   ],
   "source": [
    "for col in data.columns.tolist():\n",
    "    print(data[col].unique())"
   ]
  }
 ],
 "metadata": {
  "kernelspec": {
   "display_name": "Python 3 (ipykernel)",
   "language": "python",
   "name": "python3"
  },
  "language_info": {
   "codemirror_mode": {
    "name": "ipython",
    "version": 3
   },
   "file_extension": ".py",
   "mimetype": "text/x-python",
   "name": "python",
   "nbconvert_exporter": "python",
   "pygments_lexer": "ipython3",
   "version": "3.11.9"
  }
 },
 "nbformat": 4,
 "nbformat_minor": 2
}
