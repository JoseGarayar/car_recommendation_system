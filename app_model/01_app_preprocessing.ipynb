{
 "cells": [
  {
   "cell_type": "markdown",
   "metadata": {},
   "source": [
    "# Notebook configuration"
   ]
  },
  {
   "cell_type": "code",
   "execution_count": 63,
   "metadata": {},
   "outputs": [],
   "source": [
    "import pandas as pd\n",
    "import numpy as np\n",
    "import warnings\n",
    "warnings.filterwarnings('ignore')"
   ]
  },
  {
   "cell_type": "markdown",
   "metadata": {},
   "source": [
    "# Neoauto"
   ]
  },
  {
   "cell_type": "code",
   "execution_count": 64,
   "metadata": {},
   "outputs": [
    {
     "name": "stdout",
     "output_type": "stream",
     "text": [
      "(5362, 15)\n"
     ]
    },
    {
     "data": {
      "text/html": [
       "<div>\n",
       "<style scoped>\n",
       "    .dataframe tbody tr th:only-of-type {\n",
       "        vertical-align: middle;\n",
       "    }\n",
       "\n",
       "    .dataframe tbody tr th {\n",
       "        vertical-align: top;\n",
       "    }\n",
       "\n",
       "    .dataframe thead th {\n",
       "        text-align: right;\n",
       "    }\n",
       "</style>\n",
       "<table border=\"1\" class=\"dataframe\">\n",
       "  <thead>\n",
       "    <tr style=\"text-align: right;\">\n",
       "      <th></th>\n",
       "      <th>Brands</th>\n",
       "      <th>Models</th>\n",
       "      <th>Version</th>\n",
       "      <th>Currency</th>\n",
       "      <th>Price</th>\n",
       "      <th>Urlpic</th>\n",
       "      <th>Year</th>\n",
       "      <th>KM</th>\n",
       "      <th>Fuel_type</th>\n",
       "      <th>Transmission</th>\n",
       "      <th>Location</th>\n",
       "      <th>Color</th>\n",
       "      <th>Cilinder</th>\n",
       "      <th>Upholstery</th>\n",
       "      <th>Engine</th>\n",
       "    </tr>\n",
       "  </thead>\n",
       "  <tbody>\n",
       "    <tr>\n",
       "      <th>0</th>\n",
       "      <td>SUZUKI</td>\n",
       "      <td>S-PRESSO</td>\n",
       "      <td>4x2</td>\n",
       "      <td>USD</td>\n",
       "      <td>US$ 9,800</td>\n",
       "      <td>https://cde.neoauto.pe/autos_usados/360x240/66...</td>\n",
       "      <td>2023.0</td>\n",
       "      <td>16684.0</td>\n",
       "      <td>Gasolina</td>\n",
       "      <td>MecÃ¡nica</td>\n",
       "      <td>Lima, Lima</td>\n",
       "      <td>Rojo</td>\n",
       "      <td>3.0</td>\n",
       "      <td>tela</td>\n",
       "      <td>1,000 cc</td>\n",
       "    </tr>\n",
       "    <tr>\n",
       "      <th>1</th>\n",
       "      <td>DFSK</td>\n",
       "      <td>GLORY 500</td>\n",
       "      <td>Delantera</td>\n",
       "      <td>USD</td>\n",
       "      <td>US$ 12,000</td>\n",
       "      <td>https://cde.neoauto.pe/autos_usados/360x240/70...</td>\n",
       "      <td>2023.0</td>\n",
       "      <td>11054.0</td>\n",
       "      <td>Gas GLP</td>\n",
       "      <td>MecÃ¡nica</td>\n",
       "      <td>Lima, Lima</td>\n",
       "      <td>Blanco</td>\n",
       "      <td>4.0</td>\n",
       "      <td>tela</td>\n",
       "      <td>1,500 cc</td>\n",
       "    </tr>\n",
       "    <tr>\n",
       "      <th>2</th>\n",
       "      <td>TOYOTA</td>\n",
       "      <td>YARIS</td>\n",
       "      <td>Delantera</td>\n",
       "      <td>USD</td>\n",
       "      <td>US$ 15,500</td>\n",
       "      <td>https://cde.neoauto.pe/autos_usados/360x240/70...</td>\n",
       "      <td>2023.0</td>\n",
       "      <td>15500.0</td>\n",
       "      <td>Gas GNV</td>\n",
       "      <td>MecÃ¡nica</td>\n",
       "      <td>Lima, Lima</td>\n",
       "      <td>Rojo</td>\n",
       "      <td>4.0</td>\n",
       "      <td>tela</td>\n",
       "      <td>1,300 cc</td>\n",
       "    </tr>\n",
       "    <tr>\n",
       "      <th>3</th>\n",
       "      <td>FORD</td>\n",
       "      <td>RAPTOR</td>\n",
       "      <td>4x4</td>\n",
       "      <td>USD</td>\n",
       "      <td>US$ 75,900</td>\n",
       "      <td>https://cde.neoauto.pe/autos_usados/360x240/30...</td>\n",
       "      <td>2020.0</td>\n",
       "      <td>12500.0</td>\n",
       "      <td>Gasolina</td>\n",
       "      <td>AutomÃ¡tica - Secuencial</td>\n",
       "      <td>Lima, Lima</td>\n",
       "      <td>Blanco</td>\n",
       "      <td>6.0</td>\n",
       "      <td>tela</td>\n",
       "      <td>3,500 cc</td>\n",
       "    </tr>\n",
       "    <tr>\n",
       "      <th>4</th>\n",
       "      <td>KIA</td>\n",
       "      <td>SPORTAGE</td>\n",
       "      <td>4x2</td>\n",
       "      <td>USD</td>\n",
       "      <td>US$ 27,900</td>\n",
       "      <td>https://cde.neoauto.pe/autos_usados/360x240/70...</td>\n",
       "      <td>2023.0</td>\n",
       "      <td>52130.0</td>\n",
       "      <td>Gasolina</td>\n",
       "      <td>MecÃ¡nica</td>\n",
       "      <td>Lima, Lima</td>\n",
       "      <td>Gris Oscuro</td>\n",
       "      <td>4.0</td>\n",
       "      <td>Asientos de cuero</td>\n",
       "      <td>1,999 cc</td>\n",
       "    </tr>\n",
       "  </tbody>\n",
       "</table>\n",
       "</div>"
      ],
      "text/plain": [
       "   Brands     Models    Version Currency       Price  \\\n",
       "0  SUZUKI   S-PRESSO        4x2      USD   US$ 9,800   \n",
       "1    DFSK  GLORY 500  Delantera      USD  US$ 12,000   \n",
       "2  TOYOTA      YARIS  Delantera      USD  US$ 15,500   \n",
       "3    FORD     RAPTOR        4x4      USD  US$ 75,900   \n",
       "4     KIA   SPORTAGE        4x2      USD  US$ 27,900   \n",
       "\n",
       "                                              Urlpic    Year       KM  \\\n",
       "0  https://cde.neoauto.pe/autos_usados/360x240/66...  2023.0  16684.0   \n",
       "1  https://cde.neoauto.pe/autos_usados/360x240/70...  2023.0  11054.0   \n",
       "2  https://cde.neoauto.pe/autos_usados/360x240/70...  2023.0  15500.0   \n",
       "3  https://cde.neoauto.pe/autos_usados/360x240/30...  2020.0  12500.0   \n",
       "4  https://cde.neoauto.pe/autos_usados/360x240/70...  2023.0  52130.0   \n",
       "\n",
       "  Fuel_type              Transmission    Location        Color  Cilinder  \\\n",
       "0  Gasolina                 MecÃ¡nica  Lima, Lima         Rojo       3.0   \n",
       "1   Gas GLP                 MecÃ¡nica  Lima, Lima       Blanco       4.0   \n",
       "2   Gas GNV                 MecÃ¡nica  Lima, Lima         Rojo       4.0   \n",
       "3  Gasolina  AutomÃ¡tica - Secuencial  Lima, Lima       Blanco       6.0   \n",
       "4  Gasolina                 MecÃ¡nica  Lima, Lima  Gris Oscuro       4.0   \n",
       "\n",
       "          Upholstery    Engine  \n",
       "0               tela  1,000 cc  \n",
       "1               tela  1,500 cc  \n",
       "2               tela  1,300 cc  \n",
       "3               tela  3,500 cc  \n",
       "4  Asientos de cuero  1,999 cc  "
      ]
     },
     "execution_count": 64,
     "metadata": {},
     "output_type": "execute_result"
    }
   ],
   "source": [
    "neoauto = pd.read_csv('datasets/raw/neoauto.csv')\n",
    "print(neoauto.shape)\n",
    "neoauto.head()"
   ]
  },
  {
   "cell_type": "markdown",
   "metadata": {},
   "source": [
    "Declare paths and constants"
   ]
  },
  {
   "cell_type": "code",
   "execution_count": 65,
   "metadata": {},
   "outputs": [],
   "source": [
    "CURRENT_YEAR = 2024\n",
    "SOLES_TO_DOLLAR = 1 / 3.8"
   ]
  },
  {
   "cell_type": "markdown",
   "metadata": {},
   "source": [
    "## Clean numerical features"
   ]
  },
  {
   "cell_type": "markdown",
   "metadata": {},
   "source": [
    "Change"
   ]
  },
  {
   "cell_type": "code",
   "execution_count": 66,
   "metadata": {},
   "outputs": [],
   "source": [
    "neoauto[['Price', 'Engine']] = neoauto[['Price', 'Engine']].replace(to_replace = r'[ ,a-zA-Z$]', value = '', regex = True)\\\n",
    "                                                           .replace(to_replace = '', value = np.nan)\\\n",
    "                                                           .astype(float)\n",
    "\n",
    "neoauto['Year'] = neoauto['Year'].clip(upper = CURRENT_YEAR)"
   ]
  },
  {
   "cell_type": "markdown",
   "metadata": {},
   "source": [
    "Validate"
   ]
  },
  {
   "cell_type": "code",
   "execution_count": 67,
   "metadata": {},
   "outputs": [
    {
     "data": {
      "text/plain": [
       "Price     float64\n",
       "Engine    float64\n",
       "dtype: object"
      ]
     },
     "execution_count": 67,
     "metadata": {},
     "output_type": "execute_result"
    }
   ],
   "source": [
    "neoauto[['Price', 'Engine']].dtypes"
   ]
  },
  {
   "cell_type": "markdown",
   "metadata": {},
   "source": [
    "## Clean categorical features"
   ]
  },
  {
   "cell_type": "markdown",
   "metadata": {},
   "source": [
    "Check unique values"
   ]
  },
  {
   "cell_type": "code",
   "execution_count": 68,
   "metadata": {},
   "outputs": [
    {
     "data": {
      "text/html": [
       "<div>\n",
       "<style scoped>\n",
       "    .dataframe tbody tr th:only-of-type {\n",
       "        vertical-align: middle;\n",
       "    }\n",
       "\n",
       "    .dataframe tbody tr th {\n",
       "        vertical-align: top;\n",
       "    }\n",
       "\n",
       "    .dataframe thead th {\n",
       "        text-align: right;\n",
       "    }\n",
       "</style>\n",
       "<table border=\"1\" class=\"dataframe\">\n",
       "  <thead>\n",
       "    <tr style=\"text-align: right;\">\n",
       "      <th></th>\n",
       "      <th>Brands</th>\n",
       "      <th>Models</th>\n",
       "      <th>Version</th>\n",
       "      <th>Currency</th>\n",
       "      <th>Urlpic</th>\n",
       "      <th>Fuel_type</th>\n",
       "      <th>Transmission</th>\n",
       "      <th>Location</th>\n",
       "      <th>Color</th>\n",
       "      <th>Upholstery</th>\n",
       "    </tr>\n",
       "  </thead>\n",
       "  <tbody>\n",
       "    <tr>\n",
       "      <th>count</th>\n",
       "      <td>5361</td>\n",
       "      <td>5361</td>\n",
       "      <td>4900</td>\n",
       "      <td>5362</td>\n",
       "      <td>5334</td>\n",
       "      <td>5339</td>\n",
       "      <td>5361</td>\n",
       "      <td>5362</td>\n",
       "      <td>5072</td>\n",
       "      <td>5361</td>\n",
       "    </tr>\n",
       "    <tr>\n",
       "      <th>unique</th>\n",
       "      <td>81</td>\n",
       "      <td>846</td>\n",
       "      <td>541</td>\n",
       "      <td>1</td>\n",
       "      <td>5326</td>\n",
       "      <td>9</td>\n",
       "      <td>3</td>\n",
       "      <td>42</td>\n",
       "      <td>53</td>\n",
       "      <td>2</td>\n",
       "    </tr>\n",
       "    <tr>\n",
       "      <th>top</th>\n",
       "      <td>TOYOTA</td>\n",
       "      <td>RAV4</td>\n",
       "      <td>4x2</td>\n",
       "      <td>USD</td>\n",
       "      <td>https://cde.neoauto.pe/autos_usados/360x240/68...</td>\n",
       "      <td>Gasolina</td>\n",
       "      <td>AutomÃ¡tica - Secuencial</td>\n",
       "      <td>Lima, Lima</td>\n",
       "      <td>Blanco</td>\n",
       "      <td>tela</td>\n",
       "    </tr>\n",
       "    <tr>\n",
       "      <th>freq</th>\n",
       "      <td>495</td>\n",
       "      <td>91</td>\n",
       "      <td>1617</td>\n",
       "      <td>5362</td>\n",
       "      <td>2</td>\n",
       "      <td>4123</td>\n",
       "      <td>2179</td>\n",
       "      <td>4908</td>\n",
       "      <td>849</td>\n",
       "      <td>4125</td>\n",
       "    </tr>\n",
       "  </tbody>\n",
       "</table>\n",
       "</div>"
      ],
      "text/plain": [
       "        Brands Models Version Currency  \\\n",
       "count     5361   5361    4900     5362   \n",
       "unique      81    846     541        1   \n",
       "top     TOYOTA   RAV4     4x2      USD   \n",
       "freq       495     91    1617     5362   \n",
       "\n",
       "                                                   Urlpic Fuel_type  \\\n",
       "count                                                5334      5339   \n",
       "unique                                               5326         9   \n",
       "top     https://cde.neoauto.pe/autos_usados/360x240/68...  Gasolina   \n",
       "freq                                                    2      4123   \n",
       "\n",
       "                    Transmission    Location   Color Upholstery  \n",
       "count                       5361        5362    5072       5361  \n",
       "unique                         3          42      53          2  \n",
       "top     AutomÃ¡tica - Secuencial  Lima, Lima  Blanco       tela  \n",
       "freq                        2179        4908     849       4125  "
      ]
     },
     "execution_count": 68,
     "metadata": {},
     "output_type": "execute_result"
    }
   ],
   "source": [
    "neoauto.describe(include = object)"
   ]
  },
  {
   "cell_type": "markdown",
   "metadata": {},
   "source": [
    "### Brands"
   ]
  },
  {
   "cell_type": "code",
   "execution_count": 69,
   "metadata": {},
   "outputs": [
    {
     "data": {
      "text/plain": [
       "array(['SUZUKI', 'DFSK', 'TOYOTA', 'FORD', 'KIA', 'PEUGEOT', 'AUDI',\n",
       "       'HYUNDAI', 'NISSAN', 'RENAULT', 'MAZDA', 'HONDA', 'JEEP',\n",
       "       'MITSUBISHI', 'VOLKSWAGEN', 'MERCEDES BENZ', 'CHEVROLET',\n",
       "       'PORSCHE', 'SUBARU', 'GEELY', 'CITROEN', 'MINI', 'LEXUS', 'DODGE',\n",
       "       'JETOUR', 'BMW', 'LAND ROVER', 'VOLVO', 'JAGUAR', 'MG',\n",
       "       'SSANGYONG', 'CHERY', 'SEAT', 'JAC', 'HAVAL', 'MC LAREN', 'FIAT',\n",
       "       'HUDSON', 'DONGFENG', 'MAXUS', 'MASERATI', 'CHANGAN', 'RAM', 'GAC',\n",
       "       'ASTON MARTIN', 'CUPRA', 'GREAT WALL', 'BAIC YINXIANG', 'CHRYSLER',\n",
       "       'MORRIS GARAGES', 'SWM', 'LAMBORGHINI', 'DAEWOO', 'ZOTYE', 'HAIMA',\n",
       "       'OTROS', 'JMC', 'DAIHATSU', nan, 'LADA', 'FOTON', 'INFINITI',\n",
       "       'DATSUN', 'CHANGHE', 'SHINERAY', 'MERCURY', 'BRILLIANCE', 'GONOW',\n",
       "       'MAHINDRA', 'BYD', 'SOUEAST', 'INTERNATIONAL', 'JINBEI',\n",
       "       'GOLDEN DRAGON', 'BAIC', 'BUGGY', 'YUGO', 'PONTIAC', 'ISUZU',\n",
       "       'VICTORY', 'ACURA', 'OLDSMOBILE'], dtype=object)"
      ]
     },
     "execution_count": 69,
     "metadata": {},
     "output_type": "execute_result"
    }
   ],
   "source": [
    "neoauto.Brands.unique()"
   ]
  },
  {
   "cell_type": "markdown",
   "metadata": {},
   "source": [
    "### Models"
   ]
  },
  {
   "cell_type": "code",
   "execution_count": 70,
   "metadata": {},
   "outputs": [
    {
     "data": {
      "text/plain": [
       "array(['S-PRESSO', 'GLORY 500', 'YARIS', 'RAPTOR', 'SPORTAGE', '3008',\n",
       "       'Q5', 'ELANTRA', 'KICKS', 'KOLEOS', 'X-TRAIL', 'CX-5', 'HR-V', '3',\n",
       "       'SORENTO', 'GRAND CHEROKEE LAREDO', '3 SPORT', 'CX-9', 'OUTLANDER',\n",
       "       'GOL', 'VERSA', 'I20', 'C-180', 'CR-V', 'DUSTER',\n",
       "       'TIGUAN ALLSPACE', 'QASHQAI', 'TRACKER', 'FRONTIER', 'CX-3',\n",
       "       'MACAN S', 'TIGUAN', 'ASX', 'PILOT', 'IMPREZA', 'SPIN', 'TUCSON',\n",
       "       '208', 'SONET', 'I20 HB', 'GX3', 'C5 AIRCROSS', 'BALENO',\n",
       "       'COROLLA', 'COROLLA CROSS', 'RAIZE', 'RUSH', 'CRETA', 'SELTOS',\n",
       "       'A3 SPORTBACK', 'PRIUS', 'SENTRA', 'FORTUNER', '2', 'RANGER',\n",
       "       'HATCH 3DR', 'GRAND CHEROKEE LIMITED', 'IS 300', 'MUSTANG',\n",
       "       'SANTA FE', 'NIVUS', 'GLE 400 4MATIC', 'C-350', 'FORESTER',\n",
       "       'HILUX', 'RIO', '4RUNNER', 'JOURNEY', 'A4', 'SAVEIRO', 'X70 PLUS',\n",
       "       'X3 28i', 'RANGE ROVER SPORT', 'X4 20i', 'XC-40', 'RAV4', 'PASSAT',\n",
       "       'A-180', '750LI', 'GLA 200', 'XV', 'CLA 45 AMG',\n",
       "       'ALL NEW FORESTER', 'F-PACE', 'L200', 'EVOLTIS', '5', 'JETTA',\n",
       "       'NEW REXTON', 'TIGGO 8 PRO', 'X-3', 'HATCH JCW', 'X3 20i',\n",
       "       'CONVERTIBLE', 'C-200', 'TIGGO 8', 'F-150', 'LEON STYLE 1.6 MEC',\n",
       "       '528-I', 'EDGE TITANIUM', 'GL 400', 'COMPASS', 'X1 18i', 'S5',\n",
       "       'TOUAREG', 'M4', 'TAHOE', 'CERATO', 'TIGGO 7 PRO', 'EXPLORER',\n",
       "       'IS 200t', 'UX 250h', 'OUTBACK', 'T-CROSS', 'AGYA', 'DURANGO',\n",
       "       'JS4', 'H6', 'HIGHLANDER', 'COOPER', 'TRAVERSE', 'CLA 200',\n",
       "       'AVENSIS', 'A200', 'ESCAPE', 'COROLLA HYBRID', 'XC-90',\n",
       "       'CAYENNE GTS', 'GRAND i10', 'i10', 'GRAND NOMADE', 'KWID', '650S',\n",
       "       'COOPER S', 'A6', 'PATHFINDER', 'LEGACY', 'ARRIZO 5', '2008',\n",
       "       'NEW ASX', 'X4 M40i', '640i', 'TERRITORY', 'RENEGADE',\n",
       "       'CHEROKEE LIMITED', '550i', 'GRAND CHEROKEE SRT', 'X5 35i',\n",
       "       'C-250', 'GRAND CHEROKEE OVERLAND', 'X 1/9', 'PARTNER', 'WASP',\n",
       "       'E200 COUPE', 'COLORADO', 'C-ELYSÃ‰E', 'ECOSPORT', 'MONTERO SPORT',\n",
       "       'ALL NEW H6', 'X1 20i', 'GOLF', 'AMAROK',\n",
       "       'WRANGLER UNLIMITED RUBICON', 'M235i', 'X6 30d', 'CAYENNE',\n",
       "       'X2 20i', 'E-350', 'DISCOVERY SPORT', 'X3 30i', '740LI',\n",
       "       'Cherokee Longitude', 'LAND CRUISER PRADO', 'E-200', 'X5 40i',\n",
       "       'M6', 'X3 35i', 'VIRTUS', 'A7 SPORTBACK', 'CX-30', 'ECLIPSE CROSS',\n",
       "       'Q3', '316i', 'Q8', 'S63-AMG', 'IMPREZA SPORT', 'LX 570',\n",
       "       'SUBURBAN', 'BOXER', 'TIVOLI', 'ODYSSEY', 'JIMNY', 'T5 EVO',\n",
       "       'JETTA GLI', 'TT COUPE', 'X6 M', 'UX 250h LUXURY', 'EXPEDITION',\n",
       "       'NIRO', 'GLORY 580', 'CAPTIVA', 'RX 450hL', 'GLC 200',\n",
       "       'GRAND CHEROKEE', 'RANGE ROVER EVOQUE', 'CORONA', 'CIVIC',\n",
       "       'GLE 53 AMG', 'CRETA GRAND', 'DS-4', 'NEW VITARA', 'STARIA', 'T60',\n",
       "       '318', 'KORANDO', 'OROCH', 'H-1', 'SOLUTO', 'SENTRA V16', 'BT-50',\n",
       "       'X5 50i', 'XC-60', 'D60', 'i30', 'ONIX', 'ORLANDO',\n",
       "       'LEVANTE S GRANSPORT', 'CAYENNE TURBO', 'COOLRAY', 'GLORY 560',\n",
       "       'X4', 'TAOS', 'UNIT-T', 'E-300', 'VITARA', 'GX3 PRO', 'STEPWAY',\n",
       "       'X5', 'ESCAPE SE', 'S90', 'A1', 'CAPTUR', '2 SPORT', 'MG GS',\n",
       "       'EDGE SEL', 'S-CROSS', 'LOGAN', 'GOL POWER', 'X-TERRA', 'LX 600',\n",
       "       'GOL SEDÃ\\x81N', '520-i', 'X7 SPORT', 'XPANDER', 'C55-AMG',\n",
       "       'GLA250 4MATIC', 'VENUE', 'ACCENT', 'GLC 250 4MATIC',\n",
       "       'RANGE ROVER VELAR', 'EVOQUE', 'X70', 'TIGGO 2', 'CROSSFOX',\n",
       "       'DISCOVERY', 'C-300', 'OKAVANGO', 'JUMPER', 'HILUX SR',\n",
       "       'VERSA SENSE', 'VERNA', 'COMPASS SPORT', 'KIZASHI',\n",
       "       'RANGE ROVER VOGUE', 'HS', 'CITY TOURING',\n",
       "       'GLE 63 S AMG 4MATIC COUPE', 'CLA 180 COUPE', '5 PUERTAS',\n",
       "       'IMPREZA WRX', 'V700', 'CLUBMAN', 'EMZOOM', 'EMKOO', 'PATRIOT',\n",
       "       'AMG GT', 'DB11', 'FORMENTOR', 'DBX', 'NX300H LUXURY', 'M440I',\n",
       "       'C63-AMG', 'LEVANTE TROFEO', 'ALL NEW REXTON', 'GLC 200 COUPE',\n",
       "       'GLE 450 4 MATIC', 'E-500', 'CORVETTE', 'WR-V',\n",
       "       'AMG GLC 43 4MATIC', 'LEVANTE', 'ACCORD', '420i', 'S60', 'GLA 180',\n",
       "       'MUSSO GRAND', 'X90 PLUS', 'C-3', 'SL-280', 'X6 50i', '120i',\n",
       "       '428i', 'DISCOVERY 4', 'WRANGLER RUBICON', '420I GRAN COUPE',\n",
       "       '318i', '320i', 'SWIFT', 'MACAN GTS', 'CAYENNE S', 'MACAN',\n",
       "       'A3 SEDAN', 'Q7', 'R8', 'A3 HB', 'HRV', 'DASHING', 'XPANDER CROSS',\n",
       "       'PALISADE', 'BRONCO SPORT', 'TIGGO 3', 'TIGGO', 'PICANTO CROSS',\n",
       "       'ES 250', 'GRAND VITARA', 'XL7', 'COMMANDER', 'FIESTA', 'FUSION',\n",
       "       'ALL NEW ONIX', 'ATOS', 'GLORY iX5', '118i', 'C4 Cactus', 'C31',\n",
       "       'WRX', 'GLB 200', 'PULSE', 'AMG GLE53 COUPE', '1000', '700',\n",
       "       '1500', 'HAVAL H3', 'AVANZA', 'HIACE', 'M4 CABRIO', 'ETIOS',\n",
       "       'CLS 400', 'X6 35i', '721', 'IX', 'HATCH COOPER S', '530E', 'X3',\n",
       "       'M340i XDRIVE', 'M135i', '530i', 'COUNTRYMAN COOPER', '330i',\n",
       "       '220i', '420GCI', 'HATCH 5DR', 'X2', '218i GRAN COUPE',\n",
       "       'COUNTRYMAN COOPER S', 'LAND CRUISER', 'NP300 FRONTIER', 'x4 30i',\n",
       "       'RAM', 'TERAMONT', 'CX-7', 'M140i', 'X1', 'LANDTREK', '500', '407',\n",
       "       'CRUZE', 'Q3 SPORTBACK', 'GLE 400 COUPE', 'JS8', 'PRISMA',\n",
       "       'ML 300 4MATIC', 'VIVANT', 'MOHAVE', 'COUNTRYMAN',\n",
       "       'RX 350 F-SPORT', 'H2', 'T8', 'JOLION', 'CS55', 'J6', 'C-4',\n",
       "       'CELERIO', 'CX70', 'APV', 'CROSSTREK', 'DARGO', 'FORESTER TURBO',\n",
       "       'ONIX JOY', 'ALL NEW MAZDA 3', 'BERLINGO', 'GLE 43 AMG',\n",
       "       'E 200 ELEGANCE', 'YIXUAN GS', 'H30', 'X5 30d', '307-SW', 'ARONA',\n",
       "       'X-5', '301', 'ML 350', 'AMG GT S', 'KENBO S3', 'WINGROAD',\n",
       "       'RANGER LIMITED', 'N-300 WORK', 'JOYEAR SX6', 'V40', 'PICANTO',\n",
       "       'H3', 'CIVIC LX', 'CERATO KOUP', '418i GCI', 'GT-86', 'CHARGER',\n",
       "       'TIGGO 2 PRO', 'C-10', 'NATIVA', 'GL-450', 'C240', '6', 'CORRADO',\n",
       "       'GT', 'GL-500', 'CAMRY', 'OPTIMA', 'TOWN & COUNTRY', 'MG 5',\n",
       "       'A5 COUPE', 'MALIBU', 'CC', 'N400', 'TACOMA', 'M3', '200', 'XE',\n",
       "       'PICK UP', 'NX 300h', 'C 200 COUPE', 'CIAZ', 'K07S', 'LEON FR',\n",
       "       '5008', '435i', 'GLB 200 STYLE', '850', 'S6', 'STRADA ADVENTURE',\n",
       "       'NITRO', 'RICH6', 'CAMARO', 'CAYMAN GTS', 'KONA', 'MONTERO',\n",
       "       'BEETLE', 'IMPREZA SEDÃ\\x81N', 'E-PACE', '360', 'EXPERT', 'BIPPER',\n",
       "       'VERSA ADVANCE', 'MX 5', 'CT 200H', 'SLC-200', 'C-180 KOMPRESSOR',\n",
       "       'CS15', 'S2', 'JS3', 'MX 6', 'STARLET', 'X7', 'TIIDA',\n",
       "       'APV MINIVAN', 'S3 SedÃ¡n', 'RAM-1500', 'URUS', 'FIORINO',\n",
       "       'ML 400 CDI', 'GOLF GTI', 'AMG A 45S 4 MATIC', 'CAYENNE TURBO S',\n",
       "       'CITY', 'CAYENNE COUPE', 'S3', 'G350', '911', 'S22',\n",
       "       'LANCER CEDIA', 'MURANO', 'ALL NEW OUTBACK', 'SPARK GT',\n",
       "       'GLADIATOR', '335i', '308', 'i20 ACTIVE', 'CLA 180',\n",
       "       'GLE 450 COUPE', 'GOL CONFORT SEDAN', 'M5', 'SX-4',\n",
       "       'XC-70 CROSS COUNTRY', 'ALL NEW FORESTER 2019', 'X5 30i', 'AERIO',\n",
       "       'TRIBECA', 'ACTYON SPORTS', 'VELOSTER', 'AURIS', 'SPRINTER',\n",
       "       'JOHN COOPER WORKS', 'DS-3', 'A45 AMG', 'RSQ3', '1M',\n",
       "       '135i Cabriolet', 'SUNRAY', 'COUNTRYMAN COOPER JCW', 'C70',\n",
       "       'ACTYON', 'SANDERO', 'H7L', 'ONIX ACTIV', '328-I',\n",
       "       'A7 SPORTBACK HB', 'ARGO', 'TT', 'TRANSPORTER', 'DAMAS', 'REFINE',\n",
       "       'AVEO', '911 TURBO-S', 'T600', 'A8', 'RIDGELINE', 'FREELANDER',\n",
       "       'WINGLE 5', 'MATRIX', 'GOL COMFORT 1.6', '128TI', 'SPACE FOX',\n",
       "       'IBIZA STYLE', 'HAIMA3', 'OTROS', 'C3 Aircross', 'ZS', 'BORA',\n",
       "       'VIGUS', '340i', 'NAVARA', 'CRONOS', 'C-240', 'GHIBLI', 'TERIOS',\n",
       "       nan, 'FJ CRUISER', 'GLORY', 'GRAND CARAVAN', 'M3 SedÃ¡n',\n",
       "       'CORONET', 'DZIRE', 'RANGE ROVER', '1600', 'ARRIZO 3',\n",
       "       'CIVIC TURBO', 'PRIORA', '418i', 'LIBERTY SPORT', 'AD',\n",
       "       'VANTAGE V8', 'GLK 250', 'GC7', 'SIENNA', 'LIBERTY',\n",
       "       'GRAND TURISMO', 'MG3', 'BOARDING', 'Jumpy', '207', 'MIRAGE', 'ZX',\n",
       "       'UP', 'FLUENCE', 'CK', 'X2 M35i', 'RODIUS', 'GS', 'SAIL', 'LANCER',\n",
       "       'RS3', 'GLA 45 AMG', 'E-TRON', 'TERRACAN', 'X7 40i',\n",
       "       'COUNTRYMAN JCW', 'NEW XV', '330E', 'GS 350 F-SPORT', 'SPEED3',\n",
       "       'VIEW', 'MUSTANG MACH 1', 'SOUL', '207 COMPACT', '135i', 'UNO',\n",
       "       'L200 DK-R', 'RANGER RAPTOR', 'MARCH', 'G37', 'X6',\n",
       "       'MIRAGE HATCHBACK', 'CLA 200 COUPE', 'N-300', 'LINEA', 'X6 40i',\n",
       "       'CARNIVAL', 'EQUINOX', 'CLK-430', 'CHEROKEE', 'VERSA DRIVE',\n",
       "       'QUATTROPORTE', '570S', 'X5 M', 'PATROL', 'C63 AMG S', 'VICTORIA',\n",
       "       'M2 Coupe', 'GR YARIS', 'MP4-12C', 'A', 'PANAMERA-4S', 'TUNDRA',\n",
       "       'LX 570 PLUS', 'CS35', 'MONTERO IO', 'ALMERA', 'ALL NEW L200',\n",
       "       'EMGRANDEC7', 'URBAN CRUISER', 'CLIO', 'AZKARRA', 'CORVAIR', '406',\n",
       "       '911 CARRERA', 'CELICA', 'CIELO', 'H100', 'SILVIA', 'SUNNY',\n",
       "       'JUKE', 'NEW TIGGO 7', 'CIVIC COUPE', 'PALIO ADVENTURE', 'SX5',\n",
       "       'FREEDOM - 8 asientos', '325', '325-iA', 'S40', '323', 'BB',\n",
       "       'F-150 RAPTOR', 'K60', 'GALANT', 'MIRAGE G4', 'NEW TIGGO 2',\n",
       "       'NEW BEETLE', 'VAN PX', 'BEAT', 'H350', 'URVAN', '430I COUPE',\n",
       "       'SONIC', '750 Li', '1300', '3XROSS', 'NEW ALTO 800',\n",
       "       'ALL NEW LEGACY', 'MARINER', '325i', 'V3', '121', 'LEON CUPRA',\n",
       "       'INCAPOWER EIGHT', 'GRAND i10 HB', 'TIBURON', 'NX 200T F-SPORT',\n",
       "       'REXTON-II', '10', '535-I', 'X5 44i', 'XC-70', 'FREESTYLE',\n",
       "       'CHEROKEE TRAILHAWK', 'NEW QQ', 'CHEROKEE LAREDO', 'NOTE', 'H1',\n",
       "       'SCORPIO', 'MG5', 'COBALT', 'GROOVE', 'POLO', '206',\n",
       "       'A1 SPORTBACK', 'MATIZ', 'S500', 'MK', 'N300 MAX', 'F3',\n",
       "       'SWIFT GTI', 'NX 200T', 'A5', 'EC7', 'FOCUS', '88', 'MONZA',\n",
       "       '740i', 'LIBERO', 'PUNTO', 'UNO WAY', 'POER', 'SYMBOL', 'H530',\n",
       "       'ERTIGA', 'IGNIS', 'MK RSI', 'Q22', 'DX3', 'ALL NEW JOY', 'DEER',\n",
       "       'FREESTAR', '240', 'AZERA', 'CHARADE SOCIAL', 'SONATA', '460',\n",
       "       'DAMAS II', 'ESCORT', 'SUPERVAN', 'ALTO', 'SOLIO', 'EXCURSION',\n",
       "       'CRUZE HB', 'HAVAL', 'VENTO', 'GOL CROSSOVER', 'S30 ELEGANT MT',\n",
       "       'MASTER', 'SPRINTER CARIB', 'ATECA', '523-IA', 'FULWIN', 'Q2',\n",
       "       'CIVIC SI', 'ESCARABAJO', 'CHEROKEE SPORT', 'A5 SPORTBACK',\n",
       "       'E-200 KOMPRESSOR', 'KOUP', '520', 'SCOUT', 'KONECT', '525i',\n",
       "       'PIK UP', '530d', 'BLUEBIRD', 'TURISTICO 10.5 MTS', 'SPIN ACTIVE',\n",
       "       'ALL NEW KORANDO', 'RIO CROSS', 'CALIBER', 'ORTHIA', 'FALCON',\n",
       "       'ALASKAN', 'OPTRA', 'WRANGLER', 'GOL STATION', 'F-100', '18',\n",
       "       'MUSSO', 'X55', 'ARENDA', 'GS8', '307', '306', 'GV-PLUS', 'IBIZA',\n",
       "       'WINDSTAR', 'DEMIO', 'SWIFT SPORT', 'TEMPEST', 'HOVER', 'QUORIS',\n",
       "       'GLC 250 4MATIC COUPE', 'N200', 'GS 350', '3 SEDÃ\\x81N',\n",
       "       'VOLEEX C30', 'STYLUS', '508', 'Grand New Supervan', 'PASSAT CC',\n",
       "       '3 PUERTAS', 'MOCHE II', 'C-5', 'MOBI', '320', 'N300 MOVE',\n",
       "       'TUNLAND', 'AX7', 'GLORY 330', 'K2400', 'CORSA', '328i', 'AVEO HB',\n",
       "       'INTEGRA', 'SPARK', 'REXTON', 'CADDY', 'STAVIC', 'H2L', 'CUTLASS',\n",
       "       'MUSTANG GT', '911 GT3', 'GENESIS', 'EQ6400LF', 'QQ', 'AMAZON'],\n",
       "      dtype=object)"
      ]
     },
     "execution_count": 70,
     "metadata": {},
     "output_type": "execute_result"
    }
   ],
   "source": [
    "neoauto.Models.unique()"
   ]
  },
  {
   "cell_type": "markdown",
   "metadata": {},
   "source": [
    "### Transmission"
   ]
  },
  {
   "cell_type": "markdown",
   "metadata": {},
   "source": [
    "Create"
   ]
  },
  {
   "cell_type": "code",
   "execution_count": 71,
   "metadata": {},
   "outputs": [],
   "source": [
    "neoauto['Transmission'] = neoauto['Transmission'].map({'MecÃ¡nica': 'mecanica',\n",
    "                                                       'AutomÃ¡tica': 'automatica',\n",
    "                                                       'AutomÃ¡tica - Secuencial': 'automatica_secuencial'})"
   ]
  },
  {
   "cell_type": "markdown",
   "metadata": {},
   "source": [
    "Validate"
   ]
  },
  {
   "cell_type": "code",
   "execution_count": 72,
   "metadata": {},
   "outputs": [
    {
     "data": {
      "text/plain": [
       "Transmission\n",
       "automatica_secuencial    2179\n",
       "mecanica                 1619\n",
       "automatica               1563\n",
       "Name: count, dtype: int64"
      ]
     },
     "execution_count": 72,
     "metadata": {},
     "output_type": "execute_result"
    }
   ],
   "source": [
    "neoauto['Transmission'].value_counts()"
   ]
  },
  {
   "cell_type": "markdown",
   "metadata": {},
   "source": [
    "### Version"
   ]
  },
  {
   "cell_type": "markdown",
   "metadata": {},
   "source": [
    "Create"
   ]
  },
  {
   "cell_type": "code",
   "execution_count": 73,
   "metadata": {},
   "outputs": [],
   "source": [
    "prem_pattern = r'\\b(?:lx|lux|deluxe|l|ltz|sel|ex-l|sl|xle|sxl|plat|prem|luxury|el|ul|g|signature|diamond|elite|luxe)\\b'\n",
    "\n",
    "neoauto['Version'] = np.select([neoauto['Version'].str.lower().str.strip().str.contains('4x2', na = False),\n",
    "                                neoauto['Version'].str.lower().str.strip().str.contains('4x4', na = False),\n",
    "                                neoauto['Version'].str.lower().str.strip().str.contains('delantera', na = False),\n",
    "                                neoauto['Version'].str.lower().str.strip().str.contains('posterior', na = False),\n",
    "                                neoauto['Version'].str.lower().str.strip().str.contains(prem_pattern, regex = True, na = False)],\n",
    "                               ['4x2', '4x4', 'delantera', 'posterior', 'premium'],\n",
    "                               default = 'otros')"
   ]
  },
  {
   "cell_type": "markdown",
   "metadata": {},
   "source": [
    "Validate"
   ]
  },
  {
   "cell_type": "code",
   "execution_count": 74,
   "metadata": {},
   "outputs": [
    {
     "data": {
      "text/plain": [
       "Version\n",
       "4x2          1919\n",
       "otros        1753\n",
       "4x4           896\n",
       "delantera     469\n",
       "posterior     222\n",
       "premium       103\n",
       "Name: count, dtype: int64"
      ]
     },
     "execution_count": 74,
     "metadata": {},
     "output_type": "execute_result"
    }
   ],
   "source": [
    "neoauto['Version'].value_counts()"
   ]
  },
  {
   "cell_type": "markdown",
   "metadata": {},
   "source": [
    "### Upholstery"
   ]
  },
  {
   "cell_type": "markdown",
   "metadata": {},
   "source": [
    "Create"
   ]
  },
  {
   "cell_type": "code",
   "execution_count": 75,
   "metadata": {},
   "outputs": [],
   "source": [
    "neoauto['Upholstery'] = np.where(neoauto['Upholstery'] == 'Asientos de cuero', 'cuero', neoauto['Upholstery'])"
   ]
  },
  {
   "cell_type": "markdown",
   "metadata": {},
   "source": [
    "Validate"
   ]
  },
  {
   "cell_type": "code",
   "execution_count": 76,
   "metadata": {},
   "outputs": [
    {
     "data": {
      "text/plain": [
       "Upholstery\n",
       "tela     4125\n",
       "cuero    1236\n",
       "Name: count, dtype: int64"
      ]
     },
     "execution_count": 76,
     "metadata": {},
     "output_type": "execute_result"
    }
   ],
   "source": [
    "neoauto['Upholstery'].value_counts()"
   ]
  },
  {
   "cell_type": "markdown",
   "metadata": {},
   "source": [
    "### Color"
   ]
  },
  {
   "cell_type": "markdown",
   "metadata": {},
   "source": [
    "Create"
   ]
  },
  {
   "cell_type": "code",
   "execution_count": 77,
   "metadata": {},
   "outputs": [],
   "source": [
    "neoauto['Color'] = neoauto['Color'].astype(str)\n",
    "\n",
    "def extract_base_color(color):\n",
    "    # Definir patrones de regex para los colores base\n",
    "    patterns = {\n",
    "        'blanco': r'^Blanco',\n",
    "        'plata': r'^Plata',\n",
    "        'gris': r'^Gris',\n",
    "        'rojo': r'^Rojo',\n",
    "        'azul': r'^Azul',\n",
    "        'negro': r'^Negro',\n",
    "        'marron': r'^(Marrón|Chocolate|Beige)',\n",
    "    }\n",
    "    \n",
    "    for base_color, pattern in patterns.items():\n",
    "        if pd.Series(color).str.contains(pattern,  na = False).any():\n",
    "            return base_color\n",
    "    \n",
    "    return 'otros'\n",
    "\n",
    "neoauto['Color'] = neoauto['Color'].apply(extract_base_color)"
   ]
  },
  {
   "cell_type": "markdown",
   "metadata": {},
   "source": [
    "Validate"
   ]
  },
  {
   "cell_type": "code",
   "execution_count": 78,
   "metadata": {},
   "outputs": [
    {
     "data": {
      "text/plain": [
       "Color\n",
       "gris      1119\n",
       "blanco     931\n",
       "negro      838\n",
       "otros      810\n",
       "plata      555\n",
       "rojo       532\n",
       "azul       507\n",
       "marron      70\n",
       "Name: count, dtype: int64"
      ]
     },
     "execution_count": 78,
     "metadata": {},
     "output_type": "execute_result"
    }
   ],
   "source": [
    "neoauto['Color'].value_counts()"
   ]
  },
  {
   "cell_type": "markdown",
   "metadata": {},
   "source": [
    "### Location"
   ]
  },
  {
   "cell_type": "markdown",
   "metadata": {},
   "source": [
    "Create"
   ]
  },
  {
   "cell_type": "code",
   "execution_count": 79,
   "metadata": {},
   "outputs": [],
   "source": [
    "neoauto['Location'] = neoauto['Location'].str.split(',', expand = True).iloc[:, 1].str.strip()"
   ]
  },
  {
   "cell_type": "code",
   "execution_count": 80,
   "metadata": {},
   "outputs": [],
   "source": [
    "neoauto['Location'] = np.where(neoauto['Location'] != 'Lima', 'Provincias', neoauto['Location'])"
   ]
  },
  {
   "cell_type": "markdown",
   "metadata": {},
   "source": [
    "Validate"
   ]
  },
  {
   "cell_type": "code",
   "execution_count": 81,
   "metadata": {},
   "outputs": [
    {
     "data": {
      "text/plain": [
       "Location\n",
       "Lima          4926\n",
       "Provincias     436\n",
       "Name: count, dtype: int64"
      ]
     },
     "execution_count": 81,
     "metadata": {},
     "output_type": "execute_result"
    }
   ],
   "source": [
    "neoauto['Location'].value_counts()"
   ]
  },
  {
   "cell_type": "markdown",
   "metadata": {},
   "source": [
    "### Fuel_type"
   ]
  },
  {
   "cell_type": "markdown",
   "metadata": {},
   "source": [
    "Create"
   ]
  },
  {
   "cell_type": "code",
   "execution_count": 82,
   "metadata": {},
   "outputs": [],
   "source": [
    "neoauto['Fuel_type'] = neoauto['Fuel_type'].map({'Gasolina': 'gasolina',\n",
    "                                                 'Gas GLP': 'gas_glp',\n",
    "                                                 'Diesel': 'diesel',\n",
    "                                                 'Dual': 'dual',\n",
    "                                                 'Gas GNV': 'gas_gnv',\n",
    "                                                 'Gasolina-HÃ­brido': 'otros',\n",
    "                                                 'ElÃ©ctrico': 'electrico'})"
   ]
  },
  {
   "cell_type": "markdown",
   "metadata": {},
   "source": [
    "Validate"
   ]
  },
  {
   "cell_type": "code",
   "execution_count": 83,
   "metadata": {},
   "outputs": [
    {
     "data": {
      "text/plain": [
       "Fuel_type\n",
       "gasolina     4123\n",
       "dual          441\n",
       "diesel        423\n",
       "gas_glp       148\n",
       "gas_gnv        76\n",
       "otros          69\n",
       "electrico      12\n",
       "Name: count, dtype: int64"
      ]
     },
     "execution_count": 83,
     "metadata": {},
     "output_type": "execute_result"
    }
   ],
   "source": [
    "neoauto['Fuel_type'].value_counts()"
   ]
  },
  {
   "cell_type": "markdown",
   "metadata": {},
   "source": [
    "## Feature Engineering"
   ]
  },
  {
   "cell_type": "code",
   "execution_count": 84,
   "metadata": {},
   "outputs": [],
   "source": [
    "neoauto['Age'] = CURRENT_YEAR - neoauto['Year']"
   ]
  },
  {
   "cell_type": "markdown",
   "metadata": {},
   "source": [
    "Save csv"
   ]
  },
  {
   "cell_type": "code",
   "execution_count": 85,
   "metadata": {},
   "outputs": [],
   "source": [
    "neoauto.to_csv('datasets/clean/neoauto_clean.csv', index = False)"
   ]
  },
  {
   "cell_type": "markdown",
   "metadata": {},
   "source": [
    "# Autocosmos"
   ]
  },
  {
   "cell_type": "markdown",
   "metadata": {},
   "source": [
    "Read data"
   ]
  },
  {
   "cell_type": "code",
   "execution_count": 86,
   "metadata": {},
   "outputs": [
    {
     "name": "stdout",
     "output_type": "stream",
     "text": [
      "(1576, 15)\n"
     ]
    },
    {
     "data": {
      "text/html": [
       "<div>\n",
       "<style scoped>\n",
       "    .dataframe tbody tr th:only-of-type {\n",
       "        vertical-align: middle;\n",
       "    }\n",
       "\n",
       "    .dataframe tbody tr th {\n",
       "        vertical-align: top;\n",
       "    }\n",
       "\n",
       "    .dataframe thead th {\n",
       "        text-align: right;\n",
       "    }\n",
       "</style>\n",
       "<table border=\"1\" class=\"dataframe\">\n",
       "  <thead>\n",
       "    <tr style=\"text-align: right;\">\n",
       "      <th></th>\n",
       "      <th>Brands</th>\n",
       "      <th>Models</th>\n",
       "      <th>Version</th>\n",
       "      <th>Currency</th>\n",
       "      <th>Price</th>\n",
       "      <th>Urlpic</th>\n",
       "      <th>Year</th>\n",
       "      <th>KM</th>\n",
       "      <th>Fuel_type</th>\n",
       "      <th>Transmission</th>\n",
       "      <th>Location</th>\n",
       "      <th>Color</th>\n",
       "      <th>Cilinders</th>\n",
       "      <th>Upholstery</th>\n",
       "      <th>Engine</th>\n",
       "    </tr>\n",
       "  </thead>\n",
       "  <tbody>\n",
       "    <tr>\n",
       "      <th>0</th>\n",
       "      <td>MG</td>\n",
       "      <td>3</td>\n",
       "      <td>1.5 Std</td>\n",
       "      <td>USD</td>\n",
       "      <td>u$s4,800</td>\n",
       "      <td>https://acroadtrip.blob.core.windows.net/publi...</td>\n",
       "      <td>2014</td>\n",
       "      <td>85000 km</td>\n",
       "      <td>gasolina</td>\n",
       "      <td>manual 5 velocidades</td>\n",
       "      <td>Lima |Lima</td>\n",
       "      <td>Blanco</td>\n",
       "      <td>4 en lÃ­nea</td>\n",
       "      <td>tela</td>\n",
       "      <td>1498 cc</td>\n",
       "    </tr>\n",
       "    <tr>\n",
       "      <th>1</th>\n",
       "      <td>KIA</td>\n",
       "      <td>Cerato</td>\n",
       "      <td>1.6L EX Aut</td>\n",
       "      <td>USD</td>\n",
       "      <td>u$s7,999</td>\n",
       "      <td>https://acroadtrip.blob.core.windows.net/publi...</td>\n",
       "      <td>2014</td>\n",
       "      <td>156000 km</td>\n",
       "      <td>gasolina</td>\n",
       "      <td>automÃ¡tica 6 velocidades</td>\n",
       "      <td>Lima |Lima</td>\n",
       "      <td>Azul Galaxia</td>\n",
       "      <td>4 en lÃ­nea</td>\n",
       "      <td>tela</td>\n",
       "      <td>1591 cc</td>\n",
       "    </tr>\n",
       "    <tr>\n",
       "      <th>2</th>\n",
       "      <td>Toyota</td>\n",
       "      <td>Rav4</td>\n",
       "      <td>2.0L Full 4x2</td>\n",
       "      <td>USD</td>\n",
       "      <td>u$s8,800</td>\n",
       "      <td>https://acroadtrip.blob.core.windows.net/publi...</td>\n",
       "      <td>2018</td>\n",
       "      <td>17000 km</td>\n",
       "      <td>gasolina</td>\n",
       "      <td>manual 6 velocidades</td>\n",
       "      <td>Trujillo |La Libertad</td>\n",
       "      <td>Plata MetÃ¡lico</td>\n",
       "      <td>4 en lÃ­nea</td>\n",
       "      <td>tela</td>\n",
       "      <td>1987 cc</td>\n",
       "    </tr>\n",
       "    <tr>\n",
       "      <th>3</th>\n",
       "      <td>Mazda</td>\n",
       "      <td>3 Sport</td>\n",
       "      <td>2.5L High  Aut</td>\n",
       "      <td>USD</td>\n",
       "      <td>u$s5,390</td>\n",
       "      <td>https://acroadtrip.blob.core.windows.net/publi...</td>\n",
       "      <td>2015</td>\n",
       "      <td>36000 km</td>\n",
       "      <td>gasolina</td>\n",
       "      <td>automÃ¡tica 6 velocidades</td>\n",
       "      <td>La UniÃ³n |Arequipa</td>\n",
       "      <td>Rojo</td>\n",
       "      <td>4 en lÃ­nea</td>\n",
       "      <td>cuero</td>\n",
       "      <td>2497 cc</td>\n",
       "    </tr>\n",
       "    <tr>\n",
       "      <th>4</th>\n",
       "      <td>Ford</td>\n",
       "      <td>Territory</td>\n",
       "      <td>Titanium Plus</td>\n",
       "      <td>USD</td>\n",
       "      <td>u$s24,900</td>\n",
       "      <td>https://acroadtrip.blob.core.windows.net/publi...</td>\n",
       "      <td>2021</td>\n",
       "      <td>29300 km</td>\n",
       "      <td>gasolina</td>\n",
       "      <td>automÃ¡tica 8 velocidades</td>\n",
       "      <td>Lima |Lima</td>\n",
       "      <td>Blanco</td>\n",
       "      <td>4 en lÃ­nea</td>\n",
       "      <td>cuero</td>\n",
       "      <td>1500 cc</td>\n",
       "    </tr>\n",
       "  </tbody>\n",
       "</table>\n",
       "</div>"
      ],
      "text/plain": [
       "   Brands     Models         Version Currency      Price  \\\n",
       "0      MG          3         1.5 Std      USD   u$s4,800   \n",
       "1     KIA     Cerato     1.6L EX Aut      USD   u$s7,999   \n",
       "2  Toyota       Rav4   2.0L Full 4x2      USD   u$s8,800   \n",
       "3   Mazda    3 Sport  2.5L High  Aut      USD   u$s5,390   \n",
       "4    Ford  Territory   Titanium Plus      USD  u$s24,900   \n",
       "\n",
       "                                              Urlpic  Year         KM  \\\n",
       "0  https://acroadtrip.blob.core.windows.net/publi...  2014   85000 km   \n",
       "1  https://acroadtrip.blob.core.windows.net/publi...  2014  156000 km   \n",
       "2  https://acroadtrip.blob.core.windows.net/publi...  2018   17000 km   \n",
       "3  https://acroadtrip.blob.core.windows.net/publi...  2015   36000 km   \n",
       "4  https://acroadtrip.blob.core.windows.net/publi...  2021   29300 km   \n",
       "\n",
       "  Fuel_type               Transmission               Location  \\\n",
       "0  gasolina       manual 5 velocidades             Lima |Lima   \n",
       "1  gasolina  automÃ¡tica 6 velocidades             Lima |Lima   \n",
       "2  gasolina       manual 6 velocidades  Trujillo |La Libertad   \n",
       "3  gasolina  automÃ¡tica 6 velocidades    La UniÃ³n |Arequipa   \n",
       "4  gasolina  automÃ¡tica 8 velocidades             Lima |Lima   \n",
       "\n",
       "             Color    Cilinders Upholstery   Engine  \n",
       "0           Blanco  4 en lÃ­nea       tela  1498 cc  \n",
       "1     Azul Galaxia  4 en lÃ­nea       tela  1591 cc  \n",
       "2  Plata MetÃ¡lico  4 en lÃ­nea       tela  1987 cc  \n",
       "3             Rojo  4 en lÃ­nea      cuero  2497 cc  \n",
       "4           Blanco  4 en lÃ­nea      cuero  1500 cc  "
      ]
     },
     "execution_count": 86,
     "metadata": {},
     "output_type": "execute_result"
    }
   ],
   "source": [
    "autocosmos = pd.read_csv('datasets/raw/autocosmos.csv')\n",
    "print(autocosmos.shape)\n",
    "autocosmos.head()"
   ]
  },
  {
   "cell_type": "code",
   "execution_count": 87,
   "metadata": {},
   "outputs": [
    {
     "data": {
      "text/plain": [
       "Currency\n",
       "USD    1492\n",
       "PEN      84\n",
       "Name: count, dtype: int64"
      ]
     },
     "execution_count": 87,
     "metadata": {},
     "output_type": "execute_result"
    }
   ],
   "source": [
    "autocosmos.Currency.value_counts()"
   ]
  },
  {
   "cell_type": "markdown",
   "metadata": {},
   "source": [
    "## Clean numerical features"
   ]
  },
  {
   "cell_type": "markdown",
   "metadata": {},
   "source": [
    "Create"
   ]
  },
  {
   "cell_type": "code",
   "execution_count": 88,
   "metadata": {},
   "outputs": [],
   "source": [
    "autocosmos[['Price', 'Engine', 'KM', 'Cilinders']] = autocosmos[['Price', 'Engine', 'KM', 'Cilinders']].replace(to_replace = r'[^0-9]',\n",
    "                                                                                                     value = '', regex = True)\\\n",
    "                                                                             .replace(to_replace = '', value = np.nan)\\\n",
    "                                                                             .astype(float)\n",
    "\n",
    "autocosmos['Price'] = np.where(autocosmos['Currency'] == 'PEN',\n",
    "                               autocosmos['Price'] * SOLES_TO_DOLLAR,\n",
    "                               autocosmos['Price'])\n",
    "\n",
    "autocosmos['Currency'] = np.where(autocosmos['Currency'] == 'PEN',\n",
    "                                  'USD',\n",
    "                                  autocosmos['Currency'] )"
   ]
  },
  {
   "cell_type": "markdown",
   "metadata": {},
   "source": [
    "Validate"
   ]
  },
  {
   "cell_type": "code",
   "execution_count": 89,
   "metadata": {},
   "outputs": [
    {
     "data": {
      "text/plain": [
       "Price        float64\n",
       "Engine       float64\n",
       "KM           float64\n",
       "Cilinders    float64\n",
       "dtype: object"
      ]
     },
     "execution_count": 89,
     "metadata": {},
     "output_type": "execute_result"
    }
   ],
   "source": [
    "autocosmos[['Price', 'Engine', 'KM', 'Cilinders']].dtypes"
   ]
  },
  {
   "cell_type": "markdown",
   "metadata": {},
   "source": [
    "Validate"
   ]
  },
  {
   "cell_type": "markdown",
   "metadata": {},
   "source": [
    "## Clean categorical features"
   ]
  },
  {
   "cell_type": "markdown",
   "metadata": {},
   "source": [
    "Check unique values"
   ]
  },
  {
   "cell_type": "code",
   "execution_count": 90,
   "metadata": {},
   "outputs": [
    {
     "data": {
      "text/html": [
       "<div>\n",
       "<style scoped>\n",
       "    .dataframe tbody tr th:only-of-type {\n",
       "        vertical-align: middle;\n",
       "    }\n",
       "\n",
       "    .dataframe tbody tr th {\n",
       "        vertical-align: top;\n",
       "    }\n",
       "\n",
       "    .dataframe thead th {\n",
       "        text-align: right;\n",
       "    }\n",
       "</style>\n",
       "<table border=\"1\" class=\"dataframe\">\n",
       "  <thead>\n",
       "    <tr style=\"text-align: right;\">\n",
       "      <th></th>\n",
       "      <th>Brands</th>\n",
       "      <th>Models</th>\n",
       "      <th>Version</th>\n",
       "      <th>Currency</th>\n",
       "      <th>Urlpic</th>\n",
       "      <th>Fuel_type</th>\n",
       "      <th>Transmission</th>\n",
       "      <th>Location</th>\n",
       "      <th>Color</th>\n",
       "      <th>Upholstery</th>\n",
       "    </tr>\n",
       "  </thead>\n",
       "  <tbody>\n",
       "    <tr>\n",
       "      <th>count</th>\n",
       "      <td>1576</td>\n",
       "      <td>1576</td>\n",
       "      <td>1576</td>\n",
       "      <td>1576</td>\n",
       "      <td>1576</td>\n",
       "      <td>1570</td>\n",
       "      <td>1556</td>\n",
       "      <td>1576</td>\n",
       "      <td>1576</td>\n",
       "      <td>1500</td>\n",
       "    </tr>\n",
       "    <tr>\n",
       "      <th>unique</th>\n",
       "      <td>57</td>\n",
       "      <td>414</td>\n",
       "      <td>884</td>\n",
       "      <td>1</td>\n",
       "      <td>1574</td>\n",
       "      <td>2</td>\n",
       "      <td>46</td>\n",
       "      <td>48</td>\n",
       "      <td>98</td>\n",
       "      <td>12</td>\n",
       "    </tr>\n",
       "    <tr>\n",
       "      <th>top</th>\n",
       "      <td>Toyota</td>\n",
       "      <td>Sportage</td>\n",
       "      <td>1.6L</td>\n",
       "      <td>USD</td>\n",
       "      <td>https://acroadtrip.blob.core.windows.net/publi...</td>\n",
       "      <td>gasolina</td>\n",
       "      <td>manual 5 velocidades</td>\n",
       "      <td>Lima |Lima</td>\n",
       "      <td>Blanco</td>\n",
       "      <td>tela</td>\n",
       "    </tr>\n",
       "    <tr>\n",
       "      <th>freq</th>\n",
       "      <td>158</td>\n",
       "      <td>37</td>\n",
       "      <td>17</td>\n",
       "      <td>1576</td>\n",
       "      <td>2</td>\n",
       "      <td>1435</td>\n",
       "      <td>530</td>\n",
       "      <td>1173</td>\n",
       "      <td>260</td>\n",
       "      <td>1055</td>\n",
       "    </tr>\n",
       "  </tbody>\n",
       "</table>\n",
       "</div>"
      ],
      "text/plain": [
       "        Brands    Models Version Currency  \\\n",
       "count     1576      1576    1576     1576   \n",
       "unique      57       414     884        1   \n",
       "top     Toyota  Sportage    1.6L      USD   \n",
       "freq       158        37      17     1576   \n",
       "\n",
       "                                                   Urlpic Fuel_type  \\\n",
       "count                                                1576      1570   \n",
       "unique                                               1574         2   \n",
       "top     https://acroadtrip.blob.core.windows.net/publi...  gasolina   \n",
       "freq                                                    2      1435   \n",
       "\n",
       "                Transmission    Location   Color Upholstery  \n",
       "count                   1556        1576    1576       1500  \n",
       "unique                    46          48      98         12  \n",
       "top     manual 5 velocidades  Lima |Lima  Blanco       tela  \n",
       "freq                     530        1173     260       1055  "
      ]
     },
     "execution_count": 90,
     "metadata": {},
     "output_type": "execute_result"
    }
   ],
   "source": [
    "autocosmos.describe(include = object)"
   ]
  },
  {
   "cell_type": "markdown",
   "metadata": {},
   "source": [
    "### Brands"
   ]
  },
  {
   "cell_type": "code",
   "execution_count": 91,
   "metadata": {},
   "outputs": [
    {
     "data": {
      "text/plain": [
       "array(['MG', 'KIA', 'Toyota', 'Mazda', 'Ford', 'Hyundai', 'BMW', 'Nissan',\n",
       "       'Jeep', 'Geely', 'Honda', 'Chevrolet', 'Volkswagen', 'Foton',\n",
       "       'Mercedes Benz', 'Audi', 'Fiat', 'Chery', 'Haval', 'Suzuki',\n",
       "       'Jetour', 'JAC', 'Daewoo', 'Renault', 'Subaru', 'Jaguar',\n",
       "       'Great Wall', 'Peugeot', 'Changan', 'DFSK', 'Mahindra',\n",
       "       'Ssangyong', 'Mitsubishi', 'Dodge', 'Land Rover', 'Dongfeng',\n",
       "       'KYC', 'CitroÃ«n', 'BAIC', 'Volvo', 'JMC', 'BYD', 'Mini',\n",
       "       'Golden Dragon', 'ZX Auto', 'Lifan', 'Seat', 'Jinbei', 'Daihatsu',\n",
       "       'RAM', 'Porsche', 'Lexus', 'Zotye', 'Brilliance', 'DS', 'Shineray',\n",
       "       'Soueast'], dtype=object)"
      ]
     },
     "execution_count": 91,
     "metadata": {},
     "output_type": "execute_result"
    }
   ],
   "source": [
    "autocosmos.Brands.unique()"
   ]
  },
  {
   "cell_type": "code",
   "execution_count": 92,
   "metadata": {},
   "outputs": [],
   "source": [
    "autocosmos['Brands'] = np.where(autocosmos['Brands'] == 'CitroÃ«n', 'Citroen', autocosmos['Brands'])\n",
    "autocosmos['Brands'] = autocosmos['Brands'].str.upper()"
   ]
  },
  {
   "cell_type": "code",
   "execution_count": 93,
   "metadata": {},
   "outputs": [
    {
     "data": {
      "text/plain": [
       "array(['MG', 'KIA', 'TOYOTA', 'MAZDA', 'FORD', 'HYUNDAI', 'BMW', 'NISSAN',\n",
       "       'JEEP', 'GEELY', 'HONDA', 'CHEVROLET', 'VOLKSWAGEN', 'FOTON',\n",
       "       'MERCEDES BENZ', 'AUDI', 'FIAT', 'CHERY', 'HAVAL', 'SUZUKI',\n",
       "       'JETOUR', 'JAC', 'DAEWOO', 'RENAULT', 'SUBARU', 'JAGUAR',\n",
       "       'GREAT WALL', 'PEUGEOT', 'CHANGAN', 'DFSK', 'MAHINDRA',\n",
       "       'SSANGYONG', 'MITSUBISHI', 'DODGE', 'LAND ROVER', 'DONGFENG',\n",
       "       'KYC', 'CITROEN', 'BAIC', 'VOLVO', 'JMC', 'BYD', 'MINI',\n",
       "       'GOLDEN DRAGON', 'ZX AUTO', 'LIFAN', 'SEAT', 'JINBEI', 'DAIHATSU',\n",
       "       'RAM', 'PORSCHE', 'LEXUS', 'ZOTYE', 'BRILLIANCE', 'DS', 'SHINERAY',\n",
       "       'SOUEAST'], dtype=object)"
      ]
     },
     "execution_count": 93,
     "metadata": {},
     "output_type": "execute_result"
    }
   ],
   "source": [
    "autocosmos.Brands.unique()"
   ]
  },
  {
   "cell_type": "markdown",
   "metadata": {},
   "source": [
    "### Models"
   ]
  },
  {
   "cell_type": "code",
   "execution_count": 94,
   "metadata": {},
   "outputs": [],
   "source": [
    "def clean_text(text):\n",
    "    if isinstance(text, str):\n",
    "        replacements = {\n",
    "            'Ã¡': 'á',\n",
    "            'Ã©': 'é',\n",
    "            'Ã­': 'í',\n",
    "            'Ã³': 'ó',\n",
    "            'Ãº': 'ú',\n",
    "            'Ã±': 'ñ',\n",
    "            'â€™': '’',\n",
    "            'â€œ': '“',\n",
    "            'â€': '”'\n",
    "        }\n",
    "        for wrong, correct in replacements.items():\n",
    "            text = text.replace(wrong, correct)\n",
    "    return text\n",
    "\n",
    "autocosmos['Models'] = autocosmos['Models'].apply(clean_text)\n",
    "autocosmos['Models'] = autocosmos['Models'].str.upper()"
   ]
  },
  {
   "cell_type": "code",
   "execution_count": 95,
   "metadata": {},
   "outputs": [
    {
     "data": {
      "text/plain": [
       "array(['3', 'CERATO', 'RAV4', '3 SPORT', 'TERRITORY', 'I10', 'SONATA',\n",
       "       'SERIE 4 GRAN COUPÉ', 'VERSA', 'CAMRY', 'COMPASS', 'OKAVANGO',\n",
       "       'PATRIOT', '3 SEDÁN', 'CIVIC', 'PRISMA', 'KICKS', 'RIO HATCHBACK',\n",
       "       'GRAND CHEROKEE', 'SENTRA', 'CROSSFOX', 'COROLLA CROSS', 'COROLLA',\n",
       "       'TUNLAND', 'GOL', 'CLASE C', 'GOLF', 'SERIE 3', 'A4', 'N300 MAX',\n",
       "       'UNO WAY', 'AVANZA', 'TIGGO 2 PRO', 'H2', 'SOLUTO', 'APV',\n",
       "       'TUCSON', 'X70', 'SONET', 'RIO CROSS', 'REFINE', 'DAMAS VAN',\n",
       "       'RIO', 'POLO', 'HILUX', 'YARIS SEDÁN', 'ECOSPORT', 'CELERIO',\n",
       "       'DUSTER', 'JUKE', 'CLASE A', 'TIGGO 7 PRO', 'IMPREZA SEDÁN',\n",
       "       'F-TYPE', 'X-TRAIL', 'H3', '207', 'FORESTER', 'HR-V',\n",
       "       'GRAND NOMADE', 'FUSION', 'RUSH', 'CS35 PLUS', 'GRAND VITARA',\n",
       "       '500', 'SPORTAGE', '6 SEDÁN', 'ELANTRA', 'PASSAT CC', 'EXPLORER',\n",
       "       'BORA', 'H1 VAN', 'PIK UP', 'NIVUS', 'KWID', 'TIGUAN', 'XV',\n",
       "       'KORANDO', 'SORENTO', 'BT-50', 'J4', 'KOLEOS', 'ASX', 'LANCER',\n",
       "       'CX-9', 'DART', 'TIGGO 8 PRO', 'RANGE ROVER SPORT', 'DUSTER OROCH',\n",
       "       'ONIX SEDAN', 'N400 MOVE', 'S500', 'X5 CARGO BOX', 'BERLINGO',\n",
       "       'OUTLANDER', 'JS8', 'TRAVERSE', 'H6', 'ZX PLUS',\n",
       "       'CLASE CLK (COUPE)', 'IMPREZA', 'X35', 'MARCH', 'PRIMERA',\n",
       "       'CRUZE HATCHBACK', 'RANGER', 'I20 ACTIVE', 'JOY BLACK SEDÁN',\n",
       "       'LOGAN', 'CX-3', 'FORTUNER', 'S3', '460 GLT', 'X1',\n",
       "       'LAND CRUISER PRADO', 'TIGGO 2', 'CAPTIVA', 'VAN', 'PARTNER',\n",
       "       'GÉNESIS COUPÉ', 'VIGUS', 'EVOLTIS', 'ACCENT', 'CX-5',\n",
       "       'IMPREZA SPORT', '301', 'SANTA FE', 'HONOR S', 'PICANTO CROSS',\n",
       "       'CLASE GLA', 'AMAROK', 'CX-30', 'XPANDER', 'BALENO', 'SX4',\n",
       "       'GOL SEDÁN', 'V5 MINIVAN', 'F3', 'MURANO', 'S60', 'PICANTO',\n",
       "       'WR-V', 'SWIFT', 'JETTA', 'CK', 'ETIOS', 'QASHQAI', 'AGYA',\n",
       "       'CHEROKEE', 'FRONTIER', 'YARIS HATCHBACK', 'TICO', 'XC40', 'L200',\n",
       "       'MIRAGE G4', 'C4', 'F-350', 'JIMNY', 'H-100', 'STARLET',\n",
       "       'COOPER COUNTRYMAN', 'L200 DK-R', 'OPTIMA', 'CRUZE SEDÁN',\n",
       "       'JOURNEY', 'ESCORT (SEDAN)', 'UP!', 'SPARK GT', 'GRAND I10 HATCH',\n",
       "       'LAND CRUISER', 'CC', 'CS15', 'CX70', 'COOPER', 'ERTIGA',\n",
       "       '2 SEDÁN', 'EXPEDITION', 'PICKUP', 'SPACEFOX', 'XC90',\n",
       "       'PATHFINDER', 'ACCORD', 'LATINA', 'Q22L', 'TRACKER', 'TIGGO 8',\n",
       "       'GRAND CHEROKEE L', 'NAVARA', 'WINGLE 7', 'CORONA', 'ACTYON',\n",
       "       'JOY BLACK', 'VIEW', 'CLASE CLA', '208', 'NATIVA', 'TIGGO 3',\n",
       "       'JOLION', 'F-150', 'CR-V', 'URBAN ARK', 'TIGGO 4 PRO',\n",
       "       'TIIDA SEDÁN', 'T8', 'CLASE S', 'C3', 'SERIE 5', 'RENEGADE', 'A6',\n",
       "       'XC60', 'EQUINOX', 'BEETLE', 'AD', 'AVENSIS', 'L300', 'SELTOS',\n",
       "       'ESCAPE', 'AVEO SEDÁN', 'SAUVANA', 'GRAND I10 SEDAN', 'TRAVELLER',\n",
       "       'N300 MOVE', 'SOUL', 'TRACKER TURBO', 'FLUENCE', 'LEGACY',\n",
       "       '207 COMPACT', 'XE', 'HAN EV', 'SONIC', 'DURANGO', 'ACCENT SEDÁN',\n",
       "       'EMGRAND 7', '86', 'SX5', 'ZX', 'VERNA', 'UNO', 'KOMBI',\n",
       "       'CARRYING', 'VOLEEX C30', 'URBAN CRUISER', 'GX3', 'SERIE 1 COUPÉ',\n",
       "       'T-CROSS', 'TIGGO', 'TAHOE', 'FIORINO', 'FIERA', 'CITY', 'STEPWAY',\n",
       "       '244', 'S-CROSS', 'MASTER MINIBUS', 'SERIE 1', 'Q5', 'SAFE',\n",
       "       'DISCOVERY SPORT', 'ALMERA', 'VIVANT', 'MUSTANG', 'COPPER S',\n",
       "       'AZKARRA', 'VIRTUS', 'GC7', 'VITARA', 'A3 SEDÁN', 'CIAZ',\n",
       "       'COROLLA (SW)', 'FASTBACK', 'CRETA', 'TRUCK', 'IBIZA', 'BALENO 4P',\n",
       "       'KONECT', 'MOBI', 'TERIOS CITY', 'Z4', 'SPIN ACTIV',\n",
       "       'MONTERO SPORT', 'DZIRE', 'ECLIPSE CROSS', 'TRIBECA', '2 SPORT',\n",
       "       '3008', 'ACCENT GNV ECO CAR', '5', 'WRX', 'J6', 'I20', 'AMAROK V6',\n",
       "       'GRAND S3', 'V700', 'MEGANE', 'TOWNER', 'CAYENNE GTS', 'PASSAT',\n",
       "       'COROLLA HATCHBACK', 'PICK UP', 'ACTYON SPORTS', 'REXTON DIESEL',\n",
       "       'CERATO KOUP', 'MIRAGE', 'SX4 SEDÁN', 'K60', '323',\n",
       "       'NP300 FRONTIER', 'CELICA', 'PATROL', 'S PRESSO', 'GRAND SANTA FE',\n",
       "       'GS', 'TIVOLI', 'LEGACY SEDÁN', 'TIGGO 4', 'ZS', '407', '580',\n",
       "       'J2', 'S2', 'GLB', 'HB', 'LANDTREK', 'ESCORT (SW)', 'T600',\n",
       "       'GLORY', 'FUSO', 'MONTERO', 'VENUE', 'NITRO', '4000', 'DISCOVERY',\n",
       "       'DEER', 'WRANGLER', 'SWIFT SEDÁN', 'COOLRAY', 'POLO SEDÁN',\n",
       "       'SPRINTER', 'TIGGO 5', 'VELOSTER', 'CAYENNE S', 'X55', 'RODIUS',\n",
       "       'EON', 'S5', 'V3', 'KYRON', 'STAVIC', 'SEDAN', 'TOUAREG', 'S40',\n",
       "       '560', 'H5', '350Z', 'MOHAVE', 'SAVEIRO', 'CS55', '4', 'ATOS',\n",
       "       'IS', 'JETTA GLI', 'JS3', 'GRAND SUPER VAN', 'LEON', 'Q22',\n",
       "       'F300S', 'OUTBACK', '5008', 'BIPPER', 'CADENZA', 'SWIFT HYBRID',\n",
       "       'GRATOUR PX', 'VELAR', 'ANDINA', 'WINGLE', 'DX3', 'TERRANO II',\n",
       "       'CS75', 'MUSSO GRAND', 'TRANSPORTER', 'X5', 'SAIL', 'C3 AIRCROSS',\n",
       "       'C-ELYSÉE', 'BRONCO SPORT', 'A3', 'M3 SEDÁN', 'INTEGRA', 'GROOVE',\n",
       "       'A5', 'X2', 'OPTRA', 'COLORADO', 'NUBIRA II SEDAN', 'EDGE', 'FIT',\n",
       "       'XANTIA', 'A3 SPORTBACK', 'TRAILBLAZER', 'TERRACAN',\n",
       "       'XSARA PICASSO', 'RACER', 'STRADA WORKING', 'X3', 'ARGO',\n",
       "       'PALIO ADVENTURE', 'FIESTA', 'H1 MINIBUS', 'SPIN', 'AVEO', 'CIELO',\n",
       "       'PILOT', 'ONIX', 'C4 CACTUS'], dtype=object)"
      ]
     },
     "execution_count": 95,
     "metadata": {},
     "output_type": "execute_result"
    }
   ],
   "source": [
    "autocosmos.Models.unique()"
   ]
  },
  {
   "cell_type": "markdown",
   "metadata": {},
   "source": [
    "### Transmission"
   ]
  },
  {
   "cell_type": "markdown",
   "metadata": {},
   "source": [
    "Clean"
   ]
  },
  {
   "cell_type": "code",
   "execution_count": 96,
   "metadata": {},
   "outputs": [],
   "source": [
    "autocosmos['Transmission'] = autocosmos['Transmission'].apply(clean_text)"
   ]
  },
  {
   "cell_type": "markdown",
   "metadata": {},
   "source": [
    "Create"
   ]
  },
  {
   "cell_type": "code",
   "execution_count": 97,
   "metadata": {},
   "outputs": [],
   "source": [
    "autocosmos['Transmission'] = np.select([autocosmos['Transmission'].str.lower().str.strip().str.contains(r'\\b(automática.*manual|manual.*automática)\\b', \n",
    "                                                                                                          regex = True, na = False),\n",
    "                                        autocosmos['Transmission'].str.lower().str.strip().str.contains('manual', na = False),\n",
    "                                        autocosmos['Transmission'].str.lower().str.strip().str.contains('automática', na = False)],\n",
    "                                        ['automatica_secuencial', 'mecanica', 'automatica'],\n",
    "                                        default = 'otros')"
   ]
  },
  {
   "cell_type": "markdown",
   "metadata": {},
   "source": [
    "Validate"
   ]
  },
  {
   "cell_type": "code",
   "execution_count": 98,
   "metadata": {},
   "outputs": [
    {
     "data": {
      "text/plain": [
       "Transmission\n",
       "mecanica                 912\n",
       "automatica               527\n",
       "otros                    110\n",
       "automatica_secuencial     27\n",
       "Name: count, dtype: int64"
      ]
     },
     "execution_count": 98,
     "metadata": {},
     "output_type": "execute_result"
    }
   ],
   "source": [
    "autocosmos['Transmission'].value_counts()"
   ]
  },
  {
   "cell_type": "markdown",
   "metadata": {},
   "source": [
    "### Version"
   ]
  },
  {
   "cell_type": "markdown",
   "metadata": {},
   "source": [
    "Create"
   ]
  },
  {
   "cell_type": "code",
   "execution_count": 99,
   "metadata": {},
   "outputs": [],
   "source": [
    "prem_pattern = r'\\b(?:lx|lux|deluxe|l|ltz|sel|ex-l|sl|xle|sxl|plat|prem|luxury|el|ul|g|signature|diamond|elite|luxe|limited|high|awd|titanium)\\b'\n",
    "\n",
    "autocosmos['Version'] = np.select([autocosmos['Version'].str.lower().str.strip().str.contains(prem_pattern, regex = True, na = False),\n",
    "                                   autocosmos['Version'].str.lower().str.strip().str.contains('4x2', na = False),\n",
    "                                   autocosmos['Version'].str.lower().str.strip().str.contains('4x4', na = False),\n",
    "                                   autocosmos['Version'].str.lower().str.strip().str.contains('delantera', na = False),\n",
    "                                   autocosmos['Version'].str.lower().str.strip().str.contains('posterior', na = False)],\n",
    "                                  ['premium', '4x2', '4x4', 'delantera', 'posterior'],\n",
    "                                  default = 'otros')"
   ]
  },
  {
   "cell_type": "markdown",
   "metadata": {},
   "source": [
    "Validate"
   ]
  },
  {
   "cell_type": "code",
   "execution_count": 100,
   "metadata": {},
   "outputs": [
    {
     "data": {
      "text/plain": [
       "Version\n",
       "otros      1079\n",
       "premium     248\n",
       "4x2         126\n",
       "4x4         123\n",
       "Name: count, dtype: int64"
      ]
     },
     "execution_count": 100,
     "metadata": {},
     "output_type": "execute_result"
    }
   ],
   "source": [
    "autocosmos['Version'].value_counts()"
   ]
  },
  {
   "cell_type": "markdown",
   "metadata": {},
   "source": [
    "### Upholstery"
   ]
  },
  {
   "cell_type": "markdown",
   "metadata": {},
   "source": [
    "Create"
   ]
  },
  {
   "cell_type": "code",
   "execution_count": 101,
   "metadata": {},
   "outputs": [],
   "source": [
    "both_pattern = r'\\b(?:tela.*cuero|cuero.*tela)\\b'\n",
    "autocosmos['Upholstery'] = np.select([autocosmos['Upholstery'].str.lower().str.strip().str.contains(both_pattern, regex = True, na = False),\n",
    "                                      autocosmos['Upholstery'].str.lower().str.strip().str.contains('tela', na = False),\n",
    "                                      autocosmos['Upholstery'].str.lower().str.strip().str.contains('cuero', na = False)],\n",
    "                                     ['tela_cuero', 'tela', 'cuero'],\n",
    "                                     default = 'otros')"
   ]
  },
  {
   "cell_type": "markdown",
   "metadata": {},
   "source": [
    "Validate"
   ]
  },
  {
   "cell_type": "code",
   "execution_count": 102,
   "metadata": {},
   "outputs": [
    {
     "data": {
      "text/plain": [
       "Upholstery\n",
       "tela          1059\n",
       "cuero          346\n",
       "otros          129\n",
       "tela_cuero      42\n",
       "Name: count, dtype: int64"
      ]
     },
     "execution_count": 102,
     "metadata": {},
     "output_type": "execute_result"
    }
   ],
   "source": [
    "autocosmos['Upholstery'].value_counts()"
   ]
  },
  {
   "cell_type": "markdown",
   "metadata": {},
   "source": [
    "### Color"
   ]
  },
  {
   "cell_type": "markdown",
   "metadata": {},
   "source": [
    "Create"
   ]
  },
  {
   "cell_type": "code",
   "execution_count": 103,
   "metadata": {},
   "outputs": [],
   "source": [
    "autocosmos['Color'] = autocosmos['Color'].astype(str)\n",
    "\n",
    "def extract_base_color(color):\n",
    "    # Definir patrones de regex para los colores base\n",
    "    patterns = {\n",
    "        'blanco': r'^Blanco',\n",
    "        'plata': r'^Plata',\n",
    "        'gris': r'^Gris',\n",
    "        'rojo': r'^Rojo',\n",
    "        'azul': r'^Azul',\n",
    "        'negro': r'^Negro',\n",
    "        'marron': r'^(Marrón|Chocolate|Beige)',\n",
    "    }\n",
    "    \n",
    "    for base_color, pattern in patterns.items():\n",
    "        if pd.Series(color).str.contains(pattern,  na = False).any():\n",
    "            return base_color\n",
    "    \n",
    "    return 'otros'\n",
    "\n",
    "autocosmos['Color'] = autocosmos['Color'].apply(extract_base_color)"
   ]
  },
  {
   "cell_type": "markdown",
   "metadata": {},
   "source": [
    "Validate"
   ]
  },
  {
   "cell_type": "code",
   "execution_count": 104,
   "metadata": {},
   "outputs": [
    {
     "data": {
      "text/plain": [
       "Color\n",
       "gris      322\n",
       "blanco    284\n",
       "negro     269\n",
       "plata     235\n",
       "rojo      192\n",
       "azul      159\n",
       "otros     103\n",
       "marron     12\n",
       "Name: count, dtype: int64"
      ]
     },
     "execution_count": 104,
     "metadata": {},
     "output_type": "execute_result"
    }
   ],
   "source": [
    "autocosmos['Color'].value_counts()"
   ]
  },
  {
   "cell_type": "markdown",
   "metadata": {},
   "source": [
    "### Location"
   ]
  },
  {
   "cell_type": "markdown",
   "metadata": {},
   "source": [
    "Create"
   ]
  },
  {
   "cell_type": "code",
   "execution_count": 105,
   "metadata": {},
   "outputs": [],
   "source": [
    "autocosmos['Location'] = autocosmos['Location'].str.split('|', expand = True).iloc[:, 1].str.strip()"
   ]
  },
  {
   "cell_type": "code",
   "execution_count": 106,
   "metadata": {},
   "outputs": [],
   "source": [
    "autocosmos['Location'] = np.where(autocosmos['Location'] != 'Lima', 'Provincias', autocosmos['Location'])"
   ]
  },
  {
   "cell_type": "markdown",
   "metadata": {},
   "source": [
    "Validate"
   ]
  },
  {
   "cell_type": "code",
   "execution_count": 107,
   "metadata": {},
   "outputs": [
    {
     "data": {
      "text/plain": [
       "Location\n",
       "Lima          1186\n",
       "Provincias     390\n",
       "Name: count, dtype: int64"
      ]
     },
     "execution_count": 107,
     "metadata": {},
     "output_type": "execute_result"
    }
   ],
   "source": [
    "autocosmos['Location'].value_counts()"
   ]
  },
  {
   "cell_type": "markdown",
   "metadata": {},
   "source": [
    "### Fuel_type"
   ]
  },
  {
   "cell_type": "markdown",
   "metadata": {},
   "source": [
    "Create"
   ]
  },
  {
   "cell_type": "code",
   "execution_count": 108,
   "metadata": {},
   "outputs": [
    {
     "data": {
      "text/plain": [
       "'\\nNothing to do\\n'"
      ]
     },
     "execution_count": 108,
     "metadata": {},
     "output_type": "execute_result"
    }
   ],
   "source": [
    "\"\"\"\n",
    "Nothing to do\n",
    "\"\"\""
   ]
  },
  {
   "cell_type": "markdown",
   "metadata": {},
   "source": [
    "Validate"
   ]
  },
  {
   "cell_type": "code",
   "execution_count": 109,
   "metadata": {},
   "outputs": [
    {
     "data": {
      "text/plain": [
       "Fuel_type\n",
       "gasolina    1435\n",
       "diesel       135\n",
       "Name: count, dtype: int64"
      ]
     },
     "execution_count": 109,
     "metadata": {},
     "output_type": "execute_result"
    }
   ],
   "source": [
    "autocosmos['Fuel_type'].value_counts()"
   ]
  },
  {
   "cell_type": "markdown",
   "metadata": {},
   "source": [
    "## Feature Engineering"
   ]
  },
  {
   "cell_type": "code",
   "execution_count": 110,
   "metadata": {},
   "outputs": [],
   "source": [
    "autocosmos['Age'] = CURRENT_YEAR - autocosmos['Year']"
   ]
  },
  {
   "cell_type": "markdown",
   "metadata": {},
   "source": [
    "Save csv"
   ]
  },
  {
   "cell_type": "code",
   "execution_count": 111,
   "metadata": {},
   "outputs": [],
   "source": [
    "autocosmos.to_csv('datasets/clean/autocosmos_clean.csv', index = False)"
   ]
  },
  {
   "cell_type": "markdown",
   "metadata": {},
   "source": [
    "# Both Sources"
   ]
  },
  {
   "cell_type": "code",
   "execution_count": 112,
   "metadata": {},
   "outputs": [],
   "source": [
    "# read both dataframes\n",
    "neoauto = pd.read_csv('datasets/clean/neoauto_clean.csv')\n",
    "autocosmos = pd.read_csv('datasets/clean/autocosmos_clean.csv')\\\n",
    "               .rename(columns = {'Cilinders': 'Cilinder'})\n",
    "\n",
    "# get intersected columns\n",
    "unique_columns = sorted(list(set(neoauto.columns.tolist()).intersection(set(autocosmos.columns.tolist()))))\n",
    "\n",
    "# concatenate data\n",
    "data = pd.concat([neoauto[unique_columns], autocosmos[unique_columns]], axis = 0, ignore_index = True)\n",
    "\n",
    "# save dataframe\n",
    "data.to_csv('datasets/clean/data.csv', index = False)"
   ]
  }
 ],
 "metadata": {
  "kernelspec": {
   "display_name": "Python 3 (ipykernel)",
   "language": "python",
   "name": "python3"
  }
 },
 "nbformat": 4,
 "nbformat_minor": 2
}
