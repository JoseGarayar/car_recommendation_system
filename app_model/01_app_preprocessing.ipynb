{
 "cells": [
  {
   "cell_type": "markdown",
   "metadata": {},
   "source": [
    "# Notebook configuration"
   ]
  },
  {
   "cell_type": "code",
   "execution_count": 195,
   "metadata": {},
   "outputs": [],
   "source": [
    "import pandas as pd\n",
    "import numpy as np\n",
    "import warnings\n",
    "warnings.filterwarnings('ignore')"
   ]
  },
  {
   "cell_type": "markdown",
   "metadata": {},
   "source": [
    "# Neoauto"
   ]
  },
  {
   "cell_type": "code",
   "execution_count": 198,
   "metadata": {},
   "outputs": [
    {
     "name": "stdout",
     "output_type": "stream",
     "text": [
      "(5362, 15)\n"
     ]
    },
    {
     "data": {
      "text/html": [
       "<div>\n",
       "<style scoped>\n",
       "    .dataframe tbody tr th:only-of-type {\n",
       "        vertical-align: middle;\n",
       "    }\n",
       "\n",
       "    .dataframe tbody tr th {\n",
       "        vertical-align: top;\n",
       "    }\n",
       "\n",
       "    .dataframe thead th {\n",
       "        text-align: right;\n",
       "    }\n",
       "</style>\n",
       "<table border=\"1\" class=\"dataframe\">\n",
       "  <thead>\n",
       "    <tr style=\"text-align: right;\">\n",
       "      <th></th>\n",
       "      <th>Brands</th>\n",
       "      <th>Models</th>\n",
       "      <th>Version</th>\n",
       "      <th>Currency</th>\n",
       "      <th>Price</th>\n",
       "      <th>Urlpic</th>\n",
       "      <th>Year</th>\n",
       "      <th>KM</th>\n",
       "      <th>Fuel_type</th>\n",
       "      <th>Transmission</th>\n",
       "      <th>Location</th>\n",
       "      <th>Color</th>\n",
       "      <th>Cilinder</th>\n",
       "      <th>Upholstery</th>\n",
       "      <th>Engine</th>\n",
       "    </tr>\n",
       "  </thead>\n",
       "  <tbody>\n",
       "    <tr>\n",
       "      <th>0</th>\n",
       "      <td>SUZUKI</td>\n",
       "      <td>S-PRESSO</td>\n",
       "      <td>4x2</td>\n",
       "      <td>USD</td>\n",
       "      <td>US$ 9,800</td>\n",
       "      <td>https://cde.neoauto.pe/autos_usados/360x240/66...</td>\n",
       "      <td>2023.0</td>\n",
       "      <td>16684.0</td>\n",
       "      <td>Gasolina</td>\n",
       "      <td>MecÃ¡nica</td>\n",
       "      <td>Lima, Lima</td>\n",
       "      <td>Rojo</td>\n",
       "      <td>3.0</td>\n",
       "      <td>tela</td>\n",
       "      <td>1,000 cc</td>\n",
       "    </tr>\n",
       "    <tr>\n",
       "      <th>1</th>\n",
       "      <td>DFSK</td>\n",
       "      <td>GLORY 500</td>\n",
       "      <td>Delantera</td>\n",
       "      <td>USD</td>\n",
       "      <td>US$ 12,000</td>\n",
       "      <td>https://cde.neoauto.pe/autos_usados/360x240/70...</td>\n",
       "      <td>2023.0</td>\n",
       "      <td>11054.0</td>\n",
       "      <td>Gas GLP</td>\n",
       "      <td>MecÃ¡nica</td>\n",
       "      <td>Lima, Lima</td>\n",
       "      <td>Blanco</td>\n",
       "      <td>4.0</td>\n",
       "      <td>tela</td>\n",
       "      <td>1,500 cc</td>\n",
       "    </tr>\n",
       "    <tr>\n",
       "      <th>2</th>\n",
       "      <td>TOYOTA</td>\n",
       "      <td>YARIS</td>\n",
       "      <td>Delantera</td>\n",
       "      <td>USD</td>\n",
       "      <td>US$ 15,500</td>\n",
       "      <td>https://cde.neoauto.pe/autos_usados/360x240/70...</td>\n",
       "      <td>2023.0</td>\n",
       "      <td>15500.0</td>\n",
       "      <td>Gas GNV</td>\n",
       "      <td>MecÃ¡nica</td>\n",
       "      <td>Lima, Lima</td>\n",
       "      <td>Rojo</td>\n",
       "      <td>4.0</td>\n",
       "      <td>tela</td>\n",
       "      <td>1,300 cc</td>\n",
       "    </tr>\n",
       "    <tr>\n",
       "      <th>3</th>\n",
       "      <td>FORD</td>\n",
       "      <td>RAPTOR</td>\n",
       "      <td>4x4</td>\n",
       "      <td>USD</td>\n",
       "      <td>US$ 75,900</td>\n",
       "      <td>https://cde.neoauto.pe/autos_usados/360x240/30...</td>\n",
       "      <td>2020.0</td>\n",
       "      <td>12500.0</td>\n",
       "      <td>Gasolina</td>\n",
       "      <td>AutomÃ¡tica - Secuencial</td>\n",
       "      <td>Lima, Lima</td>\n",
       "      <td>Blanco</td>\n",
       "      <td>6.0</td>\n",
       "      <td>tela</td>\n",
       "      <td>3,500 cc</td>\n",
       "    </tr>\n",
       "    <tr>\n",
       "      <th>4</th>\n",
       "      <td>KIA</td>\n",
       "      <td>SPORTAGE</td>\n",
       "      <td>4x2</td>\n",
       "      <td>USD</td>\n",
       "      <td>US$ 27,900</td>\n",
       "      <td>https://cde.neoauto.pe/autos_usados/360x240/70...</td>\n",
       "      <td>2023.0</td>\n",
       "      <td>52130.0</td>\n",
       "      <td>Gasolina</td>\n",
       "      <td>MecÃ¡nica</td>\n",
       "      <td>Lima, Lima</td>\n",
       "      <td>Gris Oscuro</td>\n",
       "      <td>4.0</td>\n",
       "      <td>Asientos de cuero</td>\n",
       "      <td>1,999 cc</td>\n",
       "    </tr>\n",
       "  </tbody>\n",
       "</table>\n",
       "</div>"
      ],
      "text/plain": [
       "   Brands     Models    Version Currency       Price  \\\n",
       "0  SUZUKI   S-PRESSO        4x2      USD   US$ 9,800   \n",
       "1    DFSK  GLORY 500  Delantera      USD  US$ 12,000   \n",
       "2  TOYOTA      YARIS  Delantera      USD  US$ 15,500   \n",
       "3    FORD     RAPTOR        4x4      USD  US$ 75,900   \n",
       "4     KIA   SPORTAGE        4x2      USD  US$ 27,900   \n",
       "\n",
       "                                              Urlpic    Year       KM  \\\n",
       "0  https://cde.neoauto.pe/autos_usados/360x240/66...  2023.0  16684.0   \n",
       "1  https://cde.neoauto.pe/autos_usados/360x240/70...  2023.0  11054.0   \n",
       "2  https://cde.neoauto.pe/autos_usados/360x240/70...  2023.0  15500.0   \n",
       "3  https://cde.neoauto.pe/autos_usados/360x240/30...  2020.0  12500.0   \n",
       "4  https://cde.neoauto.pe/autos_usados/360x240/70...  2023.0  52130.0   \n",
       "\n",
       "  Fuel_type              Transmission    Location        Color  Cilinder  \\\n",
       "0  Gasolina                 MecÃ¡nica  Lima, Lima         Rojo       3.0   \n",
       "1   Gas GLP                 MecÃ¡nica  Lima, Lima       Blanco       4.0   \n",
       "2   Gas GNV                 MecÃ¡nica  Lima, Lima         Rojo       4.0   \n",
       "3  Gasolina  AutomÃ¡tica - Secuencial  Lima, Lima       Blanco       6.0   \n",
       "4  Gasolina                 MecÃ¡nica  Lima, Lima  Gris Oscuro       4.0   \n",
       "\n",
       "          Upholstery    Engine  \n",
       "0               tela  1,000 cc  \n",
       "1               tela  1,500 cc  \n",
       "2               tela  1,300 cc  \n",
       "3               tela  3,500 cc  \n",
       "4  Asientos de cuero  1,999 cc  "
      ]
     },
     "execution_count": 198,
     "metadata": {},
     "output_type": "execute_result"
    }
   ],
   "source": [
    "neoauto = pd.read_csv('datasets/raw/neoauto.csv')\n",
    "print(neoauto.shape)\n",
    "neoauto.head()"
   ]
  },
  {
   "cell_type": "markdown",
   "metadata": {},
   "source": [
    "Declare paths and constants"
   ]
  },
  {
   "cell_type": "code",
   "execution_count": 180,
   "metadata": {},
   "outputs": [],
   "source": [
    "CURRENT_YEAR = 2024"
   ]
  },
  {
   "cell_type": "markdown",
   "metadata": {},
   "source": [
    "## Clean numerical features"
   ]
  },
  {
   "cell_type": "markdown",
   "metadata": {},
   "source": [
    "Change"
   ]
  },
  {
   "cell_type": "code",
   "execution_count": 199,
   "metadata": {},
   "outputs": [],
   "source": [
    "neoauto[['Price', 'Engine']] = neoauto[['Price', 'Engine']].replace(to_replace = r'[ ,a-zA-Z$]', value = '', regex = True)\\\n",
    "                                                           .replace(to_replace = '', value = np.nan)\\\n",
    "                                                           .astype(float)"
   ]
  },
  {
   "cell_type": "markdown",
   "metadata": {},
   "source": [
    "Validate"
   ]
  },
  {
   "cell_type": "code",
   "execution_count": 200,
   "metadata": {},
   "outputs": [
    {
     "data": {
      "text/plain": [
       "Price     float64\n",
       "Engine    float64\n",
       "dtype: object"
      ]
     },
     "execution_count": 200,
     "metadata": {},
     "output_type": "execute_result"
    }
   ],
   "source": [
    "neoauto[['Price', 'Engine']].dtypes"
   ]
  },
  {
   "cell_type": "markdown",
   "metadata": {},
   "source": [
    "## Clean categorical features"
   ]
  },
  {
   "cell_type": "markdown",
   "metadata": {},
   "source": [
    "Check unique values"
   ]
  },
  {
   "cell_type": "code",
   "execution_count": 201,
   "metadata": {},
   "outputs": [
    {
     "data": {
      "text/html": [
       "<div>\n",
       "<style scoped>\n",
       "    .dataframe tbody tr th:only-of-type {\n",
       "        vertical-align: middle;\n",
       "    }\n",
       "\n",
       "    .dataframe tbody tr th {\n",
       "        vertical-align: top;\n",
       "    }\n",
       "\n",
       "    .dataframe thead th {\n",
       "        text-align: right;\n",
       "    }\n",
       "</style>\n",
       "<table border=\"1\" class=\"dataframe\">\n",
       "  <thead>\n",
       "    <tr style=\"text-align: right;\">\n",
       "      <th></th>\n",
       "      <th>Brands</th>\n",
       "      <th>Models</th>\n",
       "      <th>Version</th>\n",
       "      <th>Currency</th>\n",
       "      <th>Urlpic</th>\n",
       "      <th>Fuel_type</th>\n",
       "      <th>Transmission</th>\n",
       "      <th>Location</th>\n",
       "      <th>Color</th>\n",
       "      <th>Upholstery</th>\n",
       "    </tr>\n",
       "  </thead>\n",
       "  <tbody>\n",
       "    <tr>\n",
       "      <th>count</th>\n",
       "      <td>5361</td>\n",
       "      <td>5361</td>\n",
       "      <td>4900</td>\n",
       "      <td>5362</td>\n",
       "      <td>5334</td>\n",
       "      <td>5339</td>\n",
       "      <td>5361</td>\n",
       "      <td>5362</td>\n",
       "      <td>5072</td>\n",
       "      <td>5361</td>\n",
       "    </tr>\n",
       "    <tr>\n",
       "      <th>unique</th>\n",
       "      <td>81</td>\n",
       "      <td>846</td>\n",
       "      <td>541</td>\n",
       "      <td>1</td>\n",
       "      <td>5326</td>\n",
       "      <td>9</td>\n",
       "      <td>3</td>\n",
       "      <td>42</td>\n",
       "      <td>53</td>\n",
       "      <td>2</td>\n",
       "    </tr>\n",
       "    <tr>\n",
       "      <th>top</th>\n",
       "      <td>TOYOTA</td>\n",
       "      <td>RAV4</td>\n",
       "      <td>4x2</td>\n",
       "      <td>USD</td>\n",
       "      <td>https://cde.neoauto.pe/autos_usados/360x240/68...</td>\n",
       "      <td>Gasolina</td>\n",
       "      <td>AutomÃ¡tica - Secuencial</td>\n",
       "      <td>Lima, Lima</td>\n",
       "      <td>Blanco</td>\n",
       "      <td>tela</td>\n",
       "    </tr>\n",
       "    <tr>\n",
       "      <th>freq</th>\n",
       "      <td>495</td>\n",
       "      <td>91</td>\n",
       "      <td>1617</td>\n",
       "      <td>5362</td>\n",
       "      <td>2</td>\n",
       "      <td>4123</td>\n",
       "      <td>2179</td>\n",
       "      <td>4908</td>\n",
       "      <td>849</td>\n",
       "      <td>4125</td>\n",
       "    </tr>\n",
       "  </tbody>\n",
       "</table>\n",
       "</div>"
      ],
      "text/plain": [
       "        Brands Models Version Currency  \\\n",
       "count     5361   5361    4900     5362   \n",
       "unique      81    846     541        1   \n",
       "top     TOYOTA   RAV4     4x2      USD   \n",
       "freq       495     91    1617     5362   \n",
       "\n",
       "                                                   Urlpic Fuel_type  \\\n",
       "count                                                5334      5339   \n",
       "unique                                               5326         9   \n",
       "top     https://cde.neoauto.pe/autos_usados/360x240/68...  Gasolina   \n",
       "freq                                                    2      4123   \n",
       "\n",
       "                    Transmission    Location   Color Upholstery  \n",
       "count                       5361        5362    5072       5361  \n",
       "unique                         3          42      53          2  \n",
       "top     AutomÃ¡tica - Secuencial  Lima, Lima  Blanco       tela  \n",
       "freq                        2179        4908     849       4125  "
      ]
     },
     "execution_count": 201,
     "metadata": {},
     "output_type": "execute_result"
    }
   ],
   "source": [
    "neoauto.describe(include = object)"
   ]
  },
  {
   "cell_type": "markdown",
   "metadata": {},
   "source": [
    "### Transmission"
   ]
  },
  {
   "cell_type": "markdown",
   "metadata": {},
   "source": [
    "Create"
   ]
  },
  {
   "cell_type": "code",
   "execution_count": 202,
   "metadata": {},
   "outputs": [],
   "source": [
    "neoauto['Transmission'] = neoauto['Transmission'].map({'MecÃ¡nica': 'mecanica',\n",
    "                                                       'AutomÃ¡tica': 'automatica',\n",
    "                                                       'AutomÃ¡tica - Secuencial': 'automatica_secuencial'})"
   ]
  },
  {
   "cell_type": "markdown",
   "metadata": {},
   "source": [
    "Validate"
   ]
  },
  {
   "cell_type": "code",
   "execution_count": 203,
   "metadata": {},
   "outputs": [
    {
     "data": {
      "text/plain": [
       "Transmission\n",
       "automatica_secuencial    2179\n",
       "mecanica                 1619\n",
       "automatica               1563\n",
       "Name: count, dtype: int64"
      ]
     },
     "execution_count": 203,
     "metadata": {},
     "output_type": "execute_result"
    }
   ],
   "source": [
    "neoauto['Transmission'].value_counts()"
   ]
  },
  {
   "cell_type": "markdown",
   "metadata": {},
   "source": [
    "### Version"
   ]
  },
  {
   "cell_type": "markdown",
   "metadata": {},
   "source": [
    "Create"
   ]
  },
  {
   "cell_type": "code",
   "execution_count": 204,
   "metadata": {},
   "outputs": [],
   "source": [
    "neoauto['Version'] = np.select([neoauto['Version'].str.lower().str.strip().str.contains('4x2', na = False),\n",
    "                                neoauto['Version'].str.lower().str.strip().str.contains('4x4', na = False),\n",
    "                                neoauto['Version'].str.lower().str.strip().str.contains('delantera', na = False),\n",
    "                                neoauto['Version'].str.lower().str.strip().str.contains('posterior', na = False)],\n",
    "                               ['4x2', '4x4', 'delantera', 'posterior'],\n",
    "                               default = 'otros')"
   ]
  },
  {
   "cell_type": "markdown",
   "metadata": {},
   "source": [
    "Validate"
   ]
  },
  {
   "cell_type": "code",
   "execution_count": 205,
   "metadata": {},
   "outputs": [
    {
     "data": {
      "text/plain": [
       "Version\n",
       "4x2          1919\n",
       "otros        1856\n",
       "4x4           896\n",
       "delantera     469\n",
       "posterior     222\n",
       "Name: count, dtype: int64"
      ]
     },
     "execution_count": 205,
     "metadata": {},
     "output_type": "execute_result"
    }
   ],
   "source": [
    "neoauto['Version'].value_counts()"
   ]
  },
  {
   "cell_type": "markdown",
   "metadata": {},
   "source": [
    "### Upholstery"
   ]
  },
  {
   "cell_type": "markdown",
   "metadata": {},
   "source": [
    "Create"
   ]
  },
  {
   "cell_type": "code",
   "execution_count": 206,
   "metadata": {},
   "outputs": [],
   "source": [
    "neoauto['Upholstery'] = np.where(neoauto['Upholstery'] == 'Asientos de cuero', 'cuero', neoauto['Upholstery'])"
   ]
  },
  {
   "cell_type": "markdown",
   "metadata": {},
   "source": [
    "Validate"
   ]
  },
  {
   "cell_type": "code",
   "execution_count": 207,
   "metadata": {},
   "outputs": [
    {
     "data": {
      "text/plain": [
       "Upholstery\n",
       "tela     4125\n",
       "cuero    1236\n",
       "Name: count, dtype: int64"
      ]
     },
     "execution_count": 207,
     "metadata": {},
     "output_type": "execute_result"
    }
   ],
   "source": [
    "neoauto['Upholstery'].value_counts()"
   ]
  },
  {
   "cell_type": "markdown",
   "metadata": {},
   "source": [
    "### Color"
   ]
  },
  {
   "cell_type": "markdown",
   "metadata": {},
   "source": [
    "Create"
   ]
  },
  {
   "cell_type": "code",
   "execution_count": 208,
   "metadata": {},
   "outputs": [],
   "source": [
    "neoauto['Color'] = neoauto['Color'].astype(str)\n",
    "\n",
    "def extract_base_color(color):\n",
    "    # Definir patrones de regex para los colores base\n",
    "    patterns = {\n",
    "        'blanco': r'^Blanco',\n",
    "        'plata': r'^Plata',\n",
    "        'gris': r'^Gris',\n",
    "        'rojo': r'^Rojo',\n",
    "        'azul': r'^Azul',\n",
    "        'negro': r'^Negro',\n",
    "        'marron': r'^(Marrón|Chocolate|Beige)',\n",
    "    }\n",
    "    \n",
    "    for base_color, pattern in patterns.items():\n",
    "        if pd.Series(color).str.contains(pattern,  na = False).any():\n",
    "            return base_color\n",
    "    \n",
    "    return 'Otro'\n",
    "\n",
    "neoauto['Color'] = neoauto['Color'].apply(extract_base_color)"
   ]
  },
  {
   "cell_type": "markdown",
   "metadata": {},
   "source": [
    "Validate"
   ]
  },
  {
   "cell_type": "code",
   "execution_count": 209,
   "metadata": {},
   "outputs": [
    {
     "data": {
      "text/plain": [
       "Color\n",
       "gris      1119\n",
       "blanco     931\n",
       "negro      838\n",
       "Otro       810\n",
       "plata      555\n",
       "rojo       532\n",
       "azul       507\n",
       "marron      70\n",
       "Name: count, dtype: int64"
      ]
     },
     "execution_count": 209,
     "metadata": {},
     "output_type": "execute_result"
    }
   ],
   "source": [
    "neoauto['Color'].value_counts()"
   ]
  },
  {
   "cell_type": "markdown",
   "metadata": {},
   "source": [
    "### Location"
   ]
  },
  {
   "cell_type": "markdown",
   "metadata": {},
   "source": [
    "Create"
   ]
  },
  {
   "cell_type": "code",
   "execution_count": 210,
   "metadata": {},
   "outputs": [],
   "source": [
    "neoauto['Location'] = neoauto['Location'].str.split(',', expand = True).iloc[:, 1].str.strip()"
   ]
  },
  {
   "cell_type": "code",
   "execution_count": 212,
   "metadata": {},
   "outputs": [],
   "source": [
    "neoauto['Location'] = np.where(neoauto['Location'] != 'Lima', 'Provincias', neoauto['Location'])"
   ]
  },
  {
   "cell_type": "markdown",
   "metadata": {},
   "source": [
    "Validate"
   ]
  },
  {
   "cell_type": "code",
   "execution_count": 213,
   "metadata": {},
   "outputs": [
    {
     "data": {
      "text/plain": [
       "Location\n",
       "Lima          4926\n",
       "Provincias     436\n",
       "Name: count, dtype: int64"
      ]
     },
     "execution_count": 213,
     "metadata": {},
     "output_type": "execute_result"
    }
   ],
   "source": [
    "neoauto['Location'].value_counts()"
   ]
  },
  {
   "cell_type": "markdown",
   "metadata": {},
   "source": [
    "### Fuel_type"
   ]
  },
  {
   "cell_type": "markdown",
   "metadata": {},
   "source": [
    "Create"
   ]
  },
  {
   "cell_type": "code",
   "execution_count": 214,
   "metadata": {},
   "outputs": [],
   "source": [
    "neoauto['Fuel_type'] = neoauto['Fuel_type'].map({'Gasolina': 'gasolina',\n",
    "                                                 'Gas GLP': 'gas_glp',\n",
    "                                                 'Diesel': 'diesel',\n",
    "                                                 'Dual': 'dual',\n",
    "                                                 'Gas GNV': 'gas_gnv',\n",
    "                                                 'Gasolina-HÃ­brido': 'otros',\n",
    "                                                 'ElÃ©ctrico': 'electrico'})"
   ]
  },
  {
   "cell_type": "markdown",
   "metadata": {},
   "source": [
    "Validate"
   ]
  },
  {
   "cell_type": "code",
   "execution_count": 215,
   "metadata": {},
   "outputs": [
    {
     "data": {
      "text/plain": [
       "Fuel_type\n",
       "gasolina     4123\n",
       "dual          441\n",
       "diesel        423\n",
       "gas_glp       148\n",
       "gas_gnv        76\n",
       "otros          69\n",
       "electrico      12\n",
       "Name: count, dtype: int64"
      ]
     },
     "execution_count": 215,
     "metadata": {},
     "output_type": "execute_result"
    }
   ],
   "source": [
    "neoauto['Fuel_type'].value_counts()"
   ]
  },
  {
   "cell_type": "markdown",
   "metadata": {},
   "source": [
    "## Feature Engineering"
   ]
  },
  {
   "cell_type": "code",
   "execution_count": 216,
   "metadata": {},
   "outputs": [],
   "source": [
    "neoauto['Age'] = CURRENT_YEAR - neoauto['Year']"
   ]
  },
  {
   "cell_type": "markdown",
   "metadata": {},
   "source": [
    "Save csv"
   ]
  },
  {
   "cell_type": "code",
   "execution_count": 217,
   "metadata": {},
   "outputs": [],
   "source": [
    "neoauto.to_csv('datasets/clean/neoauto_clean.csv', index = False)"
   ]
  },
  {
   "cell_type": "markdown",
   "metadata": {},
   "source": [
    "# Autocosmos"
   ]
  },
  {
   "cell_type": "markdown",
   "metadata": {},
   "source": [
    "Read data"
   ]
  },
  {
   "cell_type": "code",
   "execution_count": 219,
   "metadata": {},
   "outputs": [
    {
     "name": "stdout",
     "output_type": "stream",
     "text": [
      "(1576, 15)\n"
     ]
    },
    {
     "data": {
      "text/html": [
       "<div>\n",
       "<style scoped>\n",
       "    .dataframe tbody tr th:only-of-type {\n",
       "        vertical-align: middle;\n",
       "    }\n",
       "\n",
       "    .dataframe tbody tr th {\n",
       "        vertical-align: top;\n",
       "    }\n",
       "\n",
       "    .dataframe thead th {\n",
       "        text-align: right;\n",
       "    }\n",
       "</style>\n",
       "<table border=\"1\" class=\"dataframe\">\n",
       "  <thead>\n",
       "    <tr style=\"text-align: right;\">\n",
       "      <th></th>\n",
       "      <th>Brands</th>\n",
       "      <th>Models</th>\n",
       "      <th>Version</th>\n",
       "      <th>Currency</th>\n",
       "      <th>Price</th>\n",
       "      <th>Urlpic</th>\n",
       "      <th>Year</th>\n",
       "      <th>KM</th>\n",
       "      <th>Fuel_type</th>\n",
       "      <th>Transmission</th>\n",
       "      <th>Location</th>\n",
       "      <th>Color</th>\n",
       "      <th>Cilinders</th>\n",
       "      <th>Upholstery</th>\n",
       "      <th>Engine</th>\n",
       "    </tr>\n",
       "  </thead>\n",
       "  <tbody>\n",
       "    <tr>\n",
       "      <th>0</th>\n",
       "      <td>MG</td>\n",
       "      <td>3</td>\n",
       "      <td>1.5 Std</td>\n",
       "      <td>USD</td>\n",
       "      <td>u$s4,800</td>\n",
       "      <td>https://acroadtrip.blob.core.windows.net/publi...</td>\n",
       "      <td>2014</td>\n",
       "      <td>85000 km</td>\n",
       "      <td>gasolina</td>\n",
       "      <td>manual 5 velocidades</td>\n",
       "      <td>Lima |Lima</td>\n",
       "      <td>Blanco</td>\n",
       "      <td>4 en lÃ­nea</td>\n",
       "      <td>tela</td>\n",
       "      <td>1498 cc</td>\n",
       "    </tr>\n",
       "    <tr>\n",
       "      <th>1</th>\n",
       "      <td>KIA</td>\n",
       "      <td>Cerato</td>\n",
       "      <td>1.6L EX Aut</td>\n",
       "      <td>USD</td>\n",
       "      <td>u$s7,999</td>\n",
       "      <td>https://acroadtrip.blob.core.windows.net/publi...</td>\n",
       "      <td>2014</td>\n",
       "      <td>156000 km</td>\n",
       "      <td>gasolina</td>\n",
       "      <td>automÃ¡tica 6 velocidades</td>\n",
       "      <td>Lima |Lima</td>\n",
       "      <td>Azul Galaxia</td>\n",
       "      <td>4 en lÃ­nea</td>\n",
       "      <td>tela</td>\n",
       "      <td>1591 cc</td>\n",
       "    </tr>\n",
       "    <tr>\n",
       "      <th>2</th>\n",
       "      <td>Toyota</td>\n",
       "      <td>Rav4</td>\n",
       "      <td>2.0L Full 4x2</td>\n",
       "      <td>USD</td>\n",
       "      <td>u$s8,800</td>\n",
       "      <td>https://acroadtrip.blob.core.windows.net/publi...</td>\n",
       "      <td>2018</td>\n",
       "      <td>17000 km</td>\n",
       "      <td>gasolina</td>\n",
       "      <td>manual 6 velocidades</td>\n",
       "      <td>Trujillo |La Libertad</td>\n",
       "      <td>Plata MetÃ¡lico</td>\n",
       "      <td>4 en lÃ­nea</td>\n",
       "      <td>tela</td>\n",
       "      <td>1987 cc</td>\n",
       "    </tr>\n",
       "    <tr>\n",
       "      <th>3</th>\n",
       "      <td>Mazda</td>\n",
       "      <td>3 Sport</td>\n",
       "      <td>2.5L High  Aut</td>\n",
       "      <td>USD</td>\n",
       "      <td>u$s5,390</td>\n",
       "      <td>https://acroadtrip.blob.core.windows.net/publi...</td>\n",
       "      <td>2015</td>\n",
       "      <td>36000 km</td>\n",
       "      <td>gasolina</td>\n",
       "      <td>automÃ¡tica 6 velocidades</td>\n",
       "      <td>La UniÃ³n |Arequipa</td>\n",
       "      <td>Rojo</td>\n",
       "      <td>4 en lÃ­nea</td>\n",
       "      <td>cuero</td>\n",
       "      <td>2497 cc</td>\n",
       "    </tr>\n",
       "    <tr>\n",
       "      <th>4</th>\n",
       "      <td>Ford</td>\n",
       "      <td>Territory</td>\n",
       "      <td>Titanium Plus</td>\n",
       "      <td>USD</td>\n",
       "      <td>u$s24,900</td>\n",
       "      <td>https://acroadtrip.blob.core.windows.net/publi...</td>\n",
       "      <td>2021</td>\n",
       "      <td>29300 km</td>\n",
       "      <td>gasolina</td>\n",
       "      <td>automÃ¡tica 8 velocidades</td>\n",
       "      <td>Lima |Lima</td>\n",
       "      <td>Blanco</td>\n",
       "      <td>4 en lÃ­nea</td>\n",
       "      <td>cuero</td>\n",
       "      <td>1500 cc</td>\n",
       "    </tr>\n",
       "  </tbody>\n",
       "</table>\n",
       "</div>"
      ],
      "text/plain": [
       "   Brands     Models         Version Currency      Price  \\\n",
       "0      MG          3         1.5 Std      USD   u$s4,800   \n",
       "1     KIA     Cerato     1.6L EX Aut      USD   u$s7,999   \n",
       "2  Toyota       Rav4   2.0L Full 4x2      USD   u$s8,800   \n",
       "3   Mazda    3 Sport  2.5L High  Aut      USD   u$s5,390   \n",
       "4    Ford  Territory   Titanium Plus      USD  u$s24,900   \n",
       "\n",
       "                                              Urlpic  Year         KM  \\\n",
       "0  https://acroadtrip.blob.core.windows.net/publi...  2014   85000 km   \n",
       "1  https://acroadtrip.blob.core.windows.net/publi...  2014  156000 km   \n",
       "2  https://acroadtrip.blob.core.windows.net/publi...  2018   17000 km   \n",
       "3  https://acroadtrip.blob.core.windows.net/publi...  2015   36000 km   \n",
       "4  https://acroadtrip.blob.core.windows.net/publi...  2021   29300 km   \n",
       "\n",
       "  Fuel_type               Transmission               Location  \\\n",
       "0  gasolina       manual 5 velocidades             Lima |Lima   \n",
       "1  gasolina  automÃ¡tica 6 velocidades             Lima |Lima   \n",
       "2  gasolina       manual 6 velocidades  Trujillo |La Libertad   \n",
       "3  gasolina  automÃ¡tica 6 velocidades    La UniÃ³n |Arequipa   \n",
       "4  gasolina  automÃ¡tica 8 velocidades             Lima |Lima   \n",
       "\n",
       "             Color    Cilinders Upholstery   Engine  \n",
       "0           Blanco  4 en lÃ­nea       tela  1498 cc  \n",
       "1     Azul Galaxia  4 en lÃ­nea       tela  1591 cc  \n",
       "2  Plata MetÃ¡lico  4 en lÃ­nea       tela  1987 cc  \n",
       "3             Rojo  4 en lÃ­nea      cuero  2497 cc  \n",
       "4           Blanco  4 en lÃ­nea      cuero  1500 cc  "
      ]
     },
     "execution_count": 219,
     "metadata": {},
     "output_type": "execute_result"
    }
   ],
   "source": [
    "autocosmos = pd.read_csv('datasets/raw/autocosmos.csv')\n",
    "print(autocosmos.shape)\n",
    "autocosmos.head()"
   ]
  },
  {
   "cell_type": "markdown",
   "metadata": {},
   "source": [
    "## Clean numerical features"
   ]
  },
  {
   "cell_type": "markdown",
   "metadata": {},
   "source": [
    "Create"
   ]
  },
  {
   "cell_type": "code",
   "execution_count": 222,
   "metadata": {},
   "outputs": [],
   "source": [
    "autocosmos[['Price', 'Engine', 'KM']] = autocosmos[['Price', 'Engine', 'KM']].replace(to_replace = r'[ ,a-zA-Z$]', value = '', regex = True)\\\n",
    "                                                                             .replace(to_replace = '', value = np.nan)\\\n",
    "                                                                             .astype(float)"
   ]
  },
  {
   "cell_type": "markdown",
   "metadata": {},
   "source": [
    "Validate"
   ]
  },
  {
   "cell_type": "code",
   "execution_count": 224,
   "metadata": {},
   "outputs": [
    {
     "data": {
      "text/plain": [
       "Price     float64\n",
       "Engine    float64\n",
       "KM        float64\n",
       "dtype: object"
      ]
     },
     "execution_count": 224,
     "metadata": {},
     "output_type": "execute_result"
    }
   ],
   "source": [
    "autocosmos[['Price', 'Engine', 'KM']].dtypesS"
   ]
  },
  {
   "cell_type": "markdown",
   "metadata": {},
   "source": [
    "Validate"
   ]
  },
  {
   "cell_type": "code",
   "execution_count": null,
   "metadata": {},
   "outputs": [
    {
     "data": {
      "text/plain": [
       "Price     float64\n",
       "Engine    float64\n",
       "dtype: object"
      ]
     },
     "metadata": {},
     "output_type": "display_data"
    }
   ],
   "source": [
    "neoauto[['Price', 'Engine']].dtypes"
   ]
  }
 ],
 "metadata": {
  "kernelspec": {
   "display_name": "Python 3 (ipykernel)",
   "language": "python",
   "name": "python3"
  },
  "language_info": {
   "codemirror_mode": {
    "name": "ipython",
    "version": 3
   },
   "file_extension": ".py",
   "mimetype": "text/x-python",
   "name": "python",
   "nbconvert_exporter": "python",
   "pygments_lexer": "ipython3",
   "version": "3.11.9"
  }
 },
 "nbformat": 4,
 "nbformat_minor": 2
}
